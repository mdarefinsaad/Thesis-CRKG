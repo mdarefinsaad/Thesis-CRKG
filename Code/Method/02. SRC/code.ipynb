{
 "cells": [
  {
   "cell_type": "code",
   "execution_count": 1,
   "metadata": {},
   "outputs": [
    {
     "name": "stdout",
     "output_type": "stream",
     "text": [
      "Train Data: (600, 15, 251, 2)\n",
      "Test Data: (200, 15, 251, 2)\n",
      "Evaluation Data: (200, 15, 251, 2)\n"
     ]
    }
   ],
   "source": [
    "import numpy as np\n",
    "from sklearn.linear_model import OrthogonalMatchingPursuit\n",
    "import matplotlib.pyplot as plt\n",
    "from sklearn.model_selection import train_test_split\n",
    "from sklearn.metrics import accuracy_score, confusion_matrix\n",
    "\n",
    "np.set_printoptions(threshold=np.inf)\n",
    "np.set_printoptions(suppress=True)\n",
    "\n",
    "measurement = np.load('../test/dataset/meas_symm_1.npz', allow_pickle=False)\n",
    "# measurement = np.load('../test/dataset/meas_symm_2.npz', allow_pickle=False)\n",
    "# measurement = np.load('../test/dataset/meas_symm_3.npz', allow_pickle=False)\n",
    "# measurement = np.load('../test/dataset/meas_symm_4.npz', allow_pickle=False)\n",
    "# measurement = np.load('../test/dataset/meas_symm_5.npz', allow_pickle=False)\n",
    "# measurement = np.load('../test/dataset/meas_symm_varspeed_1.npz', allow_pickle=False)\n",
    "# measurement = np.load('../test/dataset/meas_asymm_1.npz', allow_pickle=False)\n",
    "# measurement = np.load('../test/dataset/meas_asymm_2.npz', allow_pickle=False)\n",
    "# measurement = np.load('../test/dataset/meas_asymm_reflector_1.npz', allow_pickle=False)\n",
    "# measurement = np.load('../test/dataset/meas_asymm_reflector_2.npz', allow_pickle=False)\n",
    "\n",
    "\n",
    "header, data = measurement['header'], measurement['data']\n",
    "data_cir = data['cirs'][:1000]\n",
    "# First, split into train (60%) and temp (40%) sets\n",
    "trainCIR, tempCIR = train_test_split(data_cir, test_size=0.4, random_state=42)\n",
    "\n",
    "# Now, split tempCIR into test (20%) and evaluation (20%) sets\n",
    "testCIR, evalCIR = train_test_split(tempCIR, test_size=0.5, random_state=42)\n",
    "\n",
    "print(f\"Train Data: {trainCIR.shape}\")\n",
    "print(f\"Test Data: {testCIR.shape}\")\n",
    "print(f\"Evaluation Data: {evalCIR.shape}\")\n",
    "\n",
    "# Tune this parameter\n",
    "no_nonzero_coefs = 5"
   ]
  },
  {
   "cell_type": "code",
   "execution_count": 2,
   "metadata": {},
   "outputs": [],
   "source": [
    "# Define channels\n",
    "alice_channel = 3  # Channel 3 is ALICE (legitimate)\n",
    "eve_channel = 6  # Channel 6 is EVE (illegitimate)\n",
    "\n",
    "train_alice_cirs = trainCIR[:, alice_channel, :, :]  \n",
    "train_eve_cirs = trainCIR[:, eve_channel, :, :]\n",
    "train_alice_magnitude = np.abs(train_alice_cirs[..., 0] + 1j * train_alice_cirs[..., 1])\n",
    "train_eve_magnitude = np.abs(train_eve_cirs[..., 0] + 1j * train_eve_cirs[..., 1])\n",
    "train_data_combined  = np.vstack((train_alice_magnitude, train_eve_magnitude))\n",
    "\n",
    "# Create labels for Alice and Eve for training\n",
    "alice_train_labels = np.zeros(train_alice_magnitude.shape[0])  # Label '0' for Alice.\n",
    "eve_train_labels = np.ones(train_eve_magnitude.shape[0])       # Label '1' for Eve.\n",
    "\n",
    "# Combine data and labels for training\n",
    "train_atoms = train_data_combined\n",
    "train_labels = np.hstack((alice_train_labels, eve_train_labels))\n",
    "\n",
    "# Step 4: Form the Dictionary D from Training Data\n",
    "D = train_atoms.T"
   ]
  },
  {
   "cell_type": "code",
   "execution_count": 3,
   "metadata": {},
   "outputs": [],
   "source": [
    "# # Step 3: Extract Features for Test Data\n",
    "test_alice_CIRs = testCIR[:, alice_channel, :, :]\n",
    "test_eve_CIRs = testCIR[:, eve_channel, :, :]\n",
    "# test amplitude\n",
    "test_alice_magnitude = np.abs(test_alice_CIRs[..., 0] + 1j * test_alice_CIRs[..., 1])\n",
    "test_eve_magnitude = np.abs(test_eve_CIRs[..., 0] + 1j * test_eve_CIRs[..., 1]) \n",
    "test_cirs = np.vstack((test_alice_magnitude, test_eve_magnitude))\n",
    "\n",
    "# Create labels for Alice and Eve for testing\n",
    "alice_test_labels = np.zeros(test_alice_magnitude.shape[0])  # Label '0' for Alice.\n",
    "eve_test_labels = np.ones(test_eve_magnitude.shape[0])       # Label '1' for Eve.\n",
    "\n",
    "# Combine data and labels for testing\n",
    "test_atoms = np.vstack((test_alice_magnitude, test_eve_magnitude))\n",
    "test_labels = np.hstack((alice_test_labels, eve_test_labels))"
   ]
  },
  {
   "cell_type": "code",
   "execution_count": 4,
   "metadata": {},
   "outputs": [],
   "source": [
    "# Step 5: Sparse Coding Function\n",
    "def find_sparse_coefficients(tSample, D, n_nonzero_coefs=no_nonzero_coefs):\n",
    "    omp = OrthogonalMatchingPursuit(n_nonzero_coefs=n_nonzero_coefs)\n",
    "    omp.fit(D, tSample)\n",
    "    return omp.coef_\n",
    "\n",
    "# Step 6: Function to Calculate Residuals for Each Class\n",
    "def calculate_residual(tSample, coefficients, class_indices, D):\n",
    "    coef_class = np.zeros_like(coefficients)\n",
    "    coef_class[class_indices] = coefficients[class_indices]  # Keep onltSample coefficients for the specified class\n",
    "    reconstructed_signal = D @ coef_class\n",
    "    residual = np.linalg.norm(tSample - reconstructed_signal)\n",
    "    return residual\n",
    "\n",
    "# Step 7: Classification Function\n",
    "def classify_signal(tSample, D, trainLabel):\n",
    "    \n",
    "    coefficients = find_sparse_coefficients(tSample, D)\n",
    "    \n",
    "    residuals = []\n",
    "    \n",
    "    unique_classes = np.unique(trainLabel) # 0 and 1\n",
    "    for class_label in unique_classes:\n",
    "        class_indices = np.where(trainLabel == class_label)[0]  # Indices of columns in D belonging to this class\n",
    "        residual = calculate_residual(tSample, coefficients, class_indices, D)\n",
    "        residuals.append(residual)\n",
    "\n",
    "    # Predict the class with the smallest residual\n",
    "    predicted_class = unique_classes[np.argmin(residuals)]\n",
    "    return predicted_class"
   ]
  },
  {
   "cell_type": "code",
   "execution_count": 5,
   "metadata": {},
   "outputs": [
    {
     "name": "stdout",
     "output_type": "stream",
     "text": [
      "Classification Accuracy: 60.75%\n"
     ]
    }
   ],
   "source": [
    "# Step 8: Classifying Test Data and Evaluating the Model\n",
    "predictions = []\n",
    "\n",
    "for testSample in test_atoms:\n",
    "    predicted_class = classify_signal(testSample, D, train_labels)\n",
    "    predictions.append(predicted_class)\n",
    "\n",
    "\n",
    "predictions = np.array(predictions)\n",
    "# print(predictions.shape)\n",
    "\n",
    "\n",
    "accuracy = np.mean(predictions == test_labels)\n",
    "print(f\"Classification Accuracy: {accuracy * 100:.2f}%\")"
   ]
  },
  {
   "cell_type": "code",
   "execution_count": 6,
   "metadata": {},
   "outputs": [
    {
     "name": "stdout",
     "output_type": "stream",
     "text": [
      "Classification Accuracy: 60.75%\n",
      "tp: 182\n",
      "tn: 61\n",
      "fp: 139\n",
      "fn: 18\n",
      "MDR: 0.695\n",
      "FAR: 0.09\n",
      "AR: 0.6075\n"
     ]
    }
   ],
   "source": [
    "# ---------------------------------------------------------- Testing ----------------------------------------------------------\n",
    "# Calculate accuracy\n",
    "accuracy = accuracy_score(test_labels, predictions)\n",
    "print(f\"Classification Accuracy: {accuracy * 100:.2f}%\")\n",
    "\n",
    "# Calculate confusion matrix\n",
    "tn, fp, fn, tp = confusion_matrix(test_labels, predictions, labels=[0, 1]).ravel()\n",
    "\n",
    "print(f\"tp: {tp}\")\n",
    "print(f\"tn: {tn}\")\n",
    "print(f\"fp: {fp}\")\n",
    "print(f\"fn: {fn}\")\n",
    "\n",
    "# Calculate MDR, FAR, AR\n",
    "MDR = fp / (fp + tn) if (fp + tn) > 0 else 0\n",
    "FAR = fn / (fn + tp) if (fn + tp) > 0 else 0\n",
    "gamma = (tp + fn) / (tn + fp) if (tn + fp) > 0 else 0\n",
    "AR = (tp + gamma * tn) / ((tp + fn) + gamma * (tn + fp)) if ((tp + fn) + gamma * (tn + fp)) > 0 else 0\n",
    "\n",
    "print(f\"MDR: {MDR}\")\n",
    "print(f\"FAR: {FAR}\")\n",
    "print(f\"AR: {AR}\")\n"
   ]
  },
  {
   "cell_type": "code",
   "execution_count": 7,
   "metadata": {},
   "outputs": [
    {
     "name": "stdout",
     "output_type": "stream",
     "text": [
      "Classification Accuracy: 67.00%\n",
      "tp: 185\n",
      "tn: 83\n",
      "fp: 117\n",
      "fn: 15\n",
      "MDR: 0.585\n",
      "FAR: 0.075\n",
      "AR: 0.67\n"
     ]
    }
   ],
   "source": [
    "# ---------------------------------------------------------- Evauation ----------------------------------------------------------\n",
    "# Extract CIRs\n",
    "eval_alice_CIRs = evalCIR[:, alice_channel, :, :]\n",
    "eval_eve_CIRs = evalCIR[:, eve_channel, :, :]\n",
    "\n",
    "# Compute magnitudes\n",
    "eval_alice_magnitude = np.abs(eval_alice_CIRs[..., 0] + 1j * eval_alice_CIRs[..., 1])\n",
    "eval_eve_magnitude = np.abs(eval_eve_CIRs[..., 0] + 1j * eval_eve_CIRs[..., 1])\n",
    "\n",
    "# Stack evaluation features\n",
    "eval_atoms = np.vstack((eval_alice_magnitude, eval_eve_magnitude))\n",
    "\n",
    "# Labels for evaluation data\n",
    "eval_alice_labels = np.zeros(eval_alice_magnitude.shape[0])  # Label '0' for Alice\n",
    "eval_eve_labels = np.ones(eval_eve_magnitude.shape[0])       # Label '1' for Eve\n",
    "eval_labels = np.hstack((eval_alice_labels, eval_eve_labels))\n",
    "\n",
    "# Step 8: Classifying Evaluation Data\n",
    "eval_predictions = []\n",
    "\n",
    "for evalSample in eval_atoms:\n",
    "    predicted_class = classify_signal(evalSample, D, train_labels)\n",
    "    eval_predictions.append(predicted_class)\n",
    "\n",
    "eval_predictions = np.array(eval_predictions)\n",
    "\n",
    "# Calculate accuracy\n",
    "eval_accuracy = accuracy_score(eval_labels, eval_predictions)\n",
    "print(f\"Classification Accuracy: {eval_accuracy * 100:.2f}%\")\n",
    "\n",
    "# Calculate confusion matrix\n",
    "tn, fp, fn, tp = confusion_matrix(eval_labels, eval_predictions, labels=[0, 1]).ravel()\n",
    "\n",
    "print(f\"tp: {tp}\")\n",
    "print(f\"tn: {tn}\")\n",
    "print(f\"fp: {fp}\")\n",
    "print(f\"fn: {fn}\")\n",
    "\n",
    "# Calculate MDR, FAR, AR\n",
    "MDR = fp / (fp + tn) if (fp + tn) > 0 else 0\n",
    "FAR = fn / (fn + tp) if (fn + tp) > 0 else 0\n",
    "gamma = (tp + fn) / (tn + fp) if (tn + fp) > 0 else 0\n",
    "AR = (tp + gamma * tn) / ((tp + fn) + gamma * (tn + fp)) if ((tp + fn) + gamma * (tn + fp)) > 0 else 0\n",
    "\n",
    "print(f\"MDR: {MDR}\")\n",
    "print(f\"FAR: {FAR}\")\n",
    "print(f\"AR: {AR}\")\n",
    "\n"
   ]
  }
 ],
 "metadata": {
  "kernelspec": {
   "display_name": "CRKG",
   "language": "python",
   "name": "python3"
  },
  "language_info": {
   "codemirror_mode": {
    "name": "ipython",
    "version": 3
   },
   "file_extension": ".py",
   "mimetype": "text/x-python",
   "name": "python",
   "nbconvert_exporter": "python",
   "pygments_lexer": "ipython3",
   "version": "3.12.3"
  }
 },
 "nbformat": 4,
 "nbformat_minor": 2
}
