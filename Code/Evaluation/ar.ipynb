{
 "cells": [
  {
   "cell_type": "code",
   "execution_count": null,
   "metadata": {
    "vscode": {
     "languageId": "plaintext"
    }
   },
   "outputs": [],
   "source": [
    "# Authentication Rate\n",
    "import numpy as np\n",
    "import matplotlib.pyplot as plt\n",
    "\n",
    "scenarios = [\"Symmetric\", \"Symmetric VarSpeed\", \"Asymmetric\", \"Asymmetric reflector\"]\n",
    "methods = [\"ALPLA\", \"PCA-SVM\", \"SRC\", \"PCA-SRC\", \"Sparse-DL-SVM\"]\n",
    "\n",
    "# Hypothetical accuracy values for each method in each scenario\n",
    "ar_data = np.array([\n",
    "    [0.62, 0.53, 0.68, 0.59],  # Review paper\n",
    "    [0.68, 0.60, 0.70, 0.66],  # Method 1\n",
    "    [0.67, 0.57, 0.63, 0.63],  # Method 2\n",
    "    [0.53, 0.52, 0.49, 0.52],  # Method 3\n",
    "    [0.76, 0.72, 0.84, 0.76],  # Method 4\n",
    "])\n",
    "\n",
    "# Bar width and X-axis positions\n",
    "bar_width = 0.1\n",
    "x = np.arange(len(scenarios))\n",
    "\n",
    "# Create the bar chart\n",
    "fig, ax = plt.subplots(figsize=(10, 6))\n",
    "for i, method in enumerate(methods):\n",
    "    ax.bar(x + i * bar_width, ar_data[i], width=bar_width, label=method)\n",
    "\n",
    "# Formatting\n",
    "ax.set_xlabel(\"Scenarios\", fontsize=12)\n",
    "ax.set_ylabel(\"Authentication Rate \", fontsize=12)\n",
    "ax.set_title(\"Authentication (AR)\", fontsize=14)\n",
    "ax.set_xticks(x + bar_width)\n",
    "ax.set_xticklabels(scenarios, fontsize=11)\n",
    "ax.legend(fontsize=11, title=\"Scenarios\", loc='upper left', bbox_to_anchor=(1, 1))  # Moves legend outside\n",
    "ax.grid(axis=\"y\", linestyle=\"--\", alpha=0.7)\n",
    "\n",
    "ax.set_ylim(0, 1)\n",
    "\n",
    "# Show the plot\n",
    "plt.show()\n"
   ]
  }
 ],
 "metadata": {
  "language_info": {
   "name": "python"
  }
 },
 "nbformat": 4,
 "nbformat_minor": 2
}
