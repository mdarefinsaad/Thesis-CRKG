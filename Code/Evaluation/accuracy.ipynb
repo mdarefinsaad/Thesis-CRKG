{
 "cells": [
  {
   "cell_type": "code",
   "execution_count": null,
   "metadata": {},
   "outputs": [],
   "source": [
    "# Accuracy\n",
    "import numpy as np\n",
    "import matplotlib.pyplot as plt\n",
    "\n",
    "# Sample Data: Classification Accuracy (%) across four scenarios for three methods\n",
    "scenarios = [\"Symmetric\", \"Symmetric VarSpeed\", \"Asymmetric\", \"Asymmetric reflector\"]\n",
    "methods = [\"ALPLA\", \"PCA-SVM\", \"SRC\", \"PCA-SRC\", \"Sparse-DL SVM\"]\n",
    "\n",
    "# Hypothetical accuracy values for each method in each scenario\n",
    "accuracy_data = np.array([\n",
    "    [61, 53, 68, 59],  # Review paper\n",
    "    [68, 60, 70, 66],  # Method 1\n",
    "    [67, 57, 63, 62],  # Method 2\n",
    "    [54, 51, 49, 52],  # Method 3\n",
    "    [76, 72, 84, 76],  # Method 3\n",
    "])\n",
    "\n",
    "# Bar width and X-axis positions\n",
    "bar_width = 0.1\n",
    "x = np.arange(len(scenarios))\n",
    "\n",
    "# Create the bar chart\n",
    "fig, ax = plt.subplots(figsize=(10, 6))\n",
    "for i, method in enumerate(methods):\n",
    "    ax.bar(x + i * bar_width, accuracy_data[i], width=bar_width, label=method)\n",
    "\n",
    "# Formatting\n",
    "ax.set_xlabel(\"Scenarios\", fontsize=12)\n",
    "ax.set_ylabel(\"Accuracy (%)\", fontsize=12)\n",
    "ax.set_title(\"Classification Accuracy\", fontsize=14)\n",
    "ax.set_xticks(x + bar_width)\n",
    "ax.set_xticklabels(scenarios, fontsize=11)\n",
    "ax.legend(fontsize=11, title=\"Scenarios\", loc='upper left', bbox_to_anchor=(1, 1))  # Moves legend outside\n",
    "ax.grid(axis=\"y\", linestyle=\"--\", alpha=0.7)\n",
    "\n",
    "ax.set_ylim(0, 90)\n",
    "\n",
    "# Show the plot\n",
    "plt.show()\n"
   ]
  }
 ],
 "metadata": {
  "kernelspec": {
   "display_name": "CRKG",
   "language": "python",
   "name": "python3"
  },
  "language_info": {
   "name": "python",
   "version": "3.12.3"
  }
 },
 "nbformat": 4,
 "nbformat_minor": 2
}
