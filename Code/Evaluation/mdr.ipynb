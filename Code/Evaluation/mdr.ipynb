{
 "cells": [
  {
   "cell_type": "code",
   "execution_count": null,
   "metadata": {},
   "outputs": [],
   "source": [
    "# Missed Detection Rate\n",
    "import numpy as np\n",
    "import matplotlib.pyplot as plt\n",
    "\n",
    "scenarios = [\"Symmetric\", \"Symmetric VarSpeed\", \"Asymmetric\", \"Asymmetric reflector\"]\n",
    "methods = [\"ALPLA\", \"PCA-SVM\", \"SRC\", \"PCA-SRC\", \"Sparse-DL-SVM\"]\n",
    "\n",
    "# Hypothetical accuracy values for each method in each scenario\n",
    "mdr_data = np.array([\n",
    "    [0.346, 0.505, 0.170, 0.387],  # Review paper\n",
    "    [ 0.296, 0.393, 0.225, 0.272],  # Method 1\n",
    "    [0.381, 0.502, 0.504, 0.454],  # Method 2\n",
    "    [0.571, 0.681, 0.687, 0.7162],  # Method 3\n",
    "    [0.216, 0.273, 0.181, 0.186],  # Method 4\n",
    "])\n",
    "\n",
    "# Bar width and X-axis positions\n",
    "bar_width = 0.1\n",
    "x = np.arange(len(scenarios))\n",
    "\n",
    "# Create the bar chart\n",
    "fig, ax = plt.subplots(figsize=(10, 6))\n",
    "for i, method in enumerate(methods):\n",
    "    ax.bar(x + i * bar_width, mdr_data[i], width=bar_width, label=method)\n",
    "\n",
    "# Formatting\n",
    "ax.set_xlabel(\"Scenarios\", fontsize=12)\n",
    "ax.set_ylabel(\"Missed Detection Rate \", fontsize=12)\n",
    "ax.set_title(\"Missed Detection Rate (MDR)\", fontsize=14)\n",
    "ax.set_xticks(x + bar_width)\n",
    "ax.set_xticklabels(scenarios, fontsize=11)\n",
    "ax.legend(fontsize=11, title=\"Scenarios\", loc='upper left', bbox_to_anchor=(1, 1))  # Moves legend outside\n",
    "ax.grid(axis=\"y\", linestyle=\"--\", alpha=0.7)\n",
    "\n",
    "ax.set_ylim(0, 1)\n",
    "\n",
    "# Show the plot\n",
    "plt.show()\n"
   ]
  }
 ],
 "metadata": {
  "kernelspec": {
   "display_name": "CRKG",
   "language": "python",
   "name": "python3"
  },
  "language_info": {
   "name": "python",
   "version": "3.12.3"
  }
 },
 "nbformat": 4,
 "nbformat_minor": 2
}
