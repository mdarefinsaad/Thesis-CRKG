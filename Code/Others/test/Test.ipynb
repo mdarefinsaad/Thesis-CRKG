{
 "cells": [
  {
   "cell_type": "code",
   "execution_count": 9,
   "id": "f7ccb493-96e1-4b3c-aa18-0a8f21295f48",
   "metadata": {},
   "outputs": [
    {
     "name": "stdout",
     "output_type": "stream",
     "text": [
      "[('timestamp', '<f8'), ('tag_position', '<f8', (3,)), ('speeds', [('forward', '<f8'), ('backward', '<f8'), ('rotation', '<f8')]), ('cirs', '<i2', (15, 251, 2)), ('rssis', '<f8', (15,))]\n"
     ]
    }
   ],
   "source": [
    "import numpy as np\n",
    "import matplotlib.pyplot as plt\n",
    "\n",
    "# Load measurement file:\n",
    "measurement = np.load('dataset/meas_asymm_1.npz')\n",
    "header, data = measurement['header'], measurement['data']\n",
    "\n",
    "# print(header.dtype)\n",
    "print(data.dtype)"
   ]
  },
  {
   "cell_type": "code",
   "execution_count": 2,
   "id": "ebfeb776",
   "metadata": {},
   "outputs": [
    {
     "name": "stdout",
     "output_type": "stream",
     "text": [
      "Header information:\n",
      "Anchor positions (coordinates in mm):\n",
      "A0: (204.0, 2859.0, 1150.0)\n",
      "A1: (5658.0, 2856.0, 1150.0)\n",
      "A2: (2900.0, 184.0, 1150.0)\n"
     ]
    }
   ],
   "source": [
    "print('Header information:')\n",
    "anchor_positions = header['anchor_positions']\n",
    "sq_anchor_positions = anchor_positions.squeeze()\n",
    "\n",
    "print('Anchor positions (coordinates in mm):')\n",
    "for i, anchor in enumerate(sq_anchor_positions):\n",
    "    print(f'A{i}: ({anchor[0]}, {anchor[1]}, {anchor[2]})')"
   ]
  },
  {
   "cell_type": "code",
   "execution_count": 3,
   "id": "e96df156",
   "metadata": {},
   "outputs": [
    {
     "name": "stdout",
     "output_type": "stream",
     "text": [
      "Channels:\n",
      "Trasmitter -> receiver, msg:\n",
      "t0 -> a0, msg: #0\n",
      "t0 -> a1, msg: #0\n",
      "t0 -> a2, msg: #0\n",
      "a0 -> t0, msg: #0\n",
      "a0 -> a1, msg: #0\n",
      "a0 -> a2, msg: #0\n",
      "a1 -> t0, msg: #0\n",
      "a1 -> a0, msg: #0\n",
      "a1 -> a2, msg: #0\n",
      "a2 -> t0, msg: #0\n",
      "a2 -> a0, msg: #0\n",
      "a2 -> a1, msg: #0\n",
      "t0 -> a0, msg: #1\n",
      "t0 -> a1, msg: #1\n",
      "t0 -> a2, msg: #1\n"
     ]
    }
   ],
   "source": [
    "print('Channels:')\n",
    "channels = header['channels'].squeeze()\n",
    "# print(channels)\n",
    "print('Trasmitter -> receiver, msg:')\n",
    "for i, c in enumerate(channels):\n",
    "    print(f'{c[\"transmitter\"]} -> {c[\"receiver\"]}, msg: #{c[\"index\"]}')"
   ]
  },
  {
   "cell_type": "code",
   "execution_count": 8,
   "id": "cabf03a6",
   "metadata": {},
   "outputs": [
    {
     "name": "stdout",
     "output_type": "stream",
     "text": [
      "Average CIR cross-correlations:\n",
      "[[0. 0. 0. 0. 0. 0. 0. 0. 0. 0. 0. 0. 0. 0. 0.]\n",
      " [0. 0. 0. 0. 0. 0. 0. 0. 0. 0. 0. 0. 0. 0. 0.]\n",
      " [0. 0. 0. 0. 0. 0. 0. 0. 0. 0. 0. 0. 0. 0. 0.]\n",
      " [0. 0. 0. 0. 0. 0. 0. 0. 0. 0. 0. 0. 0. 0. 0.]\n",
      " [0. 0. 0. 0. 0. 0. 0. 0. 0. 0. 0. 0. 0. 0. 0.]\n",
      " [0. 0. 0. 0. 0. 0. 0. 0. 0. 0. 0. 0. 0. 0. 0.]\n",
      " [0. 0. 0. 0. 0. 0. 0. 0. 0. 0. 0. 0. 0. 0. 0.]\n",
      " [0. 0. 0. 0. 0. 0. 0. 0. 0. 0. 0. 0. 0. 0. 0.]\n",
      " [0. 0. 0. 0. 0. 0. 0. 0. 0. 0. 0. 0. 0. 0. 0.]\n",
      " [0. 0. 0. 0. 0. 0. 0. 0. 0. 0. 0. 0. 0. 0. 0.]\n",
      " [0. 0. 0. 0. 0. 0. 0. 0. 0. 0. 0. 0. 0. 0. 0.]\n",
      " [0. 0. 0. 0. 0. 0. 0. 0. 0. 0. 0. 0. 0. 0. 0.]\n",
      " [0. 0. 0. 0. 0. 0. 0. 0. 0. 0. 0. 0. 0. 0. 0.]\n",
      " [0. 0. 0. 0. 0. 0. 0. 0. 0. 0. 0. 0. 0. 0. 0.]\n",
      " [0. 0. 0. 0. 0. 0. 0. 0. 0. 0. 0. 0. 0. 0. 0.]]\n"
     ]
    }
   ],
   "source": [
    "print('Average CIR cross-correlations:')\n",
    "average_correlations = np.zeros((len(channels), len(channels)))\n",
    "print(average_correlations)\n",
    "# for i, j in itertools.combinations_with_replacement(range(len(channels)), 2):\n",
    "    \n",
    "    # print(f' ({i},{j})')\n",
    "    # # Create array of correlations:\n",
    "    # ccs = np.fromiter(\n",
    "    #     (cir_correlation(row['cirs'][i], row['cirs'][j]) for row in data),\n",
    "    #     dtype=numpy.float64, count=len(data))\n",
    "\n",
    "    # # Calculate and print average:\n",
    "    # average_correlations[i, j] = numpy.average(ccs)\n",
    "    # average_correlations[j, i] = average_correlations[i, j]\n",
    "    # print(f'  {i:2d} <-> {j:2d}: {average_correlations[i, j]:.2f}')"
   ]
  }
 ],
 "metadata": {
  "kernelspec": {
   "display_name": "Python 3 (ipykernel)",
   "language": "python",
   "name": "python3"
  },
  "language_info": {
   "codemirror_mode": {
    "name": "ipython",
    "version": 3
   },
   "file_extension": ".py",
   "mimetype": "text/x-python",
   "name": "python",
   "nbconvert_exporter": "python",
   "pygments_lexer": "ipython3",
   "version": "3.1.-1"
  }
 },
 "nbformat": 4,
 "nbformat_minor": 5
}
