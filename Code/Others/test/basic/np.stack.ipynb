{
 "cells": [
  {
   "cell_type": "code",
   "execution_count": 2,
   "metadata": {},
   "outputs": [
    {
     "name": "stdout",
     "output_type": "stream",
     "text": [
      "[[1 4 7]\n",
      " [2 5 8]\n",
      " [3 6 9]]\n"
     ]
    }
   ],
   "source": [
    "import numpy as np\n",
    "\n",
    "real_part = np.array([1, 2, 3])\n",
    "imag_part = np.array([4, 5, 6])\n",
    "magnitude = np.array([7, 8, 9])\n",
    "# These arrays could represent data from three different signals. Each array is just a list of numbers.\n",
    "\n",
    "\n",
    "\n",
    "features = np.column_stack([real_part, imag_part, magnitude])\n",
    "print(features)"
   ]
  },
  {
   "cell_type": "code",
   "execution_count": null,
   "metadata": {},
   "outputs": [],
   "source": [
    "simple_clone_dataset = {\n",
    "    'cirs': np.array(\n",
    "        [\n",
    "            [ # CIR 1\n",
    "                [ # Alice - channel\n",
    "                    [1, 2],\n",
    "                    [3, 4],\n",
    "                    [5, 6] # .... [251]\n",
    "                ],\n",
    "                [ # other channel\n",
    "                    [9, 10],\n",
    "                    [11, 12],\n",
    "                    [13, 14]\n",
    "                ],\n",
    "                [ # other channel\n",
    "                    [170, 180],\n",
    "                    [190, 200],\n",
    "                    [210, 220]\n",
    "                ]\n",
    "            ],\n",
    "            [ # CIR 2\n",
    "                [ # Alice\n",
    "                    [25, 26],\n",
    "                    [27, 28],\n",
    "                    [29, 30]\n",
    "                ],\n",
    "                [\n",
    "                    [33, 34],\n",
    "                    [35, 36],\n",
    "                    [37, 38]\n",
    "                ],\n",
    "                [\n",
    "                    [410, 420],\n",
    "                    [430, 440],\n",
    "                    [450, 460]\n",
    "                ]\n",
    "            ],\n",
    "            [ # CIR 3\n",
    "                [\n",
    "                    [49, 50],\n",
    "                    [51, 52],\n",
    "                    [53, 54]\n",
    "                ],\n",
    "                [\n",
    "                    [57, 58],\n",
    "                    [59, 60],\n",
    "                    [61, 62]\n",
    "                ],\n",
    "                [\n",
    "                    [650, 660],\n",
    "                    [670, 680],\n",
    "                    [690, 700]\n",
    "                ]\n",
    "            ]\n",
    "        ]\n",
    "    )\n",
    "}\n",
    "print(simple_clone_dataset['cirs'])"
   ]
  },
  {
   "cell_type": "code",
   "execution_count": 22,
   "metadata": {},
   "outputs": [
    {
     "name": "stdout",
     "output_type": "stream",
     "text": [
      "Real\n",
      "[[170 190 210]\n",
      " [410 430 450]\n",
      " [650 670 690]]\n",
      "Imag\n",
      "[[180 200 220]\n",
      " [420 440 460]\n",
      " [660 680 700]]\n",
      "Magnitude\n",
      "[[247.58836806 275.86228448 304.13812651]\n",
      " [586.94122363 615.22353661 643.50602173]\n",
      " [926.33687177 954.62034338 982.90386102]]\n",
      "\n",
      "Column stack\n",
      "[[170.         190.         210.         180.         200.\n",
      "  220.         247.58836806 275.86228448 304.13812651]\n",
      " [410.         430.         450.         420.         440.\n",
      "  460.         586.94122363 615.22353661 643.50602173]\n",
      " [650.         670.         690.         660.         680.\n",
      "  700.         926.33687177 954.62034338 982.90386102]]\n",
      "(3, 9)\n",
      "-----------------\n",
      "Stack\n",
      "[[[170.         190.         210.        ]\n",
      "  [180.         200.         220.        ]\n",
      "  [247.58836806 275.86228448 304.13812651]]\n",
      "\n",
      " [[410.         430.         450.        ]\n",
      "  [420.         440.         460.        ]\n",
      "  [586.94122363 615.22353661 643.50602173]]\n",
      "\n",
      " [[650.         670.         690.        ]\n",
      "  [660.         680.         700.        ]\n",
      "  [926.33687177 954.62034338 982.90386102]]]\n",
      "(3, 3, 3)\n",
      "-----------------\n"
     ]
    }
   ],
   "source": [
    "real_part = simple_clone_dataset['cirs'][:3, 2, :, 0]\n",
    "imag_part = simple_clone_dataset['cirs'][:3, 2, :, 1]\n",
    "magnitude = np.abs(real_part + 1j * imag_part)\n",
    "print('Real')\n",
    "print(real_part)\n",
    "print('Imag')\n",
    "print(imag_part)\n",
    "print('Magnitude')\n",
    "print(magnitude)\n",
    "print()\n",
    "\n",
    "\n",
    "# These arrays could represent data from three different signals. Each array is just a list of numbers.\n",
    "print('Column stack')\n",
    "features = np.column_stack([real_part, imag_part, magnitude])\n",
    "print(features)\n",
    "print(features.shape)\n",
    "\n",
    "print('-----------------')\n",
    "print('Stack')\n",
    "features = np.stack([real_part, imag_part, magnitude], axis=1)\n",
    "print(features)\n",
    "print(features.shape)\n",
    "\n",
    "print('-----------------')\n",
    "# num_samples, num_features, num_components = features.shape\n",
    "# features_reshaped = features.reshape(-1, num_components)\n",
    "# print(features_reshaped)"
   ]
  },
  {
   "cell_type": "code",
   "execution_count": 5,
   "metadata": {},
   "outputs": [
    {
     "name": "stdout",
     "output_type": "stream",
     "text": [
      "Empty array:\n",
      "[[6.91117021e-310 6.91117021e-310]\n",
      " [1.58101007e-322 1.58101007e-322]\n",
      " [3.84333666e-320 0.00000000e+000]]\n"
     ]
    }
   ],
   "source": [
    "#---------------- np.empty()---------------\n",
    "# Create an empty array with shape (3, 2)\n",
    "array = np.empty((3, 2))\n",
    "\n",
    "print(\"Empty array:\")\n",
    "print(array)"
   ]
  },
  {
   "cell_type": "code",
   "execution_count": 21,
   "metadata": {},
   "outputs": [
    {
     "name": "stdout",
     "output_type": "stream",
     "text": [
      "(3, 3)\n",
      "[[170 190 210]\n",
      " [410 430 450]\n",
      " [650 670 690]]\n",
      "[[1.700e+002 1.800e+002 1.220e-321 1.900e+002 2.000e+002 1.359e-321\n",
      "  2.100e+002 2.200e+002 1.502e-321]\n",
      " [4.100e+002 4.200e+002 2.895e-321 4.300e+002 4.400e+002 3.039e-321\n",
      "  4.500e+002 4.600e+002 3.177e-321]\n",
      " [6.500e+002 6.600e+002 4.575e-321 6.700e+002 6.800e+002 4.713e-321\n",
      "  6.900e+002 7.000e+002 4.852e-321]]\n",
      "[[170.         180.         247.58836806 190.         200.\n",
      "  275.86228448 210.         220.         304.13812651 410.\n",
      "  420.         586.94122363 430.         440.         615.22353661\n",
      "  450.         460.         643.50602173 650.         660.\n",
      "  926.33687177 670.         680.         954.62034338 690.\n",
      "  700.         982.90386102]]\n"
     ]
    }
   ],
   "source": [
    "# Interleave columns\n",
    "interleaved = np.empty((real_part.shape[0], real_part.shape[1] * 3), dtype=float)\n",
    "print(real_part.shape)\n",
    "interleaved[:, 0::3] = real_part\n",
    "print(real_part)\n",
    "interleaved[:, 1::3] = imag_part\n",
    "print(interleaved)\n",
    "interleaved[:, 2::3] = magnitude\n",
    "print(interleaved.reshape(1, -1))"
   ]
  }
 ],
 "metadata": {
  "kernelspec": {
   "display_name": "CRKG",
   "language": "python",
   "name": "python3"
  },
  "language_info": {
   "codemirror_mode": {
    "name": "ipython",
    "version": 3
   },
   "file_extension": ".py",
   "mimetype": "text/x-python",
   "name": "python",
   "nbconvert_exporter": "python",
   "pygments_lexer": "ipython3",
   "version": "3.12.3"
  }
 },
 "nbformat": 4,
 "nbformat_minor": 2
}
