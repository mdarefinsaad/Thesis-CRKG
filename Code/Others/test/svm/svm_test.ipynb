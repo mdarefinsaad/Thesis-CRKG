{
 "cells": [
  {
   "cell_type": "code",
   "execution_count": 29,
   "metadata": {},
   "outputs": [],
   "source": [
    "# SVM example from Scikit-learn\n",
    "# from sklearn import svm\n",
    "# from sklearn.svm import SVC\n",
    "# import numpy as np\n",
    "\n",
    "# x = [[2, 2], [0, 0]]\n",
    "# y = [2, 0]\n",
    "\n",
    "# array = np.array(x)\n",
    "# print(array.shape)\n",
    "\n",
    "# s = svm.SVC().fit(x, y)\n",
    "# s.predict([[2, 2]])\n",
    "# s.predict([[0, 0]])"
   ]
  },
  {
   "cell_type": "code",
   "execution_count": 30,
   "metadata": {},
   "outputs": [
    {
     "name": "stdout",
     "output_type": "stream",
     "text": [
      "[1 1 1 0 0 0 0 1 0 0 0 0 1 0 1 0 1 1 0 0 1 1 0 0 1 0 0 1 0 1]\n",
      "Binary Classification SVM Accuracy: 100.00%\n"
     ]
    }
   ],
   "source": [
    "# Example of SVM for binary classification\n",
    "from sklearn import datasets\n",
    "from sklearn.model_selection import train_test_split\n",
    "from sklearn.svm import SVC\n",
    "from sklearn.metrics import accuracy_score\n",
    "\n",
    "# Load a simple dataset (e.g., the Iris dataset)\n",
    "iris = datasets.load_iris()\n",
    "\n",
    "X = iris.data[:100]  # We take the first 100 samples (only two classes: 0 and 1)\n",
    "y = iris.target[:100] # label\n",
    "\n",
    "# Split the dataset into training and testing sets\n",
    "X_train, X_test, y_train_label, y_test_label = train_test_split(X, y, test_size=0.3, random_state=42)\n",
    "\n",
    "# Create an SVM model\n",
    "svm_model = SVC(kernel='linear')  # Using a linear kernel for simplicity\n",
    "\n",
    "# Train the model\n",
    "svm_model.fit(X_train, y_train_label)\n",
    "\n",
    "# Make predictions\n",
    "y_pred = svm_model.predict(X_test)\n",
    "print(y_pred)\n",
    "\n",
    "# Evaluate the model\n",
    "accuracy = accuracy_score(y_test_label, y_pred)\n",
    "print(f\"Binary Classification SVM Accuracy: {accuracy * 100:.2f}%\")"
   ]
  },
  {
   "cell_type": "code",
   "execution_count": 22,
   "metadata": {},
   "outputs": [
    {
     "data": {
      "text/plain": [
       "array([-1,  1,  1,  1, -1])"
      ]
     },
     "execution_count": 22,
     "metadata": {},
     "output_type": "execute_result"
    }
   ],
   "source": [
    "from sklearn.svm import OneClassSVM\n",
    "X = [[0], [0.44], [0.45], [0.46], [1]]\n",
    "clf = OneClassSVM(gamma='auto').fit(X)\n",
    "clf.predict(X)"
   ]
  },
  {
   "cell_type": "code",
   "execution_count": 32,
   "metadata": {},
   "outputs": [
    {
     "name": "stdout",
     "output_type": "stream",
     "text": [
      "Predictions for new normal data: [-1 -1 -1 -1  1 -1 -1 -1 -1  1  1  1 -1 -1  1  1  1  1 -1 -1]\n",
      "Predictions for strange behavior: [-1  1 -1 -1  1 -1 -1 -1 -1  1  1 -1 -1 -1 -1 -1 -1 -1 -1 -1]\n"
     ]
    }
   ],
   "source": [
    "from sklearn.svm import OneClassSVM\n",
    "import numpy as np\n",
    "import matplotlib.pyplot as plt\n",
    "\n",
    "# Step 1: Create your \"normal\" data\n",
    "# Let's say normal behavior in the park is people staying near the center (around 0,0).\n",
    "normal_behavior = np.random.randn(100, 2)  # 100 normal behaviors, each with 2 features (like x and y positions)\n",
    "\n",
    "# Step 2: Train the OCC-SVM to recognize normal behavior\n",
    "detector = OneClassSVM(gamma='auto')  # Create the detector\n",
    "detector.fit(normal_behavior)         # Train the detector with normal behavior\n",
    "\n",
    "# Step 3: Test with some new data (both normal and strange)\n",
    "new_data = np.random.randn(20, 2)     # More normal behaviors (around 0,0)\n",
    "strange_behavior = np.random.uniform(low=-3, high=3, size=(20, 2))  # Strange behaviors (anywhere in the park)\n",
    "\n",
    "# Step 4: Predict if new data is normal or strange\n",
    "normal_prediction = detector.predict(new_data)\n",
    "strange_prediction = detector.predict(strange_behavior)\n",
    "\n",
    "# Step 5: Visualize the results\n",
    "# plt.scatter(normal_behavior[:, 0], normal_behavior[:, 1], color='blue', label='Normal Behavior')\n",
    "# plt.scatter(new_data[:, 0], new_data[:, 1], color='green', label='New Normal')\n",
    "# plt.scatter(strange_behavior[:, 0], strange_behavior[:, 1], color='red', label='Strange Behavior')\n",
    "# plt.legend()\n",
    "# plt.title('OCC-SVM: Detecting Strange Behavior')\n",
    "# plt.show()\n",
    "\n",
    "print(\"Predictions for new normal data:\", normal_prediction)\n",
    "print(\"Predictions for strange behavior:\", strange_prediction)\n"
   ]
  }
 ],
 "metadata": {
  "kernelspec": {
   "display_name": "CRKG",
   "language": "python",
   "name": "python3"
  },
  "language_info": {
   "codemirror_mode": {
    "name": "ipython",
    "version": 3
   },
   "file_extension": ".py",
   "mimetype": "text/x-python",
   "name": "python",
   "nbconvert_exporter": "python",
   "pygments_lexer": "ipython3",
   "version": "3.12.3"
  }
 },
 "nbformat": 4,
 "nbformat_minor": 2
}
