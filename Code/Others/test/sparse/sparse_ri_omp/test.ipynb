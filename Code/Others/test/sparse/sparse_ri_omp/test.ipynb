{
 "cells": [
  {
   "cell_type": "code",
   "execution_count": null,
   "metadata": {},
   "outputs": [
    {
     "name": "stdout",
     "output_type": "stream",
     "text": [
      "(10, 15)\n",
      "Extracted Coefficients: [0.36705987 0.2818796  0.         0.         0.         0.\n",
      " 0.         0.         0.         0.         0.49342259 0.\n",
      " 0.         0.         0.        ]\n",
      "Extracted Coefficients (Lasso): [ 0.26192678  0.23273936 -0.         -0.          0.00980209  0.\n",
      " -0.25619944 -0.          0.          0.35855601  0.47205512  0.\n",
      " -0.02809427  0.01721322  0.        ]\n",
      "Dictionary: (10, 15)\n",
      "Other way coefficient: [0.44320027 0.28095072 0.         0.         0.         0.\n",
      " 0.         0.         0.         0.         0.59095459 0.\n",
      " 0.         0.         0.        ]\n"
     ]
    }
   ],
   "source": [
    "import numpy as np\n",
    "from sklearn.linear_model import OrthogonalMatchingPursuit\n",
    "from sklearn.linear_model import Lasso\n",
    "\n",
    "def omp_manual(dictionary, signal, sparsity):\n",
    "    n_features = dictionary.shape[1]\n",
    "    # print(n_features)\n",
    "    residual = signal\n",
    "    idx = []\n",
    "    coefficients = np.zeros(n_features)\n",
    "\n",
    "    for _ in range(sparsity):\n",
    "\n",
    "        # Step 1: Find the best matching atom (column from the dictionary)\n",
    "        projections = dictionary.T @ residual\n",
    "        best_atom = np.argmax(projections)\n",
    "        # print(f'best atoms : {best_atom}')\n",
    "        # Step 2: Add the index of the best atom to the list\n",
    "        idx.append(best_atom)\n",
    "        # print(f'idx : {idx}')\n",
    "        \n",
    "        # Step 3: Solve least squares to find new coefficients\n",
    "        selected_atoms = dictionary[:, idx]\n",
    "        # print(f'selected_atoms : {selected_atoms}')\n",
    "        coefficients_ls, _, _, _ = np.linalg.lstsq(selected_atoms, signal, rcond=None)\n",
    "        # print(f'coefficients_ls : {coefficients_ls}')\n",
    "        # Step 4: Update the residual\n",
    "        residual = signal - selected_atoms @ coefficients_ls\n",
    "\n",
    "    # Store the final coefficients\n",
    "    for i, index in enumerate(idx):\n",
    "        coefficients[index] = coefficients_ls[i]\n",
    "\n",
    "    return coefficients\n",
    "\n",
    "def lasso_method(dictionary, signal, alpha=0.01):\n",
    "    lasso = Lasso(alpha=alpha, fit_intercept=False)\n",
    "    lasso.fit(dictionary, signal)\n",
    "    return lasso.coef_\n",
    "\n",
    "\n",
    "# Example usage\n",
    "dictionary = np.random.rand(10, 15)  # Dictionary of 15 atoms, each of length 10\n",
    "signal = np.random.rand(10)           # Input signal of length 10\n",
    "sparsity = 3                          # Desired sparsity level\n",
    "print(dictionary.shape)\n",
    "# print(signal.shape)\n",
    "coefficients = omp_manual(dictionary, signal, sparsity)\n",
    "print(\"Extracted Coefficients:\", coefficients)\n",
    "\n",
    "\n",
    "coefficients_lasso = lasso_method(dictionary, signal)\n",
    "print(\"Extracted Coefficients (Lasso):\", coefficients_lasso)\n",
    "\n",
    "\n",
    "def find_sparse_coefficients(tSample, D, n_nonzero_coefs=3):\n",
    "    print(f'Dictionary: {D.shape}')\n",
    "    omp = OrthogonalMatchingPursuit(n_nonzero_coefs=n_nonzero_coefs)\n",
    "    omp.fit(D, tSample)\n",
    "    return omp.coef_\n",
    "print(f'Other way coefficient: {find_sparse_coefficients(signal, dictionary)}')"
   ]
  }
 ],
 "metadata": {
  "kernelspec": {
   "display_name": "CRKG",
   "language": "python",
   "name": "python3"
  },
  "language_info": {
   "codemirror_mode": {
    "name": "ipython",
    "version": 3
   },
   "file_extension": ".py",
   "mimetype": "text/x-python",
   "name": "python",
   "nbconvert_exporter": "python",
   "pygments_lexer": "ipython3",
   "version": "3.12.3"
  }
 },
 "nbformat": 4,
 "nbformat_minor": 2
}
