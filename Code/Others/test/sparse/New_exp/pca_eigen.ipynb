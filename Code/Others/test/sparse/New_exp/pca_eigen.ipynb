{
 "cells": [
  {
   "cell_type": "code",
   "execution_count": 1,
   "metadata": {},
   "outputs": [
    {
     "name": "stdout",
     "output_type": "stream",
     "text": [
      "Original data shape: (100, 5)\n",
      "Transformed data shape: (100, 2)\n",
      "Explained variance ratio: [0.2848268  0.22198853]\n"
     ]
    }
   ],
   "source": [
    "import numpy as np\n",
    "# With Eigen Decomposition\n",
    "def pca_custom(data, n_components):\n",
    "    \"\"\"\n",
    "    Custom PCA function to reduce the dimensionality of the data.\n",
    "\n",
    "    Parameters:\n",
    "    - data: Input data of shape (samples, features)\n",
    "    - n_components: The number of principal components to keep\n",
    "\n",
    "    Returns:\n",
    "    - transformed_data: Data transformed to the new feature space with reduced dimensionality\n",
    "    - explained_variance_ratio: Ratio of variance explained by the selected components\n",
    "    \"\"\"\n",
    "    # Step 1: Standardize the Data (Mean Centering)\n",
    "    mean_centered_data = data - np.mean(data, axis=0)  # Subtract the mean of each feature\n",
    "    # Shape of mean_centered_data: (samples, features)\n",
    "\n",
    "    # Step 2: Compute the Covariance Matrix\n",
    "    covariance_matrix = np.cov(mean_centered_data, rowvar=False)\n",
    "    # Shape of covariance_matrix: (features, features)\n",
    "\n",
    "    # Step 3: Eigen Decomposition of the Covariance Matrix\n",
    "    eigenvalues, eigenvectors = np.linalg.eigh(covariance_matrix)\n",
    "    # eigenvalues: Array of eigenvalues\n",
    "    # eigenvectors: Matrix whose columns are the corresponding eigenvectors\n",
    "\n",
    "    # Step 4: Sort Eigenvalues and Corresponding Eigenvectors\n",
    "    sorted_indices = np.argsort(eigenvalues)[::-1]  # Sort in descending order\n",
    "    sorted_eigenvalues = eigenvalues[sorted_indices]\n",
    "    sorted_eigenvectors = eigenvectors[:, sorted_indices]\n",
    "\n",
    "    # Step 5: Select the Top n_components Eigenvectors\n",
    "    selected_eigenvectors = sorted_eigenvectors[:, :n_components]\n",
    "    # Shape of selected_eigenvectors: (features, n_components)\n",
    "\n",
    "    # Step 6: Transform the Data to the New Feature Space\n",
    "    transformed_data = np.dot(mean_centered_data, selected_eigenvectors)\n",
    "    # Shape of transformed_data: (samples, n_components)\n",
    "\n",
    "    # Calculate the Explained Variance Ratio\n",
    "    total_variance = np.sum(sorted_eigenvalues)\n",
    "    explained_variance = sorted_eigenvalues[:n_components]\n",
    "    explained_variance_ratio = explained_variance / total_variance\n",
    "\n",
    "    return transformed_data, explained_variance_ratio\n",
    "\n",
    "# Example usage:\n",
    "data = np.random.rand(100, 5)  # 100 samples, 5 features\n",
    "n_components = 2  # Reduce to 2 components\n",
    "\n",
    "transformed_data, explained_variance_ratio = pca_custom(data, n_components)\n",
    "print(\"Original data shape:\", data.shape)  # Output: (100, 5)\n",
    "print(\"Transformed data shape:\", transformed_data.shape)  # Output: (100, 2)\n",
    "print(\"Explained variance ratio:\", explained_variance_ratio)\n"
   ]
  },
  {
   "cell_type": "code",
   "execution_count": null,
   "metadata": {},
   "outputs": [],
   "source": []
  }
 ],
 "metadata": {
  "kernelspec": {
   "display_name": "CRKG",
   "language": "python",
   "name": "python3"
  },
  "language_info": {
   "codemirror_mode": {
    "name": "ipython",
    "version": 3
   },
   "file_extension": ".py",
   "mimetype": "text/x-python",
   "name": "python",
   "nbconvert_exporter": "python",
   "pygments_lexer": "ipython3",
   "version": "3.12.3"
  }
 },
 "nbformat": 4,
 "nbformat_minor": 2
}
