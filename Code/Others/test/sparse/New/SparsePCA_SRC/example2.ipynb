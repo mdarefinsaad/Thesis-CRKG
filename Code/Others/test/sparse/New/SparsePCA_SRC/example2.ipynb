{
 "cells": [
  {
   "cell_type": "code",
   "execution_count": 23,
   "metadata": {},
   "outputs": [],
   "source": [
    "# Library\n",
    "import numpy as np\n",
    "from sklearn.linear_model import OrthogonalMatchingPursuit\n",
    "from sklearn.model_selection import train_test_split \n",
    "from sklearn.metrics import confusion_matrix\n",
    "from sklearn.decomposition import DictionaryLearning, sparse_encode\n",
    "from sklearn.preprocessing import StandardScaler\n",
    "from sklearn.decomposition import PCA\n",
    "from sklearn.linear_model import LogisticRegression\n",
    "\n",
    "np.set_printoptions(threshold=np.inf)\n",
    "np.set_printoptions(suppress=True)\n",
    "\n",
    "# Load data\n",
    "measurement = np.load('../../../dataset/meas_symm_1.npz', allow_pickle=False)\n",
    "header, data = measurement['header'], measurement['data']\n",
    "data_cir = data['cirs'][:8000]  # Using 1000 samples for simplicity\n",
    "\n",
    "# Split data\n",
    "trainCIR, testCIR = train_test_split(data_cir, test_size=0.2, random_state=42)\n",
    "\n",
    "# Define channels\n",
    "alice_channel = 3  # Channel 3 is ALICE (legitimate)\n",
    "eve_channel = 6    # Channel 6 is EVE (illegitimate)\n",
    "\n",
    "# Set the number of dictionary atoms (components) and sparsity level\n",
    "# N_components = 3  # Number of Sparse Components\n",
    "n_components = 10  # Adjust this number based on your data\n",
    "n_nonzero_coefs = 5  # Number of non-zero coefficients in sparse coding"
   ]
  },
  {
   "cell_type": "code",
   "execution_count": 24,
   "metadata": {},
   "outputs": [
    {
     "name": "stdout",
     "output_type": "stream",
     "text": [
      "Training data shape: (12800, 10)\n"
     ]
    }
   ],
   "source": [
    "# ----------------------------------------------------- Preprocessing -----------------------------------------------------\n",
    "# ----------------- Training data -----------------\n",
    "train_alice_cirs = trainCIR[:, alice_channel, :, :]  # Alice's CIRs\n",
    "train_eve_cirs = trainCIR[:, eve_channel, :, :]      # Eve's CIRs\n",
    "train_alice_magnitude = np.abs(train_alice_cirs[..., 0] + 1j * train_alice_cirs[..., 1])\n",
    "train_eve_magnitude = np.abs(train_eve_cirs[..., 0] + 1j * train_eve_cirs[..., 1])\n",
    "train_data_combined  = np.vstack((train_alice_magnitude, train_eve_magnitude))\n",
    "\n",
    "# Learn the dictionary\n",
    "dict_learner = DictionaryLearning(n_components=n_components, transform_algorithm='lasso_lars', transform_n_nonzero_coefs=n_nonzero_coefs)\n",
    "dict_learner.fit(train_data_combined)\n",
    "D_learned = dict_learner.components_  # Shape: (n_components, feature_dim)\n",
    "\n",
    "\n",
    "# Transform training data into sparse codes\n",
    "train_alice_sparse_codes = dict_learner.transform(train_alice_magnitude)\n",
    "train_eve_sparse_codes = dict_learner.transform(train_eve_magnitude)\n",
    "train_sparse_codes = np.vstack((train_alice_sparse_codes, train_eve_sparse_codes))\n",
    "\n",
    "print('Training data shape:', train_sparse_codes.shape)"
   ]
  },
  {
   "cell_type": "code",
   "execution_count": 25,
   "metadata": {},
   "outputs": [
    {
     "name": "stdout",
     "output_type": "stream",
     "text": [
      "Test data shape: (3200, 10)\n"
     ]
    }
   ],
   "source": [
    "test_alice_CIRs = testCIR[:, alice_channel, :, :]\n",
    "test_eve_CIRs = testCIR[:, eve_channel, :, :]\n",
    "\n",
    "# test amplitude\n",
    "test_alice_magnitude = np.abs(test_alice_CIRs[..., 0] + 1j * test_alice_CIRs[..., 1])\n",
    "test_eve_magnitude = np.abs(test_eve_CIRs[..., 0] + 1j * test_eve_CIRs[..., 1]) \n",
    "test_cirs = np.vstack((test_alice_magnitude, test_eve_magnitude))\n",
    "\n",
    "\n",
    "# Transform test data into sparse codes\n",
    "test_alice_sparse_codes = dict_learner.transform(test_alice_magnitude)\n",
    "test_eve_sparse_codes = dict_learner.transform(test_eve_magnitude)\n",
    "\n",
    "# Combine the sparse codes\n",
    "test_sparse_codes = np.vstack((test_alice_sparse_codes, test_eve_sparse_codes))\n",
    "print('Test data shape:', test_sparse_codes.shape)"
   ]
  },
  {
   "cell_type": "code",
   "execution_count": 26,
   "metadata": {},
   "outputs": [],
   "source": [
    "# Labels for training data\n",
    "train_alice_labels = np.zeros(train_alice_sparse_codes.shape[0])  # Label '0' for Alice.\n",
    "train_eve_labels = np.ones(train_eve_sparse_codes.shape[0])       # Label '1' for Eve.\n",
    "train_labels = np.hstack((train_alice_labels, train_eve_labels))\n",
    "\n",
    "# Labels for test data\n",
    "test_alice_labels = np.zeros(test_alice_sparse_codes.shape[0])  # Label '0' for Alice.\n",
    "test_eve_labels = np.ones(test_eve_sparse_codes.shape[0])       # Label '1' for Eve.\n",
    "test_labels = np.hstack((test_alice_labels, test_eve_labels))\n"
   ]
  },
  {
   "cell_type": "code",
   "execution_count": 27,
   "metadata": {},
   "outputs": [],
   "source": [
    "# Dictionary\n",
    "D = train_sparse_codes.T"
   ]
  },
  {
   "cell_type": "code",
   "execution_count": 28,
   "metadata": {},
   "outputs": [],
   "source": [
    "# ---------------------------------------------- Sparse Coding & Classification ------------------------------------------------\n",
    "# Sparse Coding Function\n",
    "def find_sparse_coefficients(tSample, D, n_nonzero_coefs=5):\n",
    "    omp = OrthogonalMatchingPursuit(n_nonzero_coefs=n_nonzero_coefs)\n",
    "    omp.fit(D, tSample)\n",
    "    return omp.coef_\n",
    "\n",
    "# Calculate Residuals for Each Class\n",
    "def calculate_residual(tSample, D, coefficients, class_indices):\n",
    "    coef_class = np.zeros_like(coefficients)\n",
    "    coef_class[class_indices] = coefficients[class_indices]\n",
    "    \n",
    "    reconstructed_signal = D @ coef_class # (251,) = (251, 1600) @ (1600,)\n",
    "    residual = np.linalg.norm(tSample - reconstructed_signal)\n",
    "\n",
    "    return residual\n",
    "\n",
    "# Classification Function\n",
    "def classify_signal(tSample, D, trainLabel):\n",
    "    \n",
    "    # sparse coefficients for the new signal\n",
    "    coefficients = find_sparse_coefficients(tSample, D) \n",
    "    # coefficients.shape = (number_of_atoms/signal, )\n",
    "    \n",
    "    # Residuals list\n",
    "    residuals = []\n",
    "\n",
    "    # Calculate residual for each class\n",
    "    unique_classes = np.unique(trainLabel) # 0 and 1\n",
    "    for class_label in unique_classes:\n",
    "        class_indices = np.where(trainLabel == class_label)  # Indices of columns in D belonging to this class\n",
    "        # print('class_indices:', class_indices)\n",
    "        residual = calculate_residual(tSample, D, coefficients, class_indices)\n",
    "        residuals.append(residual)\n",
    "\n",
    "    # Predict the class with the smallest residual\n",
    "    predicted_class = unique_classes[np.argmin(residuals)]\n",
    "    # print('Predicted class:', predicted_class)\n",
    "    return predicted_class\n",
    "\n",
    "# Step 8: Classifying Test Data and Evaluating the Model\n",
    "predictions = []\n",
    "\n",
    "for cir in test_sparse_codes:\n",
    "    predicted_class = classify_signal(cir, D, train_labels)\n",
    "    predictions.append(predicted_class)\n",
    "\n",
    "predictions = np.array(predictions)\n",
    "# print(predictions.shape)\n"
   ]
  },
  {
   "cell_type": "code",
   "execution_count": 29,
   "metadata": {},
   "outputs": [
    {
     "name": "stdout",
     "output_type": "stream",
     "text": [
      "Classification Accuracy: 52.44%\n",
      "tp: 1479\n",
      "tn: 199\n",
      "fp: 1401\n",
      "fn: 121\n",
      "MDR: 0.875625\n",
      "FAR: 0.075625\n",
      "AR: 0.524375\n"
     ]
    }
   ],
   "source": [
    "from sklearn.metrics import accuracy_score, confusion_matrix\n",
    "\n",
    "# Calculate accuracy\n",
    "accuracy = accuracy_score(test_labels, predictions)\n",
    "print(f\"Classification Accuracy: {accuracy * 100:.2f}%\")\n",
    "\n",
    "# Calculate confusion matrix\n",
    "tn, fp, fn, tp = confusion_matrix(test_labels, predictions, labels=[0, 1]).ravel()\n",
    "\n",
    "print(f\"tp: {tp}\")\n",
    "print(f\"tn: {tn}\")\n",
    "print(f\"fp: {fp}\")\n",
    "print(f\"fn: {fn}\")\n",
    "\n",
    "# Calculate MDR, FAR, AR\n",
    "MDR = fp / (fp + tn) if (fp + tn) > 0 else 0\n",
    "FAR = fn / (fn + tp) if (fn + tp) > 0 else 0\n",
    "gamma = (tp + fn) / (tn + fp) if (tn + fp) > 0 else 0\n",
    "AR = (tp + gamma * tn) / ((tp + fn) + gamma * (tn + fp)) if ((tp + fn) + gamma * (tn + fp)) > 0 else 0\n",
    "\n",
    "print(f\"MDR: {MDR}\")\n",
    "print(f\"FAR: {FAR}\")\n",
    "print(f\"AR: {AR}\")\n"
   ]
  }
 ],
 "metadata": {
  "kernelspec": {
   "display_name": "CRKG",
   "language": "python",
   "name": "python3"
  },
  "language_info": {
   "codemirror_mode": {
    "name": "ipython",
    "version": 3
   },
   "file_extension": ".py",
   "mimetype": "text/x-python",
   "name": "python",
   "nbconvert_exporter": "python",
   "pygments_lexer": "ipython3",
   "version": "3.12.3"
  }
 },
 "nbformat": 4,
 "nbformat_minor": 2
}
