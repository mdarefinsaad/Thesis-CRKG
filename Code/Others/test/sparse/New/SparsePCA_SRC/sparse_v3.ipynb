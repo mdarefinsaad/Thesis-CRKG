{
 "cells": [
  {
   "cell_type": "code",
   "execution_count": 9,
   "metadata": {},
   "outputs": [
    {
     "name": "stdout",
     "output_type": "stream",
     "text": [
      "trainCIR.shape : (2400, 15, 251, 2)\n"
     ]
    }
   ],
   "source": [
    "import numpy as np\n",
    "from sklearn.linear_model import OrthogonalMatchingPursuit\n",
    "import matplotlib.pyplot as plt\n",
    "from sklearn.model_selection import train_test_split \n",
    "from sklearn.metrics import confusion_matrix\n",
    "from sklearn.preprocessing import StandardScaler\n",
    "from sklearn.decomposition import SparsePCA\n",
    "\n",
    "np.set_printoptions(threshold=np.inf)\n",
    "np.set_printoptions(suppress=True)\n",
    "\n",
    "measurement = np.load('../../../dataset/meas_symm_1.npz', allow_pickle=False)\n",
    "header, data = measurement['header'], measurement['data']\n",
    "data_cir = data['cirs'][:3000]\n",
    "trainCIR, testCIR = train_test_split(data_cir, test_size=0.2, random_state=42)\n",
    "print(f'trainCIR.shape : {trainCIR.shape}')\n",
    "n_comp = 5\n",
    "alice_channel = 3  # Channel 3 is ALICE (legitimate)\n",
    "eve_channel = 6  # Channel 6 is EVE (illegitimate)\n",
    "\n",
    "def getRealImaginaryParts(cirs):\n",
    "    real = cirs[:, :, 0]\n",
    "    imag = cirs[:, :, 1]\n",
    "    return real, imag\n",
    "\n",
    "def apply_sparse_pca(data, n_components):\n",
    "\n",
    "    # data : (1600, 251, 2)\n",
    "    reshaped_data = data.reshape(data.shape[0], -1) # (1600, 502)\n",
    "    \n",
    "    scaler = StandardScaler()\n",
    "    data_scaled = scaler.fit_transform(reshaped_data)\n",
    "    \n",
    "    spca = SparsePCA(n_components=n_components, random_state=42, alpha=1)\n",
    "    data_spca = spca.fit_transform(data_scaled) # (1600, 2)\n",
    "    \n",
    "    return data_spca, scaler, spca\n",
    "\n",
    "\n",
    "# Step 5: Sparse Coding Function\n",
    "def find_sparse_coefficients(tSample, D, n_nonzero_coefs=10):\n",
    "    omp = OrthogonalMatchingPursuit(n_nonzero_coefs=n_nonzero_coefs)\n",
    "    omp.fit(D, tSample)\n",
    "    return omp.coef_\n",
    "\n",
    "# Step 6: Function to Calculate Residuals for Each Class\n",
    "def calculate_residual(tSample, coefficients, class_indices, D):\n",
    "    coef_class = np.zeros_like(coefficients)\n",
    "    coef_class[class_indices] = coefficients[class_indices]  # Keep only coefficients for the specified class\n",
    "    reconstructed_signal = D @ coef_class\n",
    "    residual = np.linalg.norm(tSample - reconstructed_signal)\n",
    "    return residual\n",
    "\n",
    "# Step 7: Classification Function\n",
    "def classify_signal(tSample, D, trainLabel):\n",
    "    \n",
    "    coefficients = find_sparse_coefficients(tSample, D)\n",
    "    \n",
    "    residuals = []\n",
    "\n",
    "    unique_classes = np.unique(trainLabel) # 0 and 1\n",
    "    for class_label in unique_classes:\n",
    "        class_indices = np.where(trainLabel == class_label)[0]  # Indices of columns in D belonging to this class\n",
    "        residual = calculate_residual(tSample, coefficients, class_indices, D)\n",
    "        residuals.append(residual)\n",
    "\n",
    "    # Predict the class with the smallest residual\n",
    "    # Find the index of the smallest residual\n",
    "    min_residual_index = np.argmin(residuals)\n",
    "    # Use this index to find the corresponding class\n",
    "    predicted_class = unique_classes[min_residual_index]\n",
    "    \n",
    "    # print(f'predicted_class : {predicted_class}')\n",
    "    # print(f'residuals : {residuals}')\n",
    "    return predicted_class"
   ]
  },
  {
   "cell_type": "code",
   "execution_count": null,
   "metadata": {},
   "outputs": [
    {
     "ename": "IndexError",
     "evalue": "too many indices for array: array is 3-dimensional, but 4 were indexed",
     "output_type": "error",
     "traceback": [
      "\u001b[0;31m---------------------------------------------------------------------------\u001b[0m",
      "\u001b[0;31mIndexError\u001b[0m                                Traceback (most recent call last)",
      "Cell \u001b[0;32mIn[8], line 3\u001b[0m\n\u001b[1;32m      1\u001b[0m \u001b[38;5;66;03m# -------------- Training ----------------\u001b[39;00m\n\u001b[1;32m      2\u001b[0m \u001b[38;5;66;03m# Feature Extraction\u001b[39;00m\n\u001b[0;32m----> 3\u001b[0m alice_train_CIRs \u001b[38;5;241m=\u001b[39m trainCIR[:, alice_channel, :, :]  \u001b[38;5;66;03m# (800, 251, 2)\u001b[39;00m\n\u001b[1;32m      4\u001b[0m eve_train_CIRs \u001b[38;5;241m=\u001b[39m trainCIR[:, eve_channel, :, :] \u001b[38;5;66;03m# (800, 251, 2)\u001b[39;00m\n\u001b[1;32m      6\u001b[0m alice_train_magnitude \u001b[38;5;241m=\u001b[39m np\u001b[38;5;241m.\u001b[39msqrt(alice_train_CIRs[ :, :, \u001b[38;5;241m0\u001b[39m] \u001b[38;5;241m*\u001b[39m\u001b[38;5;241m*\u001b[39m \u001b[38;5;241m2\u001b[39m \u001b[38;5;241m+\u001b[39m alice_train_CIRs[ :, :, \u001b[38;5;241m1\u001b[39m] \u001b[38;5;241m*\u001b[39m\u001b[38;5;241m*\u001b[39m \u001b[38;5;241m2\u001b[39m)\n",
      "\u001b[0;31mIndexError\u001b[0m: too many indices for array: array is 3-dimensional, but 4 were indexed"
     ]
    }
   ],
   "source": []
  },
  {
   "cell_type": "code",
   "execution_count": 1,
   "metadata": {},
   "outputs": [
    {
     "ename": "NameError",
     "evalue": "name 'testCIR' is not defined",
     "output_type": "error",
     "traceback": [
      "\u001b[0;31m---------------------------------------------------------------------------\u001b[0m",
      "\u001b[0;31mNameError\u001b[0m                                 Traceback (most recent call last)",
      "Cell \u001b[0;32mIn[1], line 3\u001b[0m\n\u001b[1;32m      1\u001b[0m \u001b[38;5;66;03m# ----------------- Test -----------------\u001b[39;00m\n\u001b[1;32m      2\u001b[0m \u001b[38;5;66;03m# Feature Extraction\u001b[39;00m\n\u001b[0;32m----> 3\u001b[0m alice_test_CIRs \u001b[38;5;241m=\u001b[39m testCIR[:, alice_channel, :, :]  \u001b[38;5;66;03m# (1600, 251, 2)\u001b[39;00m\n\u001b[1;32m      4\u001b[0m eve_test_CIRs \u001b[38;5;241m=\u001b[39m testCIR[:, eve_channel, :, :]      \u001b[38;5;66;03m# (1600, 251, 2)\u001b[39;00m\n\u001b[1;32m      6\u001b[0m \u001b[38;5;66;03m# Compute magnitude for each CIR sample using complex representation\u001b[39;00m\n",
      "\u001b[0;31mNameError\u001b[0m: name 'testCIR' is not defined"
     ]
    }
   ],
   "source": [
    "# ----------------- Test -----------------\n",
    "# Feature Extraction\n",
    "alice_test_CIRs = testCIR[:, alice_channel, :, :]  # (1600, 251, 2)\n",
    "eve_test_CIRs = testCIR[:, eve_channel, :, :]      # (1600, 251, 2)\n",
    "\n",
    "# Compute magnitude for each CIR sample using complex representation\n",
    "alice_test_magnitude = np.abs(alice_test_CIRs[..., 0] + 1j * alice_test_CIRs[..., 1])  # (1600, 251)\n",
    "eve_test_magnitude = np.abs(eve_test_CIRs[..., 0] + 1j * eve_test_CIRs[..., 1])        # (1600, 251)\n",
    "test_cirs = np.vstack((alice_test_magnitude, eve_test_magnitude))  # (3200, 251)\n",
    "\n",
    "# Apply SparsePCA using the same scaler and SparsePCA fitted on training data\n",
    "reshaped_test_cirs = test_cirs.reshape(test_cirs.shape[0], -1)  # (samples, 251*2)\n",
    "test_cirs_scaled = scaler.transform(reshaped_test_cirs)\n",
    "test_cirs_spca = spca.transform(test_cirs_scaled)  # (samples, n_components)\n",
    "\n",
    "# Create labels for Alice and Eve for testing\n",
    "alice_test_labels = np.zeros(alice_test_CIRs.shape[0])  # Label '0' for Alice.\n",
    "eve_test_labels = np.ones(eve_test_CIRs.shape[0])       # Label '1' for Eve.\n",
    "\n",
    "# Combine data and labels for testing\n",
    "test_atoms = test_cirs_spca\n",
    "test_labels = np.hstack((alice_test_labels, eve_test_labels))\n"
   ]
  },
  {
   "cell_type": "code",
   "execution_count": null,
   "metadata": {},
   "outputs": [],
   "source": [
    "# Step 8: Classifying Test Data and Evaluating the Model\n",
    "predictions = []\n",
    "\n",
    "for testSample in test_atoms:\n",
    "    predicted_class = classify_signal(testSample, D, train_labels)\n",
    "    predictions.append(predicted_class)\n",
    "\n",
    "predictions = np.array(predictions)"
   ]
  },
  {
   "cell_type": "code",
   "execution_count": null,
   "metadata": {},
   "outputs": [
    {
     "name": "stdout",
     "output_type": "stream",
     "text": [
      "Classification Accuracy: 59.00%\n",
      "\n",
      "Total testing channel: (400,)\n",
      "tp: 193\n",
      "tn: 43\n",
      "fp: 157\n",
      "fn: 7\n",
      "MDR: 0.785\n",
      "FAR: 0.035\n",
      "AR: 0.59\n"
     ]
    }
   ],
   "source": [
    "\n",
    "accuracy = np.mean(predictions == test_labels)\n",
    "print(f\"Classification Accuracy: {accuracy * 100:.2f}%\")\n",
    "\n",
    "# Calculate confusion matrix\n",
    "print(f\"\\nTotal testing channel: {test_labels.shape}\")\n",
    "\n",
    "tn, fp, fn, tp = confusion_matrix(test_labels, predictions, labels=[0, 1]).ravel()\n",
    "\n",
    "print(f\"tp: {tp}\")\n",
    "print(f\"tn: {tn}\")\n",
    "print(f\"fp: {fp}\")\n",
    "print(f\"fn: {fn}\")\n",
    "\n",
    "# Missed Detection Rate (MDR)\n",
    "MDR = fp / (fp + tn)\n",
    "\n",
    "# False Alarm Rate (FAR)\n",
    "FAR = fn / (fn + tp)\n",
    "\n",
    "# Gamma calculation\n",
    "gamma = (tp + fn) / (tn + fp)\n",
    "\n",
    "# Authentication Rate (AR)\n",
    "AR = (tp + gamma * tn) / ((tp + fn) + gamma * (tn + fp))\n",
    "\n",
    "print(f\"MDR: {MDR}\")\n",
    "print(f\"FAR: {FAR}\")\n",
    "print(f\"AR: {AR}\")"
   ]
  }
 ],
 "metadata": {
  "kernelspec": {
   "display_name": "CRKG",
   "language": "python",
   "name": "python3"
  },
  "language_info": {
   "codemirror_mode": {
    "name": "ipython",
    "version": 3
   },
   "file_extension": ".py",
   "mimetype": "text/x-python",
   "name": "python",
   "nbconvert_exporter": "python",
   "pygments_lexer": "ipython3",
   "version": "3.12.3"
  }
 },
 "nbformat": 4,
 "nbformat_minor": 2
}
