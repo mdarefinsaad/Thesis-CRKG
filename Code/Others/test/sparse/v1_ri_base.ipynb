{
 "cells": [
  {
   "cell_type": "code",
   "execution_count": 26,
   "metadata": {},
   "outputs": [],
   "source": [
    "\n",
    "import numpy as np  # This helps us work with arrays (lists of numbers).\n",
    "from sklearn.linear_model import OrthogonalMatchingPursuit  # This helps us find sparse representations.\n",
    "\n",
    "np.set_printoptions(threshold=np.inf)\n",
    "np.set_printoptions(suppress=True)\n",
    "\n",
    "\n",
    "# Imagine we have some data from two people: Alice (the good person) and Eve (the bad person).\n",
    "# Each has some channel data that we can use to tell them apart.\n",
    "\n",
    "# Let's pretend we have 5 samples (Channel Impulse Responses or CIRs) from Alice.\n",
    "# Each sample has 251 points, and each point has a real and an imaginary part.\n",
    "\n",
    "# Create random data for Alice.\n",
    "alice_CIRs = np.random.rand(5, 251, 2)  # This makes random numbers between 0 and 1.\n",
    "\n",
    "# Create random data for Eve.\n",
    "eve_CIRs = np.random.rand(5, 251, 2)  # Same as above, but for Eve."
   ]
  },
  {
   "cell_type": "code",
   "execution_count": 27,
   "metadata": {},
   "outputs": [
    {
     "name": "stdout",
     "output_type": "stream",
     "text": [
      "(5, 502)\n",
      "(5, 502)\n"
     ]
    }
   ],
   "source": [
    "# Now, we want to make a dictionary with examples from both Alice and Eve.\n",
    "# This dictionary will help us classify new signals.\n",
    "\n",
    "# First, we need to turn each CIR (which is 2D) into a 1D array (a long list of numbers).\n",
    "# We do this by reshaping.\n",
    "\n",
    "# Reshape Alice's data.\n",
    "alice_atoms = alice_CIRs.reshape(5, -1)  # '-1' means we flatten the last two dimensions.\n",
    "\n",
    "# Reshape Eve's data.\n",
    "eve_atoms = eve_CIRs.reshape(5, -1)  # Do the same for Eve.\n",
    "\n",
    "print(alice_atoms.shape)  # This should be (5, 502).\n",
    "print(eve_atoms.shape)  # This should be (5, 502)."
   ]
  },
  {
   "cell_type": "code",
   "execution_count": 28,
   "metadata": {},
   "outputs": [
    {
     "name": "stdout",
     "output_type": "stream",
     "text": [
      "(10, 502)\n"
     ]
    }
   ],
   "source": [
    "# Now, we combine Alice's and Eve's data into one big dictionary.\n",
    "dictionary = np.vstack((alice_atoms, eve_atoms))  # 'vstack' stacks them vertically.\n",
    "print(dictionary.shape)  # This should be (10, 502)."
   ]
  },
  {
   "cell_type": "code",
   "execution_count": 29,
   "metadata": {},
   "outputs": [
    {
     "name": "stdout",
     "output_type": "stream",
     "text": [
      "(502, 10)\n"
     ]
    }
   ],
   "source": [
    "# But we need the dictionary to have atoms (examples) as columns, so we transpose it.\n",
    "dictionary = dictionary.T  # This flips the array so rows become columns.\n",
    "\n",
    "print(dictionary.shape)  # This should be (502, 10)."
   ]
  },
  {
   "cell_type": "code",
   "execution_count": 30,
   "metadata": {},
   "outputs": [],
   "source": [
    "# Let's say we have a new signal (test_signal) that we want to classify.\n",
    "# We'll use one of Alice's samples for this example.\n",
    "test_signal = alice_CIRs[0].reshape(-1)  # Flatten the first sample from Alice."
   ]
  },
  {
   "cell_type": "code",
   "execution_count": 31,
   "metadata": {},
   "outputs": [
    {
     "name": "stdout",
     "output_type": "stream",
     "text": [
      "[1. 0. 0. 0. 0. 0. 0. 0. 0. 0.]\n"
     ]
    },
    {
     "name": "stderr",
     "output_type": "stream",
     "text": [
      "/home/arefin/anaconda3/envs/CRKG/lib/python3.12/site-packages/sklearn/utils/_param_validation.py:186: RuntimeWarning: Orthogonal matching pursuit ended prematurely due to linear dependence in the dictionary. The requested precision might not have been met.\n",
      "  return func(*args, **kwargs)\n"
     ]
    }
   ],
   "source": [
    "# Now, we want to represent this test signal using the dictionary.\n",
    "# We use Orthogonal Matching Pursuit (OMP) to find the sparse coefficients.\n",
    "# Sparse means that most coefficients will be zero; only a few will be non-zero.\n",
    "\n",
    "# Create an OMP model that allows up to 2 non-zero coefficients.\n",
    "omp = OrthogonalMatchingPursuit(n_nonzero_coefs=2)\n",
    "\n",
    "# Fit the model to find the coefficients.\n",
    "omp.fit(dictionary, test_signal)\n",
    "\n",
    "# Get the coefficients from the model.\n",
    "coefficients = omp.coef_\n",
    "print(coefficients)  # This should be a list of 10 numbers, mostly zeros."
   ]
  },
  {
   "cell_type": "code",
   "execution_count": 32,
   "metadata": {},
   "outputs": [
    {
     "name": "stdout",
     "output_type": "stream",
     "text": [
      "[0. 0. 0. 0. 0. 0. 0. 0. 0. 0.]\n",
      "The test signal is classified as Alice.\n"
     ]
    }
   ],
   "source": [
    "# Start with an empty list to store residuals.\n",
    "residuals = []\n",
    "coef_class = np.zeros_like(coefficients)\n",
    "print(coef_class)\n",
    "# We have two classes: Alice (0) and Eve (1).\n",
    "for i in range(2):\n",
    "    # Create an array of zeros like the coefficients.\n",
    "    coef_class = np.zeros_like(coefficients)\n",
    "    if i == 0:\n",
    "        # For Alice, keep her coefficients (first 5), set Eve's to zero.\n",
    "        coef_class[:9797] = coefficients[:9797]\n",
    "    else:\n",
    "        # For Eve, keep her coefficients (last 5), set Alice's to zero.\n",
    "        coef_class[9797:] = coefficients[9797:]\n",
    "    # Reconstruct the signal using only the coefficients from one class.\n",
    "    reconstructed_signal = dictionary @ coef_class\n",
    "    # Calculate the residual (difference between test signal and reconstructed signal).\n",
    "    residual = np.linalg.norm(test_signal - reconstructed_signal)\n",
    "    # Add the residual to the list.\n",
    "    residuals.append(residual)\n",
    "\n",
    "# Find which class has the smallest residual.\n",
    "predicted_class = np.argmin(residuals)\n",
    "\n",
    "# Now, we print out which class the test signal belongs to.\n",
    "if predicted_class == 0:\n",
    "    print(\"The test signal is classified as Alice.\")\n",
    "else:\n",
    "    print(\"The test signal is classified as Eve.\")"
   ]
  }
 ],
 "metadata": {
  "kernelspec": {
   "display_name": "CRKG",
   "language": "python",
   "name": "python3"
  },
  "language_info": {
   "codemirror_mode": {
    "name": "ipython",
    "version": 3
   },
   "file_extension": ".py",
   "mimetype": "text/x-python",
   "name": "python",
   "nbconvert_exporter": "python",
   "pygments_lexer": "ipython3",
   "version": "3.12.3"
  }
 },
 "nbformat": 4,
 "nbformat_minor": 2
}
