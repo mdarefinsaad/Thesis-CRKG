{
 "cells": [
  {
   "cell_type": "code",
   "execution_count": null,
   "metadata": {},
   "outputs": [
    {
     "name": "stdout",
     "output_type": "stream",
     "text": [
      "Train Data: (600, 15, 251, 2)\n",
      "Test Data: (200, 15, 251, 2)\n",
      "Evaluation Data: (200, 15, 251, 2)\n"
     ]
    }
   ],
   "source": [
    "import numpy as np\n",
    "from sklearn.linear_model import OrthogonalMatchingPursuit\n",
    "import matplotlib.pyplot as plt\n",
    "from sklearn.model_selection import train_test_split \n",
    "from sklearn.metrics import confusion_matrix\n",
    "from sklearn.preprocessing import StandardScaler\n",
    "from sklearn.decomposition import PCA\n",
    "from sklearn.decomposition import DictionaryLearning\n",
    "\n",
    "np.set_printoptions(threshold=np.inf)\n",
    "np.set_printoptions(suppress=True)\n",
    "\n",
    "# measurement = np.load('../test/dataset/meas_symm_1.npz', allow_pickle=False)\n",
    "# measurement = np.load('../test/dataset/meas_symm_2.npz', allow_pickle=False)\n",
    "# measurement = np.load('../test/dataset/meas_symm_3.npz', allow_pickle=False)\n",
    "# measurement = np.load('../test/dataset/meas_symm_4.npz', allow_pickle=False)\n",
    "# measurement = np.load('../test/dataset/meas_symm_5.npz', allow_pickle=False)\n",
    "# measurement = np.load('../test/dataset/meas_symm_varspeed_1.npz', allow_pickle=False)\n",
    "# measurement = np.load('../test/dataset/meas_asymm_1.npz', allow_pickle=False)\n",
    "# measurement = np.load('../test/dataset/meas_asymm_2.npz', allow_pickle=False)\n",
    "# measurement = np.load('../test/dataset/meas_asymm_reflector_1.npz', allow_pickle=False)\n",
    "# measurement = np.load('../test/dataset/meas_asymm_reflector_2.npz', allow_pickle=False)\n",
    "\n",
    "n_components = 2\n",
    "no_nonzero_coefs = 10\n",
    "# no_nonzero_coefs = 100\n",
    "# no_nonzero_coefs = 150\n",
    "# no_nonzero_coefs = 200\n",
    "\n",
    "header, data = measurement['header'], measurement['data']\n",
    "data_cir = data['cirs'][:1000]\n",
    "# First, split into train (60%) and temp (40%) sets\n",
    "trainCIR, tempCIR = train_test_split(data_cir, test_size=0.4, random_state=42)\n",
    "\n",
    "# Now, split tempCIR into test (20%) and evaluation (20%) sets\n",
    "testCIR, evalCIR = train_test_split(tempCIR, test_size=0.5, random_state=42)\n",
    "\n",
    "print(f\"Train Data: {trainCIR.shape}\")\n",
    "print(f\"Test Data: {testCIR.shape}\")\n",
    "print(f\"Evaluation Data: {evalCIR.shape}\")\n"
   ]
  },
  {
   "cell_type": "code",
   "execution_count": 16,
   "metadata": {},
   "outputs": [
    {
     "name": "stdout",
     "output_type": "stream",
     "text": [
      "(1200, 251)\n",
      "(10, 251)\n"
     ]
    }
   ],
   "source": [
    "# Define channels\n",
    "alice_channel = 3  # Channel 3 is ALICE (legitimate)\n",
    "eve_channel = 6  # Channel 6 is EVE (illegitimate)\n",
    "\n",
    "train_alice_cirs = trainCIR[:, alice_channel, :, :]  # Alice's CIRs\n",
    "train_eve_cirs = trainCIR[:, eve_channel, :, :]      # Eve's CIRs\n",
    "train_alice_magnitude = np.abs(train_alice_cirs[..., 0] + 1j * train_alice_cirs[..., 1])\n",
    "train_eve_magnitude = np.abs(train_eve_cirs[..., 0] + 1j * train_eve_cirs[..., 1])\n",
    "train_data_combined  = np.vstack((train_alice_magnitude, train_eve_magnitude))\n",
    "\n",
    "# Create labels for Alice and Eve for training\n",
    "alice_train_labels = np.zeros(train_alice_magnitude.shape[0])  # Label '0' for Alice.\n",
    "eve_train_labels = np.ones(train_eve_magnitude.shape[0])       # Label '1' for Eve.\n",
    "\n",
    "# Combine data and labels for training\n",
    "train_atoms = train_data_combined\n",
    "train_labels = np.hstack((alice_train_labels, eve_train_labels))\n",
    "print(train_atoms.shape)\n",
    "# Step 4: Form the Dictionary D from Training Data\n",
    "\n",
    "dict_learner = DictionaryLearning(n_components=n_components, transform_algorithm='lasso_lars', n_jobs= -1)\n",
    "dict_learner.fit(train_data_combined)\n",
    "D = dict_learner.components_  # Shape: (n_components, feature_dim)\n",
    "print(D.shape)"
   ]
  },
  {
   "cell_type": "code",
   "execution_count": 17,
   "metadata": {},
   "outputs": [],
   "source": [
    "# # Step 3: Extract Features for Test Data\n",
    "test_alice_CIRs = testCIR[:, alice_channel, :, :]\n",
    "test_eve_CIRs = testCIR[:, eve_channel, :, :]\n",
    "# test amplitude\n",
    "test_alice_magnitude = np.abs(test_alice_CIRs[..., 0] + 1j * test_alice_CIRs[..., 1])\n",
    "test_eve_magnitude = np.abs(test_eve_CIRs[..., 0] + 1j * test_eve_CIRs[..., 1]) \n",
    "test_cirs = np.vstack((test_alice_magnitude, test_eve_magnitude))\n",
    "\n",
    "# Create labels for Alice and Eve for testing\n",
    "alice_test_labels = np.zeros(test_alice_magnitude.shape[0])  # Label '0' for Alice.\n",
    "eve_test_labels = np.ones(test_eve_magnitude.shape[0])       # Label '1' for Eve.\n",
    "\n",
    "# Combine data and labels for testing\n",
    "test_atoms = np.vstack((test_alice_magnitude, test_eve_magnitude))\n",
    "test_labels = np.hstack((alice_test_labels, eve_test_labels))"
   ]
  },
  {
   "cell_type": "code",
   "execution_count": 18,
   "metadata": {},
   "outputs": [],
   "source": [
    "# Step 5: Sparse Coding Function\n",
    "def find_sparse_coefficients(tSample, D, n_nonzero_coefs=no_nonzero_coefs):\n",
    "    omp = OrthogonalMatchingPursuit(n_nonzero_coefs=n_nonzero_coefs)\n",
    "    print(f\"D shape : {D.shape}\")\n",
    "    print(f\"t shape : {tSample.shape}\")\n",
    "    print(f\"coeff shape : {omp.coef_.shape}\")\n",
    "    omp.fit(D, tSample)\n",
    "    return omp.coef_\n",
    "\n",
    "# Step 6: Function to Calculate Residuals for Each Class\n",
    "def calculate_residual(tSample, coefficients, class_indices, D):\n",
    "    coef_class = np.zeros_like(coefficients)\n",
    "    print(f\"coeff_class : {coef_class.shape}\")\n",
    "    coef_class[class_indices] = coefficients[class_indices]  # Keep onltSample coefficients for the specified class\n",
    "    reconstructed_signal = D @ coef_class\n",
    "    # print(reconstructed_signal)\n",
    "    # print(tSample.shape)\n",
    "    residual = np.linalg.norm(tSample - reconstructed_signal)\n",
    "    return residual\n",
    "\n",
    "# Step 7: Classification Function\n",
    "def classify_signal(tSample, D, trainLabel):\n",
    "    \n",
    "    coefficients = find_sparse_coefficients(tSample, D)\n",
    "    \n",
    "    residuals = []\n",
    "    \n",
    "    unique_classes = np.unique(trainLabel) # 0 and 1\n",
    "    for class_label in unique_classes:\n",
    "        class_indices = np.where(trainLabel == class_label)[0]  # Indices of columns in D belonging to this class\n",
    "        print(f\"Class label : {class_indices}\")    \n",
    "        print(f\"Class indices : {class_indices.shape}\")\n",
    "        residual = calculate_residual(tSample, coefficients, class_indices, D)\n",
    "        residuals.append(residual)\n",
    "\n",
    "    # Predict the class with the smallest residual\n",
    "    predicted_class = unique_classes[np.argmin(residuals)]\n",
    "    return predicted_class"
   ]
  },
  {
   "cell_type": "code",
   "execution_count": 19,
   "metadata": {},
   "outputs": [
    {
     "name": "stdout",
     "output_type": "stream",
     "text": [
      "D shape : (10, 251)\n",
      "t shape : (251,)\n"
     ]
    },
    {
     "ename": "AttributeError",
     "evalue": "'OrthogonalMatchingPursuit' object has no attribute 'coef_'",
     "output_type": "error",
     "traceback": [
      "\u001b[0;31m---------------------------------------------------------------------------\u001b[0m",
      "\u001b[0;31mAttributeError\u001b[0m                            Traceback (most recent call last)",
      "Cell \u001b[0;32mIn[19], line 5\u001b[0m\n\u001b[1;32m      2\u001b[0m predictions \u001b[38;5;241m=\u001b[39m []\n\u001b[1;32m      4\u001b[0m \u001b[38;5;28;01mfor\u001b[39;00m testSample \u001b[38;5;129;01min\u001b[39;00m test_atoms[:\u001b[38;5;241m1\u001b[39m]:\n\u001b[0;32m----> 5\u001b[0m     predicted_class \u001b[38;5;241m=\u001b[39m classify_signal(testSample, D, train_labels)\n\u001b[1;32m      6\u001b[0m     predictions\u001b[38;5;241m.\u001b[39mappend(predicted_class)\n\u001b[1;32m      9\u001b[0m predictions \u001b[38;5;241m=\u001b[39m np\u001b[38;5;241m.\u001b[39marray(predictions)\n",
      "Cell \u001b[0;32mIn[18], line 24\u001b[0m, in \u001b[0;36mclassify_signal\u001b[0;34m(tSample, D, trainLabel)\u001b[0m\n\u001b[1;32m     22\u001b[0m \u001b[38;5;28;01mdef\u001b[39;00m \u001b[38;5;21mclassify_signal\u001b[39m(tSample, D, trainLabel):\n\u001b[0;32m---> 24\u001b[0m     coefficients \u001b[38;5;241m=\u001b[39m find_sparse_coefficients(tSample, D)\n\u001b[1;32m     26\u001b[0m     residuals \u001b[38;5;241m=\u001b[39m []\n\u001b[1;32m     28\u001b[0m     unique_classes \u001b[38;5;241m=\u001b[39m np\u001b[38;5;241m.\u001b[39munique(trainLabel) \u001b[38;5;66;03m# 0 and 1\u001b[39;00m\n",
      "Cell \u001b[0;32mIn[18], line 6\u001b[0m, in \u001b[0;36mfind_sparse_coefficients\u001b[0;34m(tSample, D, n_nonzero_coefs)\u001b[0m\n\u001b[1;32m      4\u001b[0m \u001b[38;5;28mprint\u001b[39m(\u001b[38;5;124mf\u001b[39m\u001b[38;5;124m\"\u001b[39m\u001b[38;5;124mD shape : \u001b[39m\u001b[38;5;132;01m{\u001b[39;00mD\u001b[38;5;241m.\u001b[39mshape\u001b[38;5;132;01m}\u001b[39;00m\u001b[38;5;124m\"\u001b[39m)\n\u001b[1;32m      5\u001b[0m \u001b[38;5;28mprint\u001b[39m(\u001b[38;5;124mf\u001b[39m\u001b[38;5;124m\"\u001b[39m\u001b[38;5;124mt shape : \u001b[39m\u001b[38;5;132;01m{\u001b[39;00mtSample\u001b[38;5;241m.\u001b[39mshape\u001b[38;5;132;01m}\u001b[39;00m\u001b[38;5;124m\"\u001b[39m)\n\u001b[0;32m----> 6\u001b[0m \u001b[38;5;28mprint\u001b[39m(\u001b[38;5;124mf\u001b[39m\u001b[38;5;124m\"\u001b[39m\u001b[38;5;124mcoeff shape : \u001b[39m\u001b[38;5;132;01m{\u001b[39;00momp\u001b[38;5;241m.\u001b[39mcoef_\u001b[38;5;241m.\u001b[39mshape\u001b[38;5;132;01m}\u001b[39;00m\u001b[38;5;124m\"\u001b[39m)\n\u001b[1;32m      7\u001b[0m omp\u001b[38;5;241m.\u001b[39mfit(D, tSample)\n\u001b[1;32m      8\u001b[0m \u001b[38;5;28;01mreturn\u001b[39;00m omp\u001b[38;5;241m.\u001b[39mcoef_\n",
      "\u001b[0;31mAttributeError\u001b[0m: 'OrthogonalMatchingPursuit' object has no attribute 'coef_'"
     ]
    }
   ],
   "source": [
    "# Step 8: Classifying Test Data and Evaluating the Model\n",
    "predictions = []\n",
    "\n",
    "for testSample in test_atoms[:1]:\n",
    "    predicted_class = classify_signal(testSample, D, train_labels)\n",
    "    predictions.append(predicted_class)\n",
    "\n",
    "\n",
    "predictions = np.array(predictions)\n",
    "# print(predictions.shape)\n",
    "\n",
    "\n",
    "accuracy = np.mean(predictions == test_labels)\n",
    "print(f\"Classification Accuracy: {accuracy * 100:.2f}%\")"
   ]
  },
  {
   "cell_type": "code",
   "execution_count": null,
   "metadata": {},
   "outputs": [
    {
     "ename": "ValueError",
     "evalue": "Found input variables with inconsistent numbers of samples: [400, 1]",
     "output_type": "error",
     "traceback": [
      "\u001b[0;31m---------------------------------------------------------------------------\u001b[0m",
      "\u001b[0;31mValueError\u001b[0m                                Traceback (most recent call last)",
      "Cell \u001b[0;32mIn[66], line 4\u001b[0m\n\u001b[1;32m      1\u001b[0m \u001b[38;5;28;01mfrom\u001b[39;00m \u001b[38;5;21;01msklearn\u001b[39;00m\u001b[38;5;21;01m.\u001b[39;00m\u001b[38;5;21;01mmetrics\u001b[39;00m \u001b[38;5;28;01mimport\u001b[39;00m accuracy_score, confusion_matrix\n\u001b[1;32m      3\u001b[0m \u001b[38;5;66;03m# Calculate accuracy\u001b[39;00m\n\u001b[0;32m----> 4\u001b[0m accuracy \u001b[38;5;241m=\u001b[39m accuracy_score(test_labels, predictions)\n\u001b[1;32m      5\u001b[0m \u001b[38;5;28mprint\u001b[39m(\u001b[38;5;124mf\u001b[39m\u001b[38;5;124m\"\u001b[39m\u001b[38;5;124mClassification Accuracy: \u001b[39m\u001b[38;5;132;01m{\u001b[39;00maccuracy\u001b[38;5;250m \u001b[39m\u001b[38;5;241m*\u001b[39m\u001b[38;5;250m \u001b[39m\u001b[38;5;241m100\u001b[39m\u001b[38;5;132;01m:\u001b[39;00m\u001b[38;5;124m.2f\u001b[39m\u001b[38;5;132;01m}\u001b[39;00m\u001b[38;5;124m%\u001b[39m\u001b[38;5;124m\"\u001b[39m)\n\u001b[1;32m      7\u001b[0m \u001b[38;5;66;03m# Calculate confusion matrix\u001b[39;00m\n",
      "File \u001b[0;32m~/anaconda3/envs/CRKG/lib/python3.12/site-packages/sklearn/utils/_param_validation.py:213\u001b[0m, in \u001b[0;36mvalidate_params.<locals>.decorator.<locals>.wrapper\u001b[0;34m(*args, **kwargs)\u001b[0m\n\u001b[1;32m    207\u001b[0m \u001b[38;5;28;01mtry\u001b[39;00m:\n\u001b[1;32m    208\u001b[0m     \u001b[38;5;28;01mwith\u001b[39;00m config_context(\n\u001b[1;32m    209\u001b[0m         skip_parameter_validation\u001b[38;5;241m=\u001b[39m(\n\u001b[1;32m    210\u001b[0m             prefer_skip_nested_validation \u001b[38;5;129;01mor\u001b[39;00m global_skip_validation\n\u001b[1;32m    211\u001b[0m         )\n\u001b[1;32m    212\u001b[0m     ):\n\u001b[0;32m--> 213\u001b[0m         \u001b[38;5;28;01mreturn\u001b[39;00m func(\u001b[38;5;241m*\u001b[39margs, \u001b[38;5;241m*\u001b[39m\u001b[38;5;241m*\u001b[39mkwargs)\n\u001b[1;32m    214\u001b[0m \u001b[38;5;28;01mexcept\u001b[39;00m InvalidParameterError \u001b[38;5;28;01mas\u001b[39;00m e:\n\u001b[1;32m    215\u001b[0m     \u001b[38;5;66;03m# When the function is just a wrapper around an estimator, we allow\u001b[39;00m\n\u001b[1;32m    216\u001b[0m     \u001b[38;5;66;03m# the function to delegate validation to the estimator, but we replace\u001b[39;00m\n\u001b[1;32m    217\u001b[0m     \u001b[38;5;66;03m# the name of the estimator by the name of the function in the error\u001b[39;00m\n\u001b[1;32m    218\u001b[0m     \u001b[38;5;66;03m# message to avoid confusion.\u001b[39;00m\n\u001b[1;32m    219\u001b[0m     msg \u001b[38;5;241m=\u001b[39m re\u001b[38;5;241m.\u001b[39msub(\n\u001b[1;32m    220\u001b[0m         \u001b[38;5;124mr\u001b[39m\u001b[38;5;124m\"\u001b[39m\u001b[38;5;124mparameter of \u001b[39m\u001b[38;5;124m\\\u001b[39m\u001b[38;5;124mw+ must be\u001b[39m\u001b[38;5;124m\"\u001b[39m,\n\u001b[1;32m    221\u001b[0m         \u001b[38;5;124mf\u001b[39m\u001b[38;5;124m\"\u001b[39m\u001b[38;5;124mparameter of \u001b[39m\u001b[38;5;132;01m{\u001b[39;00mfunc\u001b[38;5;241m.\u001b[39m\u001b[38;5;18m__qualname__\u001b[39m\u001b[38;5;132;01m}\u001b[39;00m\u001b[38;5;124m must be\u001b[39m\u001b[38;5;124m\"\u001b[39m,\n\u001b[1;32m    222\u001b[0m         \u001b[38;5;28mstr\u001b[39m(e),\n\u001b[1;32m    223\u001b[0m     )\n",
      "File \u001b[0;32m~/anaconda3/envs/CRKG/lib/python3.12/site-packages/sklearn/metrics/_classification.py:222\u001b[0m, in \u001b[0;36maccuracy_score\u001b[0;34m(y_true, y_pred, normalize, sample_weight)\u001b[0m\n\u001b[1;32m    161\u001b[0m \u001b[38;5;250m\u001b[39m\u001b[38;5;124;03m\"\"\"Accuracy classification score.\u001b[39;00m\n\u001b[1;32m    162\u001b[0m \n\u001b[1;32m    163\u001b[0m \u001b[38;5;124;03mIn multilabel classification, this function computes subset accuracy:\u001b[39;00m\n\u001b[0;32m   (...)\u001b[0m\n\u001b[1;32m    218\u001b[0m \u001b[38;5;124;03m0.5\u001b[39;00m\n\u001b[1;32m    219\u001b[0m \u001b[38;5;124;03m\"\"\"\u001b[39;00m\n\u001b[1;32m    221\u001b[0m \u001b[38;5;66;03m# Compute accuracy for each possible representation\u001b[39;00m\n\u001b[0;32m--> 222\u001b[0m y_type, y_true, y_pred \u001b[38;5;241m=\u001b[39m _check_targets(y_true, y_pred)\n\u001b[1;32m    223\u001b[0m check_consistent_length(y_true, y_pred, sample_weight)\n\u001b[1;32m    224\u001b[0m \u001b[38;5;28;01mif\u001b[39;00m y_type\u001b[38;5;241m.\u001b[39mstartswith(\u001b[38;5;124m\"\u001b[39m\u001b[38;5;124mmultilabel\u001b[39m\u001b[38;5;124m\"\u001b[39m):\n",
      "File \u001b[0;32m~/anaconda3/envs/CRKG/lib/python3.12/site-packages/sklearn/metrics/_classification.py:99\u001b[0m, in \u001b[0;36m_check_targets\u001b[0;34m(y_true, y_pred)\u001b[0m\n\u001b[1;32m     72\u001b[0m \u001b[38;5;28;01mdef\u001b[39;00m \u001b[38;5;21m_check_targets\u001b[39m(y_true, y_pred):\n\u001b[1;32m     73\u001b[0m \u001b[38;5;250m    \u001b[39m\u001b[38;5;124;03m\"\"\"Check that y_true and y_pred belong to the same classification task.\u001b[39;00m\n\u001b[1;32m     74\u001b[0m \n\u001b[1;32m     75\u001b[0m \u001b[38;5;124;03m    This converts multiclass or binary types to a common shape, and raises a\u001b[39;00m\n\u001b[0;32m   (...)\u001b[0m\n\u001b[1;32m     97\u001b[0m \u001b[38;5;124;03m    y_pred : array or indicator matrix\u001b[39;00m\n\u001b[1;32m     98\u001b[0m \u001b[38;5;124;03m    \"\"\"\u001b[39;00m\n\u001b[0;32m---> 99\u001b[0m     check_consistent_length(y_true, y_pred)\n\u001b[1;32m    100\u001b[0m     type_true \u001b[38;5;241m=\u001b[39m type_of_target(y_true, input_name\u001b[38;5;241m=\u001b[39m\u001b[38;5;124m\"\u001b[39m\u001b[38;5;124my_true\u001b[39m\u001b[38;5;124m\"\u001b[39m)\n\u001b[1;32m    101\u001b[0m     type_pred \u001b[38;5;241m=\u001b[39m type_of_target(y_pred, input_name\u001b[38;5;241m=\u001b[39m\u001b[38;5;124m\"\u001b[39m\u001b[38;5;124my_pred\u001b[39m\u001b[38;5;124m\"\u001b[39m)\n",
      "File \u001b[0;32m~/anaconda3/envs/CRKG/lib/python3.12/site-packages/sklearn/utils/validation.py:460\u001b[0m, in \u001b[0;36mcheck_consistent_length\u001b[0;34m(*arrays)\u001b[0m\n\u001b[1;32m    458\u001b[0m uniques \u001b[38;5;241m=\u001b[39m np\u001b[38;5;241m.\u001b[39munique(lengths)\n\u001b[1;32m    459\u001b[0m \u001b[38;5;28;01mif\u001b[39;00m \u001b[38;5;28mlen\u001b[39m(uniques) \u001b[38;5;241m>\u001b[39m \u001b[38;5;241m1\u001b[39m:\n\u001b[0;32m--> 460\u001b[0m     \u001b[38;5;28;01mraise\u001b[39;00m \u001b[38;5;167;01mValueError\u001b[39;00m(\n\u001b[1;32m    461\u001b[0m         \u001b[38;5;124m\"\u001b[39m\u001b[38;5;124mFound input variables with inconsistent numbers of samples: \u001b[39m\u001b[38;5;132;01m%r\u001b[39;00m\u001b[38;5;124m\"\u001b[39m\n\u001b[1;32m    462\u001b[0m         \u001b[38;5;241m%\u001b[39m [\u001b[38;5;28mint\u001b[39m(l) \u001b[38;5;28;01mfor\u001b[39;00m l \u001b[38;5;129;01min\u001b[39;00m lengths]\n\u001b[1;32m    463\u001b[0m     )\n",
      "\u001b[0;31mValueError\u001b[0m: Found input variables with inconsistent numbers of samples: [400, 1]"
     ]
    }
   ],
   "source": [
    "from sklearn.metrics import accuracy_score, confusion_matrix\n",
    "\n",
    "# Calculate accuracy\n",
    "accuracy = accuracy_score(test_labels, predictions)\n",
    "print(f\"Classification Accuracy: {accuracy * 100:.2f}%\")\n",
    "\n",
    "# Calculate confusion matrix\n",
    "tn, fp, fn, tp = confusion_matrix(test_labels, predictions, labels=[0, 1]).ravel()\n",
    "\n",
    "print(f\"tp: {tp}\")\n",
    "print(f\"tn: {tn}\")\n",
    "print(f\"fp: {fp}\")\n",
    "print(f\"fn: {fn}\")\n",
    "\n",
    "# Calculate MDR, FAR, AR\n",
    "MDR = fp / (fp + tn) if (fp + tn) > 0 else 0\n",
    "FAR = fn / (fn + tp) if (fn + tp) > 0 else 0\n",
    "gamma = (tp + fn) / (tn + fp) if (tn + fp) > 0 else 0\n",
    "AR = (tp + gamma * tn) / ((tp + fn) + gamma * (tn + fp)) if ((tp + fn) + gamma * (tn + fp)) > 0 else 0\n",
    "\n",
    "print(f\"MDR: {MDR}\")\n",
    "print(f\"FAR: {FAR}\")\n",
    "print(f\"AR: {AR}\")\n"
   ]
  },
  {
   "cell_type": "code",
   "execution_count": null,
   "metadata": {},
   "outputs": [
    {
     "name": "stdout",
     "output_type": "stream",
     "text": [
      "Classification Accuracy: 57.50%\n",
      "tp: 144\n",
      "tn: 86\n",
      "fp: 114\n",
      "fn: 56\n",
      "MDR: 0.57\n",
      "FAR: 0.28\n",
      "AR: 0.575\n"
     ]
    }
   ],
   "source": [
    "# # -------- Evaluation --------\n",
    "# # Extract CIRs\n",
    "# eval_alice_CIRs = evalCIR[:, alice_channel, :, :]\n",
    "# eval_eve_CIRs = evalCIR[:, eve_channel, :, :]\n",
    "\n",
    "# # Compute magnitudes\n",
    "# eval_alice_magnitude = np.abs(eval_alice_CIRs[..., 0] + 1j * eval_alice_CIRs[..., 1])\n",
    "# eval_eve_magnitude = np.abs(eval_eve_CIRs[..., 0] + 1j * eval_eve_CIRs[..., 1])\n",
    "\n",
    "# # Stack evaluation features\n",
    "# eval_atoms = np.vstack((eval_alice_magnitude, eval_eve_magnitude))\n",
    "\n",
    "# # Labels for evaluation data\n",
    "# eval_alice_labels = np.zeros(eval_alice_magnitude.shape[0])  # Label '0' for Alice\n",
    "# eval_eve_labels = np.ones(eval_eve_magnitude.shape[0])       # Label '1' for Eve\n",
    "# eval_labels = np.hstack((eval_alice_labels, eval_eve_labels))\n",
    "\n",
    "# # Step 8: Classifying Evaluation Data\n",
    "# eval_predictions = []\n",
    "\n",
    "# for evalSample in eval_atoms:\n",
    "#     predicted_class = classify_signal(evalSample, D, train_labels)\n",
    "#     eval_predictions.append(predicted_class)\n",
    "\n",
    "# eval_predictions = np.array(eval_predictions)\n",
    "\n",
    "# # Calculate accuracy\n",
    "# eval_accuracy = accuracy_score(eval_labels, eval_predictions)\n",
    "# print(f\"Classification Accuracy: {eval_accuracy * 100:.2f}%\")\n",
    "\n",
    "# # Calculate confusion matrix\n",
    "# tn, fp, fn, tp = confusion_matrix(eval_labels, eval_predictions, labels=[0, 1]).ravel()\n",
    "\n",
    "# print(f\"tp: {tp}\")\n",
    "# print(f\"tn: {tn}\")\n",
    "# print(f\"fp: {fp}\")\n",
    "# print(f\"fn: {fn}\")\n",
    "\n",
    "# # Calculate MDR, FAR, AR\n",
    "# MDR = fp / (fp + tn) if (fp + tn) > 0 else 0\n",
    "# FAR = fn / (fn + tp) if (fn + tp) > 0 else 0\n",
    "# gamma = (tp + fn) / (tn + fp) if (tn + fp) > 0 else 0\n",
    "# AR = (tp + gamma * tn) / ((tp + fn) + gamma * (tn + fp)) if ((tp + fn) + gamma * (tn + fp)) > 0 else 0\n",
    "\n",
    "# print(f\"MDR: {MDR}\")\n",
    "# print(f\"FAR: {FAR}\")\n",
    "# print(f\"AR: {AR}\")\n",
    "\n"
   ]
  }
 ],
 "metadata": {
  "kernelspec": {
   "display_name": "CRKG",
   "language": "python",
   "name": "python3"
  },
  "language_info": {
   "codemirror_mode": {
    "name": "ipython",
    "version": 3
   },
   "file_extension": ".py",
   "mimetype": "text/x-python",
   "name": "python",
   "nbconvert_exporter": "python",
   "pygments_lexer": "ipython3",
   "version": "3.12.3"
  }
 },
 "nbformat": 4,
 "nbformat_minor": 2
}
