{
 "cells": [
  {
   "cell_type": "code",
   "execution_count": 78,
   "metadata": {},
   "outputs": [
    {
     "name": "stdout",
     "output_type": "stream",
     "text": [
      "Training data: (800, 15, 251, 2)\n"
     ]
    }
   ],
   "source": [
    "# Library\n",
    "import numpy as np\n",
    "from sklearn.linear_model import OrthogonalMatchingPursuit\n",
    "from sklearn.model_selection import train_test_split \n",
    "from sklearn.metrics import confusion_matrix\n",
    "from sklearn.decomposition import DictionaryLearning, sparse_encode\n",
    "from sklearn.preprocessing import StandardScaler\n",
    "from sklearn.preprocessing import MinMaxScaler\n",
    "from sklearn.decomposition import PCA\n",
    "from sklearn.linear_model import LogisticRegression\n",
    "from sklearn.svm import SVC\n",
    "\n",
    "np.set_printoptions(threshold=np.inf)\n",
    "np.set_printoptions(suppress=True)\n",
    "\n",
    "# Load data\n",
    "measurement = np.load('../test/dataset/meas_symm_1.npz', allow_pickle=False)\n",
    "header, data = measurement['header'], measurement['data']\n",
    "data_cir = data['cirs'][:1000]  # Using 1000 samples for simplicity\n",
    "\n",
    "# Split data\n",
    "trainCIR, testCIR = train_test_split(data_cir, test_size=0.2, random_state=42)\n",
    "print(f\"Training data: {trainCIR.shape}\")\n",
    "# Define channels\n",
    "alice_channel = 3  # Channel 3 is ALICE (legitimate)\n",
    "eve_channel = 6    # Channel 6 is EVE (illegitimate)\n",
    "\n",
    "# Set the number of dictionary atoms (components) and sparsity level\n",
    "# N_components = 3  # Number of Sparse Components\n",
    "n_components = 20  # Try values like 20, 50, or 100\n",
    "n_nonzero_coefs = 17 # Sparsity level\n",
    "no_train_cirs = trainCIR.shape[0]\n",
    "no_test_cirs = testCIR.shape[0]"
   ]
  },
  {
   "cell_type": "code",
   "execution_count": 79,
   "metadata": {},
   "outputs": [
    {
     "name": "stdout",
     "output_type": "stream",
     "text": [
      "[39783.86505443  8196.0872501   6723.87504859  2988.57045789\n",
      "     0.          5191.95719631  2080.45900255 -2532.34369478\n",
      "  3332.62308214 -2623.47100748  2473.17806471  6179.80922965\n",
      "  1897.44449156 -2517.87993042  2683.87214466  1553.75430033\n",
      "     0.             0.         -3026.36256369 -2313.65357665]\n"
     ]
    }
   ],
   "source": [
    "# ----------------------------------------------------- Preprocessing -----------------------------------------------------\n",
    "# ----------------- Training data -----------------\n",
    "train_alice_cirs = trainCIR[:, alice_channel, :, :]  # Alice's CIRs\n",
    "train_eve_cirs = trainCIR[:, eve_channel, :, :]      # Eve's CIRs\n",
    "train_alice_magnitude = np.abs(train_alice_cirs[..., 0] + 1j * train_alice_cirs[..., 1])\n",
    "train_eve_magnitude = np.abs(train_eve_cirs[..., 0] + 1j * train_eve_cirs[..., 1])\n",
    "train_data_combined  = np.vstack((train_alice_magnitude, train_eve_magnitude))\n",
    "\n",
    "# Learn the dictionary\n",
    "dl_alice = DictionaryLearning(n_components=n_components, transform_algorithm='lasso_lars', n_jobs= -1)\n",
    "dl_eve = DictionaryLearning(n_components=n_components, transform_algorithm='lasso_lars', n_jobs= -1)\n",
    "\n",
    "dl_alice.fit(train_alice_magnitude)\n",
    "dictionary_alice = dl_alice.components_\n",
    "\n",
    "dl_eve.fit(train_eve_magnitude)\n",
    "dictionary_eve = dl_eve.components_\n",
    "\n",
    "# Create an OMP object\n",
    "omp_alice = OrthogonalMatchingPursuit(n_nonzero_coefs=n_nonzero_coefs)  # adjust the number of non-zero coefficients as needed\n",
    "omp_eve = OrthogonalMatchingPursuit(n_nonzero_coefs=n_nonzero_coefs)  # adjust the number of non-zero\n",
    "\n",
    "sparse_rep_alice = np.zeros((no_train_cirs, n_components))\n",
    "sparse_rep_eve = np.zeros((no_train_cirs, n_components))\n",
    "\n",
    "for i in range(no_train_cirs):\n",
    "    # For Alice\n",
    "    omp_alice.fit(dictionary_alice.T, train_alice_magnitude[i]) \n",
    "    sparse_rep_alice[i] = omp_alice.coef_\n",
    "\n",
    "    # For Eve\n",
    "    omp_eve.fit(dictionary_eve.T, train_eve_magnitude[i]) \n",
    "    sparse_rep_eve[i] = omp_eve.coef_\n",
    "    \n",
    "print(sparse_rep_alice[0])\n"
   ]
  },
  {
   "cell_type": "code",
   "execution_count": 80,
   "metadata": {},
   "outputs": [
    {
     "name": "stdout",
     "output_type": "stream",
     "text": [
      "[35994.88824055 12598.57533772 -4247.88966424  3592.73914423\n",
      " -6334.63230621 -1400.54963027 -2598.10143719     0.\n",
      " -2332.8865297   1019.41664584     0.          2237.30381949\n",
      " -1565.28230188 -4003.12336365 -4316.94125435  -733.66292461\n",
      "  -854.61043152  -958.58671013     0.          -478.3608271 ]\n"
     ]
    }
   ],
   "source": [
    "test_alice_CIRs = testCIR[:, alice_channel, :, :]\n",
    "test_eve_CIRs = testCIR[:, eve_channel, :, :]\n",
    "\n",
    "# test amplitude\n",
    "test_alice_magnitude = np.abs(test_alice_CIRs[..., 0] + 1j * test_alice_CIRs[..., 1])\n",
    "test_eve_magnitude = np.abs(test_eve_CIRs[..., 0] + 1j * test_eve_CIRs[..., 1]) \n",
    "test_cirs = np.vstack((test_alice_magnitude, test_eve_magnitude))\n",
    "\n",
    "dl_test_alice = DictionaryLearning(n_components=n_components, transform_algorithm='lasso_lars', n_jobs= -1)\n",
    "dl_test_eve = DictionaryLearning(n_components=n_components, transform_algorithm='lasso_lars', n_jobs= -1)\n",
    "\n",
    "dl_test_alice.fit(test_alice_magnitude)\n",
    "dictionary_test_alice = dl_test_alice.components_\n",
    "\n",
    "dl_test_eve.fit(test_eve_magnitude)\n",
    "dictionary_test_eve = dl_test_eve.components_\n",
    "\n",
    "# Create an OMP object\n",
    "omp_test_alice = OrthogonalMatchingPursuit(n_nonzero_coefs=n_nonzero_coefs)  # adjust the number of non-zero coefficients as needed\n",
    "omp_test_eve = OrthogonalMatchingPursuit(n_nonzero_coefs=n_nonzero_coefs)\n",
    "\n",
    "sparse_rep_test_alice = np.zeros((no_test_cirs, n_components))\n",
    "sparse_rep_test_eve = np.zeros((no_test_cirs, n_components))\n",
    "\n",
    "for i in range(no_test_cirs):\n",
    "    # For test_Alice\n",
    "    omp_test_alice.fit(dictionary_test_alice.T, test_alice_magnitude[i]) \n",
    "    sparse_rep_test_alice[i] = omp_test_alice.coef_\n",
    "\n",
    "    # For test_Eve\n",
    "    omp_test_eve.fit(dictionary_test_eve.T, test_eve_magnitude[i]) \n",
    "    sparse_rep_test_eve[i] = omp_test_eve.coef_\n",
    "    \n",
    "print(sparse_rep_test_alice[0])"
   ]
  },
  {
   "cell_type": "code",
   "execution_count": 81,
   "metadata": {},
   "outputs": [
    {
     "name": "stdout",
     "output_type": "stream",
     "text": [
      "Training data: (800, 20)\n"
     ]
    }
   ],
   "source": [
    "print(f\"Training data: {sparse_rep_alice.shape}\")\n",
    "\n",
    "train_sparse_data = np.vstack((sparse_rep_alice, sparse_rep_eve))\n",
    "test_sparse_data = np.vstack((sparse_rep_test_alice, sparse_rep_test_eve))\n",
    "\n",
    "# Labels for training data\n",
    "train_alice_labels = np.zeros(sparse_rep_alice.shape[0])  # Label '0' for Alice.\n",
    "train_eve_labels = np.ones(sparse_rep_eve.shape[0])       # Label '1' for Eve.\n",
    "train_labels = np.hstack((train_alice_labels, train_eve_labels))\n",
    "\n",
    "# Labels for test data\n",
    "test_alice_labels = np.zeros(sparse_rep_test_alice.shape[0])  # Label '0' for Alice.\n",
    "test_eve_labels = np.ones(sparse_rep_test_eve.shape[0])       # Label '1' for Eve.\n",
    "test_labels = np.hstack((test_alice_labels, test_eve_labels))\n"
   ]
  },
  {
   "cell_type": "code",
   "execution_count": 82,
   "metadata": {},
   "outputs": [],
   "source": [
    "# # Dictionary\n",
    "# D = train_sparse_codes.T\n",
    "# print('Dictionary shape:', D.shape)"
   ]
  },
  {
   "cell_type": "code",
   "execution_count": 83,
   "metadata": {},
   "outputs": [
    {
     "name": "stdout",
     "output_type": "stream",
     "text": [
      "Train data shape: (1600, 20)\n"
     ]
    }
   ],
   "source": [
    "scaler = StandardScaler()\n",
    "train_sparse_codes = scaler.fit_transform(train_sparse_data)\n",
    "# Apply the same scaling to test data\n",
    "test_sparse_codes = scaler.transform(test_sparse_data)\n",
    "print('Train data shape:', train_sparse_codes.shape)"
   ]
  },
  {
   "cell_type": "code",
   "execution_count": 84,
   "metadata": {},
   "outputs": [],
   "source": [
    "# Initialize and train the SVM classifier\n",
    "classifier = SVC(kernel='rbf', random_state=42)\n",
    "classifier.fit(train_sparse_codes, train_labels)\n",
    "\n",
    "# Predict on test data\n",
    "predictions = classifier.predict(test_sparse_codes)"
   ]
  },
  {
   "cell_type": "code",
   "execution_count": 85,
   "metadata": {},
   "outputs": [
    {
     "name": "stdout",
     "output_type": "stream",
     "text": [
      "Classification Accuracy: 67.50%\n",
      "tp: 130\n",
      "tn: 140\n",
      "fp: 60\n",
      "fn: 70\n",
      "MDR: 0.3\n",
      "FAR: 0.35\n",
      "AR: 0.675\n"
     ]
    }
   ],
   "source": [
    "from sklearn.metrics import accuracy_score, confusion_matrix\n",
    "\n",
    "# Calculate accuracy\n",
    "accuracy = accuracy_score(test_labels, predictions)\n",
    "print(f\"Classification Accuracy: {accuracy * 100:.2f}%\")\n",
    "\n",
    "# Calculate confusion matrix\n",
    "tn, fp, fn, tp = confusion_matrix(test_labels, predictions, labels=[0, 1]).ravel()\n",
    "\n",
    "print(f\"tp: {tp}\")\n",
    "print(f\"tn: {tn}\")\n",
    "print(f\"fp: {fp}\")\n",
    "print(f\"fn: {fn}\")\n",
    "\n",
    "# Calculate MDR, FAR, AR\n",
    "MDR = fp / (fp + tn) if (fp + tn) > 0 else 0\n",
    "FAR = fn / (fn + tp) if (fn + tp) > 0 else 0\n",
    "gamma = (tp + fn) / (tn + fp) if (tn + fp) > 0 else 0\n",
    "AR = (tp + gamma * tn) / ((tp + fn) + gamma * (tn + fp)) if ((tp + fn) + gamma * (tn + fp)) > 0 else 0\n",
    "\n",
    "print(f\"MDR: {MDR}\")\n",
    "print(f\"FAR: {FAR}\")\n",
    "print(f\"AR: {AR}\")\n"
   ]
  }
 ],
 "metadata": {
  "kernelspec": {
   "display_name": "CRKG",
   "language": "python",
   "name": "python3"
  },
  "language_info": {
   "codemirror_mode": {
    "name": "ipython",
    "version": 3
   },
   "file_extension": ".py",
   "mimetype": "text/x-python",
   "name": "python",
   "nbconvert_exporter": "python",
   "pygments_lexer": "ipython3",
   "version": "3.12.3"
  }
 },
 "nbformat": 4,
 "nbformat_minor": 2
}
