{
 "cells": [
  {
   "cell_type": "code",
   "execution_count": 604,
   "metadata": {},
   "outputs": [
    {
     "name": "stdout",
     "output_type": "stream",
     "text": [
      "Train Data: (600, 15, 251, 2)\n",
      "Test Data: (200, 15, 251, 2)\n",
      "Evaluation Data: (200, 15, 251, 2)\n"
     ]
    }
   ],
   "source": [
    "# Library\n",
    "import numpy as np\n",
    "from sklearn.model_selection import train_test_split \n",
    "from sklearn.metrics import confusion_matrix\n",
    "from sklearn.decomposition import DictionaryLearning, sparse_encode\n",
    "from sklearn.preprocessing import StandardScaler\n",
    "from sklearn.svm import SVC\n",
    "\n",
    "np.set_printoptions(threshold=np.inf)\n",
    "np.set_printoptions(suppress=True)\n",
    "\n",
    "# Load data\n",
    "# Load data\n",
    "# measurement = np.load('../test/dataset/meas_symm_1.npz', allow_pickle=False)\n",
    "# measurement = np.load('../test/dataset/meas_symm_2.npz', allow_pickle=False)\n",
    "# measurement = np.load('../test/dataset/meas_symm_3.npz', allow_pickle=False)\n",
    "# measurement = np.load('../test/dataset/meas_symm_4.npz', allow_pickle=False)\n",
    "# measurement = np.load('../test/dataset/meas_symm_5.npz', allow_pickle=False)\n",
    "# measurement = np.load('../test/dataset/meas_symm_varspeed_1.npz', allow_pickle=False)\n",
    "# measurement = np.load('../test/dataset/meas_asymm_1.npz', allow_pickle=False)\n",
    "# measurement = np.load('../test/dataset/meas_asymm_2.npz', allow_pickle=False)\n",
    "# measurement = np.load('../test/dataset/meas_asymm_reflector_1.npz', allow_pickle=False)\n",
    "measurement = np.load('../test/dataset/meas_asymm_reflector_2.npz', allow_pickle=False)\n",
    "\n",
    "header, data = measurement['header'], measurement['data']\n",
    "data_cir = data['cirs'][:1000]  # Using 1000 samples for simplicity\n",
    "\n",
    "trainCIR, tempCIR = train_test_split(data_cir, test_size=0.4, random_state=42)\n",
    "\n",
    "# Now, split tempCIR into test (20%) and evaluation (20%) sets\n",
    "testCIR, evalCIR = train_test_split(tempCIR, test_size=0.5, random_state=42)\n",
    "\n",
    "print(f\"Train Data: {trainCIR.shape}\")\n",
    "print(f\"Test Data: {testCIR.shape}\")\n",
    "print(f\"Evaluation Data: {evalCIR.shape}\")\n",
    "\n",
    "# Define channels\n",
    "alice_channel = 3  # Channel 3 is ALICE (legitimate)\n",
    "eve_channel = 6    # Channel 6 is EVE (illegitimate)\n",
    "\n",
    "# Set the number of dictionary atoms (components) and sparsity level\n",
    "# N_components = 3  # Number of Sparse Components\n",
    "\n",
    "n_components = 5 \n",
    "n_components = 10\n",
    "n_components = 15\n",
    "n_components = 20\n",
    "# n_nonzero_coefs = 30 # Sparsity level"
   ]
  },
  {
   "cell_type": "code",
   "execution_count": 605,
   "metadata": {},
   "outputs": [
    {
     "name": "stdout",
     "output_type": "stream",
     "text": [
      "(20, 251)\n",
      "[44563.836674    6678.21543716  1459.85407267 -3552.94847113\n",
      " -5416.00109494  1357.92339736  2812.1617227  13351.5434469\n",
      " -5547.6442559   1667.63009017  1251.14012031  -439.58181313\n",
      "  4304.26649799   640.04911611 -1174.39239528  6188.34186048\n",
      "  3176.84007738   484.98325108  -351.82529531 -3919.6115697 ]\n"
     ]
    }
   ],
   "source": [
    "# ----------------------------------------------------- Preprocessing -----------------------------------------------------\n",
    "# ----------------- Training data -----------------\n",
    "train_alice_cirs = trainCIR[:, alice_channel, :, :]  # Alice's CIRs\n",
    "train_eve_cirs = trainCIR[:, eve_channel, :, :]      # Eve's CIRs\n",
    "train_alice_magnitude = np.abs(train_alice_cirs[..., 0] + 1j * train_alice_cirs[..., 1])\n",
    "train_eve_magnitude = np.abs(train_eve_cirs[..., 0] + 1j * train_eve_cirs[..., 1])\n",
    "train_data_combined  = np.vstack((train_alice_magnitude, train_eve_magnitude))\n",
    "\n",
    "# Learn the dictionary\n",
    "dict_learner = DictionaryLearning(n_components=n_components, transform_algorithm='lasso_lars', n_jobs= -1)\n",
    "# dict_learner = DictionaryLearning(n_components=n_components, transform_algorithm='omp', transform_n_nonzero_coefs=n_nonzero_coefs,  n_jobs= -1)\n",
    "dict_learner.fit(train_data_combined)\n",
    "D = dict_learner.components_  # Shape: (n_components, feature_dim)\n",
    "print(D.shape)\n",
    "\n",
    "train_alice_sparse_codes = dict_learner.transform(train_alice_magnitude)\n",
    "train_eve_sparse_codes = dict_learner.transform(train_eve_magnitude)\n",
    "train_sparse_codes = np.vstack((train_alice_sparse_codes, train_eve_sparse_codes))\n",
    "# print(train_alice_sparse_codes.shape)\n",
    "print(train_alice_sparse_codes[0])"
   ]
  },
  {
   "cell_type": "code",
   "execution_count": 606,
   "metadata": {},
   "outputs": [
    {
     "name": "stdout",
     "output_type": "stream",
     "text": [
      "Test data shape: (400, 20)\n"
     ]
    }
   ],
   "source": [
    "test_alice_CIRs = testCIR[:, alice_channel, :, :]\n",
    "test_eve_CIRs = testCIR[:, eve_channel, :, :]\n",
    "\n",
    "# test amplitude\n",
    "test_alice_magnitude = np.abs(test_alice_CIRs[..., 0] + 1j * test_alice_CIRs[..., 1])\n",
    "test_eve_magnitude = np.abs(test_eve_CIRs[..., 0] + 1j * test_eve_CIRs[..., 1]) \n",
    "test_cirs = np.vstack((test_alice_magnitude, test_eve_magnitude))\n",
    "\n",
    "\n",
    "# Transform test data into sparse codes\n",
    "test_alice_sparse_codes = dict_learner.transform(test_alice_magnitude)\n",
    "test_eve_sparse_codes = dict_learner.transform(test_eve_magnitude)\n",
    "\n",
    "# Combine the sparse codes\n",
    "test_sparse_codes = np.vstack((test_alice_sparse_codes, test_eve_sparse_codes))\n",
    "print('Test data shape:', test_sparse_codes.shape)"
   ]
  },
  {
   "cell_type": "code",
   "execution_count": 607,
   "metadata": {},
   "outputs": [],
   "source": [
    "# Labels for training data\n",
    "train_alice_labels = np.zeros(train_alice_sparse_codes.shape[0])  # Label '0' for Alice.\n",
    "train_eve_labels = np.ones(train_eve_sparse_codes.shape[0])       # Label '1' for Eve.\n",
    "train_labels = np.hstack((train_alice_labels, train_eve_labels))\n",
    "\n",
    "# Labels for test data\n",
    "test_alice_labels = np.zeros(test_alice_sparse_codes.shape[0])  # Label '0' for Alice.\n",
    "test_eve_labels = np.ones(test_eve_sparse_codes.shape[0])       # Label '1' for Eve.\n",
    "test_labels = np.hstack((test_alice_labels, test_eve_labels))\n"
   ]
  },
  {
   "cell_type": "code",
   "execution_count": 608,
   "metadata": {},
   "outputs": [],
   "source": [
    "# # Dictionary\n",
    "# D = train_sparse_codes.T\n",
    "# print('Dictionary shape:', D.shape)"
   ]
  },
  {
   "cell_type": "code",
   "execution_count": 609,
   "metadata": {},
   "outputs": [
    {
     "name": "stdout",
     "output_type": "stream",
     "text": [
      "Train data shape: (1200, 20)\n"
     ]
    }
   ],
   "source": [
    "scaler = StandardScaler()\n",
    "train_sparse_codes = scaler.fit_transform(train_sparse_codes)\n",
    "# Apply the same scaling to test data\n",
    "test_sparse_codes = scaler.transform(test_sparse_codes)\n",
    "print('Train data shape:', train_sparse_codes.shape)"
   ]
  },
  {
   "cell_type": "code",
   "execution_count": 610,
   "metadata": {},
   "outputs": [],
   "source": [
    "# Initialize and train the SVM classifier\n",
    "classifier = SVC(kernel='rbf', random_state=42)\n",
    "classifier.fit(train_sparse_codes, train_labels)\n",
    "\n",
    "# Predict on test data\n",
    "predictions = classifier.predict(test_sparse_codes)"
   ]
  },
  {
   "cell_type": "code",
   "execution_count": 611,
   "metadata": {},
   "outputs": [
    {
     "name": "stdout",
     "output_type": "stream",
     "text": [
      "Classification Accuracy: 78.00%\n",
      "tp: 153\n",
      "tn: 159\n",
      "fp: 41\n",
      "fn: 47\n",
      "MDR: 0.205\n",
      "FAR: 0.235\n",
      "AR: 0.78\n"
     ]
    }
   ],
   "source": [
    "from sklearn.metrics import accuracy_score, confusion_matrix\n",
    "\n",
    "# Calculate accuracy\n",
    "accuracy = accuracy_score(test_labels, predictions)\n",
    "print(f\"Classification Accuracy: {accuracy * 100:.2f}%\")\n",
    "\n",
    "# Calculate confusion matrix\n",
    "tn, fp, fn, tp = confusion_matrix(test_labels, predictions, labels=[0, 1]).ravel()\n",
    "\n",
    "print(f\"tp: {tp}\")\n",
    "print(f\"tn: {tn}\")\n",
    "print(f\"fp: {fp}\")\n",
    "print(f\"fn: {fn}\")\n",
    "\n",
    "# Calculate MDR, FAR, AR\n",
    "MDR = fp / (fp + tn) if (fp + tn) > 0 else 0\n",
    "FAR = fn / (fn + tp) if (fn + tp) > 0 else 0\n",
    "gamma = (tp + fn) / (tn + fp) if (tn + fp) > 0 else 0\n",
    "AR = (tp + gamma * tn) / ((tp + fn) + gamma * (tn + fp)) if ((tp + fn) + gamma * (tn + fp)) > 0 else 0\n",
    "\n",
    "print(f\"MDR: {MDR}\")\n",
    "print(f\"FAR: {FAR}\")\n",
    "print(f\"AR: {AR}\")\n"
   ]
  },
  {
   "cell_type": "code",
   "execution_count": 612,
   "metadata": {},
   "outputs": [
    {
     "name": "stdout",
     "output_type": "stream",
     "text": [
      "Classification Accuracy: 75.00%\n",
      "tp: 142\n",
      "tn: 158\n",
      "fp: 42\n",
      "fn: 58\n",
      "MDR: 0.21\n",
      "FAR: 0.29\n",
      "AR: 0.75\n"
     ]
    }
   ],
   "source": [
    "# -------- Evaluation --------\n",
    "# Extract CIRs\n",
    "eval_alice_CIRs = evalCIR[:, alice_channel, :, :]\n",
    "eval_eve_CIRs = evalCIR[:, eve_channel, :, :]\n",
    "\n",
    "# Compute magnitudes\n",
    "eval_alice_magnitude = np.abs(eval_alice_CIRs[..., 0] + 1j * eval_alice_CIRs[..., 1])\n",
    "eval_eve_magnitude = np.abs(eval_eve_CIRs[..., 0] + 1j * eval_eve_CIRs[..., 1])\n",
    "\n",
    "# Stack evaluation features\n",
    "eval_cirs = np.vstack((eval_alice_magnitude, eval_eve_magnitude))\n",
    "\n",
    "# Transform evaluation data into sparse codes\n",
    "eval_alice_sparse_codes = dict_learner.transform(eval_alice_magnitude)\n",
    "eval_eve_sparse_codes = dict_learner.transform(eval_eve_magnitude)\n",
    "\n",
    "# Combine the sparse representations\n",
    "eval_sparse_codes = np.vstack((eval_alice_sparse_codes, eval_eve_sparse_codes))\n",
    "# print('Evaluation data shape:', eval_sparse_codes.shape)\n",
    "\n",
    "# Scale evaluation data using the trained scaler\n",
    "eval_sparse_codes = scaler.transform(eval_sparse_codes)\n",
    "\n",
    "# Labels for evaluation data\n",
    "eval_alice_labels = np.zeros(eval_alice_sparse_codes.shape[0])  # Label '0' for Alice\n",
    "eval_eve_labels = np.ones(eval_eve_sparse_codes.shape[0])       # Label '1' for Eve\n",
    "eval_labels = np.hstack((eval_alice_labels, eval_eve_labels))\n",
    "\n",
    "# Predict on evaluation data\n",
    "eval_predictions = classifier.predict(eval_sparse_codes)\n",
    "\n",
    "eval_accuracy = accuracy_score(eval_labels, eval_predictions)\n",
    "print(f\"Classification Accuracy: {eval_accuracy * 100:.2f}%\")\n",
    "\n",
    "# Calculate confusion matrix\n",
    "tn, fp, fn, tp = confusion_matrix(eval_labels, eval_predictions, labels=[0, 1]).ravel()\n",
    "\n",
    "print(f\"tp: {tp}\")\n",
    "print(f\"tn: {tn}\")\n",
    "print(f\"fp: {fp}\")\n",
    "print(f\"fn: {fn}\")\n",
    "\n",
    "# Calculate MDR, FAR, AR\n",
    "MDR = fp / (fp + tn) if (fp + tn) > 0 else 0\n",
    "FAR = fn / (fn + tp) if (fn + tp) > 0 else 0\n",
    "gamma = (tp + fn) / (tn + fp) if (tn + fp) > 0 else 0\n",
    "AR = (tp + gamma * tn) / ((tp + fn) + gamma * (tn + fp)) if ((tp + fn) + gamma * (tn + fp)) > 0 else 0\n",
    "\n",
    "print(f\"MDR: {MDR}\")\n",
    "print(f\"FAR: {FAR}\")\n",
    "print(f\"AR: {AR}\")\n",
    "\n"
   ]
  }
 ],
 "metadata": {
  "kernelspec": {
   "display_name": "CRKG",
   "language": "python",
   "name": "python3"
  },
  "language_info": {
   "codemirror_mode": {
    "name": "ipython",
    "version": 3
   },
   "file_extension": ".py",
   "mimetype": "text/x-python",
   "name": "python",
   "nbconvert_exporter": "python",
   "pygments_lexer": "ipython3",
   "version": "3.12.3"
  }
 },
 "nbformat": 4,
 "nbformat_minor": 2
}
