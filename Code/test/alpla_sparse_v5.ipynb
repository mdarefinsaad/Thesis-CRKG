{
 "cells": [
  {
   "cell_type": "code",
   "execution_count": 3,
   "metadata": {},
   "outputs": [
    {
     "name": "stdout",
     "output_type": "stream",
     "text": [
      "(9797, 15, 251, 2)\n"
     ]
    }
   ],
   "source": [
    "import numpy as np\n",
    "from sklearn.model_selection import train_test_split\n",
    "from sklearn.decomposition import DictionaryLearning\n",
    "from sklearn.svm import SVC\n",
    "from sklearn.preprocessing import StandardScaler\n",
    "from sklearn.pipeline import make_pipeline\n",
    "from sklearn.metrics import classification_report, accuracy_score\n",
    "\n",
    "# Load your data\n",
    "# Load measurement file:\n",
    "measurement = np.load('dataset/meas_symm_1.npz', allow_pickle=False)\n",
    "\n",
    "header, data = measurement['header'], measurement['data']\n",
    "data_cir = data['cirs']\n",
    "\n",
    "\n"
   ]
  },
  {
   "cell_type": "code",
   "execution_count": 11,
   "metadata": {},
   "outputs": [
    {
     "name": "stdout",
     "output_type": "stream",
     "text": [
      "(9797,)\n"
     ]
    }
   ],
   "source": [
    "# selected_channel = [3, 6]\n",
    "# true_labels = []\n",
    "\n",
    "# for cir in range(data_cir.shape[0]):\n",
    "#     for channel in selected_channel:\n",
    "        \n",
    "#         # Setting True label\n",
    "#         if channel == 3:\n",
    "#             # Legitimate user (Alice)\n",
    "#             true_label = 1  \n",
    "#         else:\n",
    "#             # Illegitimate user (Eve)\n",
    "#             true_label = -1\n",
    "#         true_labels.append(true_label)\n",
    "        \n",
    "        \n",
    "# Define channels\n",
    "legit_channel = 3  # Channel 3 is legitimate\n",
    "illegit_channel = 6  # Channel 6 is illegitimate\n",
    "\n",
    "# Extract data for legitimate and illegitimate channels\n",
    "X_legit = data_cir[:, legit_channel, :, :]  # Shape: (9797, 251, 2)\n",
    "X_illegit = data_cir[:, illegit_channel, :, :]  # Shape: (9797, 251, 2)\n",
    "\n",
    "\n",
    "# Create labels\n",
    "y_legit = np.ones(X_legit.shape[0])  # Label as 1 for legit\n",
    "print(y_legit.shape)\n",
    "y_illegit = -1 * np.ones(X_illegit.shape[0])  # Label as -1 for illegit\n",
    "\n",
    "# Combine data and labels\n",
    "X_combined = np.concatenate([X_legit, X_illegit], axis=0)\n",
    "y_combined = np.concatenate([y_legit, y_illegit], axis=0)"
   ]
  },
  {
   "cell_type": "code",
   "execution_count": null,
   "metadata": {},
   "outputs": [],
   "source": [
    "# Assuming the labels are known and binary (1 for legitimate, -1 for illegitimate)\n",
    "labels = measurement['labels']\n",
    "\n",
    "# Split data into training and testing sets\n",
    "X_train, X_test, y_train, y_test = train_test_split(data, labels, test_size=0.2, random_state=42)\n",
    "\n",
    "# Reshape data for sparse representation (flatten channels and samples)\n",
    "# Merging real and imaginary parts into a single dimension\n",
    "X_train_reshaped = X_train.reshape(X_train.shape[0], -1)\n",
    "X_test_reshaped = X_test.reshape(X_test.shape[0], -1)\n",
    "\n",
    "# Step 1: Learn dictionary on training data\n",
    "n_components = 100  # Number of dictionary atoms\n",
    "dict_learner = DictionaryLearning(n_components=n_components, transform_algorithm='lasso_lars', random_state=42)\n",
    "X_train_sparse = dict_learner.fit_transform(X_train_reshaped)\n",
    "\n",
    "# Step 2: Transform test data into sparse codes using learned dictionary\n",
    "X_test_sparse = dict_learner.transform(X_test_reshaped)\n",
    "\n",
    "# Step 3: Train a classifier on sparse codes\n",
    "classifier = make_pipeline(StandardScaler(), SVC(kernel='linear', random_state=42))\n",
    "classifier.fit(X_train_sparse, y_train)\n",
    "\n",
    "# Step 4: Predict on test data\n",
    "y_pred = classifier.predict(X_test_sparse)\n",
    "\n",
    "# Evaluate the classifier\n",
    "accuracy = accuracy_score(y_test, y_pred)\n",
    "print(f'Accuracy: {accuracy}')\n",
    "print(classification_report(y_test, y_pred))"
   ]
  }
 ],
 "metadata": {
  "kernelspec": {
   "display_name": "CRKG",
   "language": "python",
   "name": "python3"
  },
  "language_info": {
   "codemirror_mode": {
    "name": "ipython",
    "version": 3
   },
   "file_extension": ".py",
   "mimetype": "text/x-python",
   "name": "python",
   "nbconvert_exporter": "python",
   "pygments_lexer": "ipython3",
   "version": "3.12.3"
  }
 },
 "nbformat": 4,
 "nbformat_minor": 2
}
