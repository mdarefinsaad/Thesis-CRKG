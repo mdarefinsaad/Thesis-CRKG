{
 "cells": [
  {
   "cell_type": "code",
   "execution_count": 1,
   "metadata": {},
   "outputs": [],
   "source": [
    "# Library\n",
    "import numpy as np\n",
    "from sklearn.linear_model import OrthogonalMatchingPursuit\n",
    "from sklearn.model_selection import train_test_split \n",
    "from sklearn.metrics import confusion_matrix\n",
    "from sklearn.decomposition import DictionaryLearning, sparse_encode\n",
    "from sklearn.preprocessing import StandardScaler\n",
    "from sklearn.decomposition import PCA\n",
    "from sklearn.linear_model import LogisticRegression\n",
    "from sklearn.decomposition import SparseCoder\n",
    "\n",
    "np.set_printoptions(threshold=np.inf)\n",
    "np.set_printoptions(suppress=True)\n",
    "\n",
    "# Load data\n",
    "measurement = np.load('../../dataset/meas_symm_1.npz', allow_pickle=False)\n",
    "header, data = measurement['header'], measurement['data']\n",
    "data_cir = data['cirs'][:1000]  # Using 1000 samples for simplicity\n",
    "\n",
    "# Split data\n",
    "trainCIR, testCIR = train_test_split(data_cir, test_size=0.2, random_state=42)\n",
    "\n",
    "# Define channels\n",
    "alice_channel = 3  # Channel 3 is ALICE (legitimate)\n",
    "eve_channel = 6    # Channel 6 is EVE (illegitimate)\n",
    "\n",
    "# Set the number of dictionary atoms (components) and sparsity level\n",
    "# N_components = 3  # Number of Sparse Components\n",
    "n_components = 20 # Adjust this number based on your data\n",
    "n_nonzero_coefs = 5  # Number of non-zero coefficients in sparse coding"
   ]
  },
  {
   "cell_type": "code",
   "execution_count": 13,
   "metadata": {},
   "outputs": [],
   "source": [
    "def create_sparse_representation(data, n_components, n_nonzero_coefs):\n",
    "    \"\"\"\n",
    "    Create a sparse representation with reduced dimensions.\n",
    "    \n",
    "    Parameters:\n",
    "    - data: Input data with shape (n_samples, n_data_points, n_features)\n",
    "    - n_components: Reduced dimensionality\n",
    "    - n_nonzero_coefs: Sparsity level\n",
    "    \n",
    "    Returns:\n",
    "    - Sparse representation with reduced dimensions.\n",
    "    \"\"\"\n",
    "    n_samples, n_data_points, n_features = data.shape\n",
    "\n",
    "    # Initialize sparse representation array\n",
    "    sparse_representation = np.zeros((n_samples, n_components, n_features))\n",
    "    print(sparse_representation.shape)\n",
    "    # Process each feature separately\n",
    "    for feature in range(n_features):\n",
    "        # Extract data for current feature\n",
    "        feature_data = data[:, :, feature]  # Shape: (n_samples, n_data_points)\n",
    "        print(feature_data.shape)\n",
    "        # Learn a dictionary (or use a pre-defined one)\n",
    "        dict_learner = DictionaryLearning(\n",
    "            n_components=n_components, \n",
    "            transform_algorithm='lasso_lars', \n",
    "            transform_n_nonzero_coefs=n_nonzero_coefs\n",
    "        )\n",
    "        dict_learner.fit(feature_data)\n",
    "        sparse_codes = dict_learner.transform(feature_data)\n",
    "        print(sparse_codes.shape)\n",
    "\n",
    "        # Store the sparse codes for this feature\n",
    "        sparse_representation[:, :, feature] = sparse_codes\n",
    "\n",
    "    return sparse_representation"
   ]
  },
  {
   "cell_type": "code",
   "execution_count": 14,
   "metadata": {},
   "outputs": [
    {
     "name": "stdout",
     "output_type": "stream",
     "text": [
      "train_data_combined.shape: (1600, 251, 2)\n",
      "(1600, 20, 2)\n",
      "(1600, 251)\n",
      "(1600, 20)\n",
      "(1600, 251)\n",
      "(1600, 20)\n",
      "train_sparse_cirs.shape: (1600, 20, 2)\n"
     ]
    }
   ],
   "source": [
    "# ----------------------------------------------------- Preprocessing -----------------------------------------------------\n",
    "# ----------------- Training data -----------------\n",
    "train_alice_cirs = trainCIR[:, alice_channel, :, :]  # Alice's CIRs\n",
    "train_eve_cirs = trainCIR[:, eve_channel, :, :]      # Eve's CIRs\n",
    "train_data_combined  = np.vstack((train_alice_cirs, train_eve_cirs))\n",
    "print('train_data_combined.shape:', train_data_combined.shape)\n",
    "\n",
    "# Create sparse representation\n",
    "train_sparse_cirs = create_sparse_representation(train_data_combined, n_components, n_nonzero_coefs)\n",
    "print('train_sparse_cirs.shape:', train_sparse_cirs.shape)"
   ]
  },
  {
   "cell_type": "code",
   "execution_count": 5,
   "metadata": {},
   "outputs": [
    {
     "name": "stdout",
     "output_type": "stream",
     "text": [
      "test_cirs.shape: (400, 20, 2)\n",
      "Test data shape: (400, 40)\n"
     ]
    }
   ],
   "source": [
    "test_alice_CIRs = testCIR[:, alice_channel, :, :]\n",
    "test_eve_CIRs = testCIR[:, eve_channel, :, :]\n",
    "test_cirs = np.vstack((test_alice_CIRs, test_eve_CIRs))\n",
    "\n",
    "test_sparse_cirs = create_sparse_representation(test_cirs, n_components, n_nonzero_coefs)\n",
    "print('test_cirs.shape:', test_sparse_cirs.shape)\n",
    "test_sparse_cirs_reshaped = test_sparse_cirs.reshape(test_sparse_cirs.shape[0], -1)\n",
    "print('Test data shape:', test_sparse_cirs_reshaped.shape)"
   ]
  },
  {
   "cell_type": "code",
   "execution_count": 6,
   "metadata": {},
   "outputs": [],
   "source": [
    "# Labels for training data\n",
    "train_alice_labels = np.zeros(train_alice_cirs.shape[0])  # Label '0' for Alice.\n",
    "train_eve_labels = np.ones(train_eve_cirs.shape[0])       # Label '1' for Eve.\n",
    "train_labels = np.hstack((train_alice_labels, train_eve_labels))\n",
    "\n",
    "# Labels for test data\n",
    "test_alice_labels = np.zeros(test_alice_CIRs.shape[0])  # Label '0' for Alice.\n",
    "test_eve_labels = np.ones(test_eve_CIRs.shape[0])       # Label '1' for Eve.\n",
    "test_labels = np.hstack((test_alice_labels, test_eve_labels))"
   ]
  },
  {
   "cell_type": "code",
   "execution_count": 7,
   "metadata": {},
   "outputs": [
    {
     "name": "stdout",
     "output_type": "stream",
     "text": [
      "Dictionary shape: (40, 1600)\n"
     ]
    }
   ],
   "source": [
    "# Dictionary\n",
    "atoms = train_sparse_cirs.reshape(train_sparse_cirs.shape[0], -1)\n",
    "D = atoms.T\n",
    "print('Dictionary shape:', D.shape)"
   ]
  },
  {
   "cell_type": "code",
   "execution_count": 8,
   "metadata": {},
   "outputs": [],
   "source": [
    "# ---------------------------------------------- Sparse Coding & Classification ------------------------------------------------\n",
    "# Step 5: Sparse Coding Function\n",
    "def find_sparse_coefficients(tSample, D, n_nonzero_coefs=5):\n",
    "    # print(f'tSample: {tSample.shape}')\n",
    "    omp = OrthogonalMatchingPursuit(n_nonzero_coefs=n_nonzero_coefs)\n",
    "    omp.fit(D, tSample)\n",
    "    return omp.coef_\n",
    "\n",
    "# Step 6: Function to Calculate Residuals for Each Class\n",
    "def calculate_residual(tSample, D, coefficients, class_indices):\n",
    "    coef_class = np.zeros_like(coefficients)\n",
    "    coef_class[class_indices] = coefficients[class_indices]  # Keep onltSample coefficients for the specified class\n",
    "    reconstructed_signal = D @ coef_class\n",
    "    residual = np.linalg.norm(tSample - reconstructed_signal)\n",
    "    return residual\n",
    "\n",
    "# Step 7: Classification Function\n",
    "def classify_signal(tSample, D, trainLabel):\n",
    "    \n",
    "    # Find sparse coefficients for the new signal\n",
    "    coefficients = find_sparse_coefficients(tSample, D)\n",
    "    \n",
    "    \n",
    "    # Initialize residuals list\n",
    "    residuals = []\n",
    "\n",
    "    # Calculate residual for each class\n",
    "    unique_classes = np.unique(trainLabel) # 0 and 1\n",
    "    for class_label in unique_classes:\n",
    "        class_indices = np.where(trainLabel == class_label)[0]  # Indices of columns in D belonging to this class\n",
    "        residual = calculate_residual(tSample, D, coefficients, class_indices)\n",
    "        residuals.append(residual)\n",
    "\n",
    "    # Predict the class with the smallest residual\n",
    "    predicted_class = unique_classes[np.argmin(residuals)]\n",
    "    return predicted_class\n",
    "\n",
    "# Step 8: Classifying Test Data and Evaluating the Model\n",
    "predictions = []\n",
    "\n",
    "for cir in test_sparse_cirs_reshaped:\n",
    "    predicted_class = classify_signal(cir, D, train_labels)\n",
    "    predictions.append(predicted_class)\n",
    "\n",
    "predictions = np.array(predictions)\n",
    "# print(predictions.shape)\n"
   ]
  },
  {
   "cell_type": "code",
   "execution_count": 9,
   "metadata": {},
   "outputs": [
    {
     "name": "stdout",
     "output_type": "stream",
     "text": [
      "Classification Accuracy: 53.50%\n",
      "tp: 170\n",
      "tn: 44\n",
      "fp: 156\n",
      "fn: 30\n",
      "MDR: 0.78\n",
      "FAR: 0.15\n",
      "AR: 0.535\n"
     ]
    }
   ],
   "source": [
    "from sklearn.metrics import accuracy_score, confusion_matrix\n",
    "\n",
    "# Calculate accuracy\n",
    "accuracy = accuracy_score(test_labels, predictions)\n",
    "print(f\"Classification Accuracy: {accuracy * 100:.2f}%\")\n",
    "\n",
    "# Calculate confusion matrix\n",
    "tn, fp, fn, tp = confusion_matrix(test_labels, predictions, labels=[0, 1]).ravel()\n",
    "\n",
    "print(f\"tp: {tp}\")\n",
    "print(f\"tn: {tn}\")\n",
    "print(f\"fp: {fp}\")\n",
    "print(f\"fn: {fn}\")\n",
    "\n",
    "# Calculate MDR, FAR, AR\n",
    "MDR = fp / (fp + tn) if (fp + tn) > 0 else 0\n",
    "FAR = fn / (fn + tp) if (fn + tp) > 0 else 0\n",
    "gamma = (tp + fn) / (tn + fp) if (tn + fp) > 0 else 0\n",
    "AR = (tp + gamma * tn) / ((tp + fn) + gamma * (tn + fp)) if ((tp + fn) + gamma * (tn + fp)) > 0 else 0\n",
    "\n",
    "print(f\"MDR: {MDR}\")\n",
    "print(f\"FAR: {FAR}\")\n",
    "print(f\"AR: {AR}\")\n"
   ]
  }
 ],
 "metadata": {
  "kernelspec": {
   "display_name": "CRKG",
   "language": "python",
   "name": "python3"
  },
  "language_info": {
   "codemirror_mode": {
    "name": "ipython",
    "version": 3
   },
   "file_extension": ".py",
   "mimetype": "text/x-python",
   "name": "python",
   "nbconvert_exporter": "python",
   "pygments_lexer": "ipython3",
   "version": "3.12.3"
  }
 },
 "nbformat": 4,
 "nbformat_minor": 2
}
