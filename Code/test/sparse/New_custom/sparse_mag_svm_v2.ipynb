{
 "cells": [
  {
   "cell_type": "code",
   "execution_count": 43,
   "metadata": {},
   "outputs": [],
   "source": [
    "# Library\n",
    "import numpy as np\n",
    "from sklearn.linear_model import OrthogonalMatchingPursuit\n",
    "from sklearn.model_selection import train_test_split \n",
    "from sklearn.metrics import confusion_matrix\n",
    "from sklearn.decomposition import DictionaryLearning, sparse_encode\n",
    "from sklearn.preprocessing import StandardScaler\n",
    "from sklearn.decomposition import PCA\n",
    "from sklearn.linear_model import LogisticRegression\n",
    "from sklearn.svm import SVC\n",
    "\n",
    "np.set_printoptions(threshold=np.inf)\n",
    "np.set_printoptions(suppress=True)\n",
    "\n",
    "# Load data\n",
    "measurement = np.load('../../dataset/meas_symm_1.npz', allow_pickle=False)\n",
    "header, data = measurement['header'], measurement['data']\n",
    "data_cir = data['cirs'][:1000]  # Using 1000 samples for simplicity\n",
    "\n",
    "# Split data\n",
    "trainCIR, testCIR = train_test_split(data_cir, test_size=0.2, random_state=42)\n",
    "\n",
    "# Define channels\n",
    "alice_channel = 3  # Channel 3 is ALICE (legitimate)\n",
    "eve_channel = 6    # Channel 6 is EVE (illegitimate)\n",
    "\n",
    "# Set the number of dictionary atoms (components) and sparsity level\n",
    "# N_components = 3  # Number of Sparse Components\n",
    "n_components = 10 # Adjust this number based on your data\n",
    "n_nonzero_coefs = 5  # Number of non-zero coefficients in sparse coding"
   ]
  },
  {
   "cell_type": "code",
   "execution_count": 44,
   "metadata": {},
   "outputs": [],
   "source": [
    "def create_sparse_representation(data, n_components, n_nonzero_coefs):\n",
    "    \"\"\"\n",
    "    Create a sparse representation with reduced dimensions.\n",
    "    \n",
    "    Parameters:\n",
    "    - data: Input data with shape (n_samples, n_data_points, n_features)\n",
    "    - n_components: Reduced dimensionality\n",
    "    - n_nonzero_coefs: Sparsity level\n",
    "    \n",
    "    Returns:\n",
    "    - Sparse representation with reduced dimensions.\n",
    "    \"\"\"\n",
    "    n_samples, n_data_points, n_features = data.shape\n",
    "\n",
    "    # Initialize sparse representation array\n",
    "    sparse_representation = np.zeros((n_samples, n_components, n_features))\n",
    "\n",
    "    # Process each feature separately\n",
    "    for feature in range(n_features):\n",
    "        # Extract data for current feature\n",
    "        feature_data = data[:, :, feature]  # Shape: (n_samples, n_data_points)\n",
    "\n",
    "        # Learn a dictionary (or use a pre-defined one)\n",
    "        dict_learner = DictionaryLearning(\n",
    "            n_components=n_components, \n",
    "            transform_algorithm='lasso_lars', \n",
    "            transform_n_nonzero_coefs=n_nonzero_coefs\n",
    "        )\n",
    "        dict_learner.fit(feature_data)\n",
    "        sparse_codes = dict_learner.transform(feature_data)\n",
    "\n",
    "        # Store the sparse codes for this feature\n",
    "        sparse_representation[:, :, feature] = sparse_codes\n",
    "\n",
    "    return sparse_representation"
   ]
  },
  {
   "cell_type": "code",
   "execution_count": 45,
   "metadata": {},
   "outputs": [
    {
     "name": "stdout",
     "output_type": "stream",
     "text": [
      "(1600, 10)\n"
     ]
    }
   ],
   "source": [
    "# ----------------------------------------------------- Preprocessing -----------------------------------------------------\n",
    "# ----------------- Training data -----------------\n",
    "train_alice_cirs = trainCIR[:, alice_channel, :, :]  # Alice's CIRs\n",
    "train_alice_real = train_alice_cirs[..., 0]  # Shape: (100, 251)\n",
    "train_alice_imaginary = train_alice_cirs[..., 1]  # Shape: (100, 251)\n",
    "train_alice_magnitude = np.sqrt(np.maximum(train_alice_real**2 + train_alice_imaginary**2, 0))\n",
    "train_alice_magnitude = train_alice_magnitude[..., np.newaxis]\n",
    "# train_alice_magnitude = np.abs(train_alice_cirs[..., 0] + 1j * train_alice_cirs[..., 1])\n",
    "\n",
    "train_eve_cirs = trainCIR[:, eve_channel, :, :]      # Eve's CIRs\n",
    "train_eve_real = train_alice_cirs[..., 0]  # Shape: (100, 251)\n",
    "train_eve_imaginary = train_alice_cirs[..., 1]  # Shape: (100, 251)\n",
    "train_eve_magnitude = np.sqrt(np.maximum(train_eve_real**2 + train_eve_imaginary**2, 0))\n",
    "train_eve_magnitude = train_eve_magnitude[..., np.newaxis]\n",
    "\n",
    "train_data_combined  = np.vstack((train_alice_magnitude, train_eve_magnitude))\n",
    "train_sparse_cirs = create_sparse_representation(train_data_combined, n_components, n_nonzero_coefs)\n",
    "train_sparse_cirs = train_sparse_cirs.reshape(train_sparse_cirs.shape[0], -1)\n",
    "print(train_sparse_cirs.shape)\n",
    "# # Learn the dictionary\n",
    "# dict_learner = DictionaryLearning(n_components=n_components, transform_algorithm='lasso_lars', transform_n_nonzero_coefs=n_nonzero_coefs)\n",
    "# dict_learner.fit(train_data_combined)\n",
    "# # D = dict_learner.components_  # Shape: (n_components, feature_dim)\n",
    "\n",
    "\n",
    "# train_alice_sparse_codes = dict_learner.transform(train_alice_magnitude)\n",
    "# train_eve_sparse_codes = dict_learner.transform(train_eve_magnitude)\n",
    "# train_sparse_codes = np.vstack((train_alice_sparse_codes, train_eve_sparse_codes))\n",
    "# print(train_alice_sparse_codes.shape)"
   ]
  },
  {
   "cell_type": "code",
   "execution_count": 46,
   "metadata": {},
   "outputs": [
    {
     "name": "stdout",
     "output_type": "stream",
     "text": [
      "(400, 10)\n"
     ]
    }
   ],
   "source": [
    "# ----------------- Test data -----------------\n",
    "test_alice_cirs = testCIR[:, alice_channel, :, :]\n",
    "test_alice_real = test_alice_cirs[..., 0]  # Shape: (100, 251)\n",
    "test_alice_imaginary = test_alice_cirs[..., 1]  # Shape: (100, 251)\n",
    "test_alice_magnitude = np.sqrt(np.maximum(test_alice_real**2 + test_alice_imaginary**2, 0))\n",
    "test_alice_magnitude = test_alice_magnitude[..., np.newaxis]\n",
    "\n",
    "test_eve_cirs = testCIR[:, eve_channel, :, :]\n",
    "test_eve_real = test_eve_cirs[..., 0]  # Shape: (100, 251)\n",
    "test_eve_imaginary = test_eve_cirs[..., 1]  # Shape: (100, 251)\n",
    "test_eve_magnitude = np.sqrt(np.maximum(test_eve_real**2 + test_eve_imaginary**2, 0))\n",
    "test_eve_magnitude = test_eve_magnitude[..., np.newaxis]\n",
    "\n",
    "# test amplitude\n",
    "# test_alice_magnitude = np.abs(test_alice_CIRs[..., 0] + 1j * test_alice_CIRs[..., 1])\n",
    "# test_eve_magnitude = np.abs(test_eve_CIRs[..., 0] + 1j * test_eve_CIRs[..., 1]) \n",
    "test_cirs_combined = np.vstack((test_alice_magnitude, test_eve_magnitude))\n",
    "test_sparse_cirs = create_sparse_representation(test_cirs_combined, n_components, n_nonzero_coefs)\n",
    "test_sparse_cirs = test_sparse_cirs.reshape(test_sparse_cirs.shape[0], -1)\n",
    "print(test_sparse_cirs.shape)\n",
    "# Transform test data into sparse codes\n",
    "# test_alice_sparse_codes = dict_learner.transform(test_alice_magnitude)\n",
    "# test_eve_sparse_codes = dict_learner.transform(test_eve_magnitude)\n",
    "\n",
    "# # Combine the sparse codes\n",
    "# test_sparse_codes = np.vstack((test_alice_sparse_codes, test_eve_sparse_codes))\n",
    "# print('Test data shape:', test_sparse_codes.shape)"
   ]
  },
  {
   "cell_type": "code",
   "execution_count": 47,
   "metadata": {},
   "outputs": [
    {
     "name": "stdout",
     "output_type": "stream",
     "text": [
      "(1600,)\n",
      "(400,)\n"
     ]
    }
   ],
   "source": [
    "# Labels for training data\n",
    "train_alice_labels = np.zeros(train_alice_cirs.shape[0])  # Label '0' for Alice.\n",
    "train_eve_labels = np.ones(train_eve_cirs.shape[0])       # Label '1' for Eve.\n",
    "train_labels = np.hstack((train_alice_labels, train_eve_labels))\n",
    "print(train_labels.shape)\n",
    "\n",
    "# Labels for test data\n",
    "test_alice_labels = np.zeros(test_alice_cirs.shape[0])  # Label '0' for Alice.\n",
    "test_eve_labels = np.ones(test_eve_cirs.shape[0])       # Label '1' for Eve.\n",
    "test_labels = np.hstack((test_alice_labels, test_eve_labels))\n",
    "print(test_labels.shape)\n"
   ]
  },
  {
   "cell_type": "code",
   "execution_count": 48,
   "metadata": {},
   "outputs": [],
   "source": [
    "# # Dictionary\n",
    "# D = train_sparse_codes.T\n",
    "# print('Dictionary shape:', D.shape)"
   ]
  },
  {
   "cell_type": "code",
   "execution_count": 49,
   "metadata": {},
   "outputs": [
    {
     "name": "stdout",
     "output_type": "stream",
     "text": [
      "(1600, 10)\n",
      "(400, 10)\n"
     ]
    }
   ],
   "source": [
    "scaler = StandardScaler()\n",
    "train_sparse_cirs = scaler.fit_transform(train_sparse_cirs)\n",
    "print(train_sparse_cirs.shape)\n",
    "# Apply the same scaling to test data\n",
    "test_sparse_cirs = scaler.transform(test_sparse_cirs)\n",
    "print(test_sparse_cirs.shape)"
   ]
  },
  {
   "cell_type": "code",
   "execution_count": 50,
   "metadata": {},
   "outputs": [],
   "source": [
    "# Initialize and train the SVM classifier\n",
    "classifier = SVC(kernel='rbf', random_state=42)\n",
    "classifier.fit(train_sparse_cirs, train_labels)\n",
    "\n",
    "# Predict on test data\n",
    "predictions = classifier.predict(test_sparse_cirs)"
   ]
  },
  {
   "cell_type": "code",
   "execution_count": 51,
   "metadata": {},
   "outputs": [
    {
     "name": "stdout",
     "output_type": "stream",
     "text": [
      "Classification Accuracy: 49.25%\n",
      "tp: 98\n",
      "tn: 99\n",
      "fp: 101\n",
      "fn: 102\n",
      "MDR: 0.505\n",
      "FAR: 0.51\n",
      "AR: 0.4925\n"
     ]
    }
   ],
   "source": [
    "from sklearn.metrics import accuracy_score, confusion_matrix\n",
    "\n",
    "# Calculate accuracy\n",
    "accuracy = accuracy_score(test_labels, predictions)\n",
    "print(f\"Classification Accuracy: {accuracy * 100:.2f}%\")\n",
    "\n",
    "# Calculate confusion matrix\n",
    "tn, fp, fn, tp = confusion_matrix(test_labels, predictions, labels=[0, 1]).ravel()\n",
    "\n",
    "print(f\"tp: {tp}\")\n",
    "print(f\"tn: {tn}\")\n",
    "print(f\"fp: {fp}\")\n",
    "print(f\"fn: {fn}\")\n",
    "\n",
    "# Calculate MDR, FAR, AR\n",
    "MDR = fp / (fp + tn) if (fp + tn) > 0 else 0\n",
    "FAR = fn / (fn + tp) if (fn + tp) > 0 else 0\n",
    "gamma = (tp + fn) / (tn + fp) if (tn + fp) > 0 else 0\n",
    "AR = (tp + gamma * tn) / ((tp + fn) + gamma * (tn + fp)) if ((tp + fn) + gamma * (tn + fp)) > 0 else 0\n",
    "\n",
    "print(f\"MDR: {MDR}\")\n",
    "print(f\"FAR: {FAR}\")\n",
    "print(f\"AR: {AR}\")\n"
   ]
  }
 ],
 "metadata": {
  "kernelspec": {
   "display_name": "CRKG",
   "language": "python",
   "name": "python3"
  },
  "language_info": {
   "codemirror_mode": {
    "name": "ipython",
    "version": 3
   },
   "file_extension": ".py",
   "mimetype": "text/x-python",
   "name": "python",
   "nbconvert_exporter": "python",
   "pygments_lexer": "ipython3",
   "version": "3.12.3"
  }
 },
 "nbformat": 4,
 "nbformat_minor": 2
}
