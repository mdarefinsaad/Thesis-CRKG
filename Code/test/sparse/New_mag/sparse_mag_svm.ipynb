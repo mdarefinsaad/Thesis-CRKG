{
 "cells": [
  {
   "cell_type": "code",
   "execution_count": 280,
   "metadata": {},
   "outputs": [],
   "source": [
    "# Library\n",
    "import numpy as np\n",
    "from sklearn.linear_model import OrthogonalMatchingPursuit\n",
    "from sklearn.model_selection import train_test_split \n",
    "from sklearn.metrics import confusion_matrix\n",
    "from sklearn.decomposition import DictionaryLearning, sparse_encode\n",
    "from sklearn.preprocessing import StandardScaler\n",
    "from sklearn.preprocessing import MinMaxScaler\n",
    "from sklearn.decomposition import PCA\n",
    "from sklearn.linear_model import LogisticRegression\n",
    "from sklearn.svm import SVC\n",
    "\n",
    "np.set_printoptions(threshold=np.inf)\n",
    "np.set_printoptions(suppress=True)\n",
    "\n",
    "# Load data\n",
    "measurement = np.load('../../dataset/meas_asymm_nomove_1.npz', allow_pickle=False)\n",
    "header, data = measurement['header'], measurement['data']\n",
    "data_cir = data['cirs'][:1000]  # Using 1000 samples for simplicity\n",
    "\n",
    "# Split data\n",
    "trainCIR, testCIR = train_test_split(data_cir, test_size=0.2, random_state=42)\n",
    "\n",
    "# Define channels\n",
    "alice_channel = 3  # Channel 3 is ALICE (legitimate)\n",
    "eve_channel = 6    # Channel 6 is EVE (illegitimate)\n",
    "\n",
    "# Set the number of dictionary atoms (components) and sparsity level\n",
    "# N_components = 3  # Number of Sparse Components\n",
    "n_components = 10  # Try values like 20, 50, or 100\n",
    "n_nonzero_coefs = 5 # Sparsity level"
   ]
  },
  {
   "cell_type": "code",
   "execution_count": 281,
   "metadata": {},
   "outputs": [],
   "source": [
    "def create_sparse_representation(data, n_components, n_nonzero_coefs):\n",
    "    \"\"\"\n",
    "    Create a sparse representation with reduced dimensions.\n",
    "    \n",
    "    Parameters:\n",
    "    - data: Input data with shape (n_samples, n_data_points, n_features)\n",
    "    - n_components: Reduced dimensionality\n",
    "    - n_nonzero_coefs: Sparsity level\n",
    "    \n",
    "    Returns:\n",
    "    - Sparse representation with reduced dimensions.\n",
    "    \"\"\"\n",
    "    n_samples, n_data_points, n_features = data.shape\n",
    "\n",
    "    # Initialize sparse representation array\n",
    "    sparse_representation = np.zeros((n_samples, n_components, n_features))\n",
    "\n",
    "    # Process each feature separately\n",
    "    for feature in range(n_features):\n",
    "        # Extract data for current feature\n",
    "        feature_data = data[:, :, feature]  # Shape: (n_samples, n_data_points)\n",
    "\n",
    "        # Learn a dictionary (or use a pre-defined one)\n",
    "        dict_learner = DictionaryLearning(\n",
    "            n_components=n_components, \n",
    "            transform_algorithm='lasso_lars', \n",
    "            transform_n_nonzero_coefs=n_nonzero_coefs\n",
    "        )\n",
    "        dict_learner.fit(feature_data)\n",
    "        sparse_codes = dict_learner.transform(feature_data)\n",
    "\n",
    "        # Store the sparse codes for this feature\n",
    "        sparse_representation[:, :, feature] = sparse_codes\n",
    "\n",
    "    return sparse_representation"
   ]
  },
  {
   "cell_type": "code",
   "execution_count": 282,
   "metadata": {},
   "outputs": [
    {
     "name": "stdout",
     "output_type": "stream",
     "text": [
      "(800, 10)\n",
      "[49128.55566909 -3821.45888911  6381.15835743 -9042.81129299\n",
      " 10380.35838822  4963.07154832   150.51064708  9267.77127048\n",
      "  1753.77742528  -225.00391632]\n"
     ]
    }
   ],
   "source": [
    "# ----------------------------------------------------- Preprocessing -----------------------------------------------------\n",
    "# ----------------- Training data -----------------\n",
    "train_alice_cirs = trainCIR[:, alice_channel, :, :]  # Alice's CIRs\n",
    "train_eve_cirs = trainCIR[:, eve_channel, :, :]      # Eve's CIRs\n",
    "train_alice_magnitude = np.abs(train_alice_cirs[..., 0] + 1j * train_alice_cirs[..., 1])\n",
    "train_eve_magnitude = np.abs(train_eve_cirs[..., 0] + 1j * train_eve_cirs[..., 1])\n",
    "train_data_combined  = np.vstack((train_alice_magnitude, train_eve_magnitude))\n",
    "\n",
    "# Learn the dictionary\n",
    "dict_learner = DictionaryLearning(n_components=n_components, transform_algorithm='lasso_lars', transform_n_nonzero_coefs=n_nonzero_coefs, n_jobs= -1)\n",
    "dict_learner.fit(train_data_combined)\n",
    "# D = dict_learner.components_  # Shape: (n_components, feature_dim)\n",
    "\n",
    "\n",
    "train_alice_sparse_codes = dict_learner.transform(train_alice_magnitude)\n",
    "train_eve_sparse_codes = dict_learner.transform(train_eve_magnitude)\n",
    "train_sparse_codes = np.vstack((train_alice_sparse_codes, train_eve_sparse_codes))\n",
    "print(train_alice_sparse_codes.shape)\n",
    "print(train_alice_sparse_codes[0])"
   ]
  },
  {
   "cell_type": "code",
   "execution_count": 283,
   "metadata": {},
   "outputs": [
    {
     "name": "stdout",
     "output_type": "stream",
     "text": [
      "Test data shape: (400, 10)\n"
     ]
    }
   ],
   "source": [
    "test_alice_CIRs = testCIR[:, alice_channel, :, :]\n",
    "test_eve_CIRs = testCIR[:, eve_channel, :, :]\n",
    "\n",
    "# test amplitude\n",
    "test_alice_magnitude = np.abs(test_alice_CIRs[..., 0] + 1j * test_alice_CIRs[..., 1])\n",
    "test_eve_magnitude = np.abs(test_eve_CIRs[..., 0] + 1j * test_eve_CIRs[..., 1]) \n",
    "test_cirs = np.vstack((test_alice_magnitude, test_eve_magnitude))\n",
    "\n",
    "\n",
    "# Transform test data into sparse codes\n",
    "test_alice_sparse_codes = dict_learner.transform(test_alice_magnitude)\n",
    "test_eve_sparse_codes = dict_learner.transform(test_eve_magnitude)\n",
    "\n",
    "# Combine the sparse codes\n",
    "test_sparse_codes = np.vstack((test_alice_sparse_codes, test_eve_sparse_codes))\n",
    "print('Test data shape:', test_sparse_codes.shape)"
   ]
  },
  {
   "cell_type": "code",
   "execution_count": 284,
   "metadata": {},
   "outputs": [],
   "source": [
    "# Labels for training data\n",
    "train_alice_labels = np.zeros(train_alice_sparse_codes.shape[0])  # Label '0' for Alice.\n",
    "train_eve_labels = np.ones(train_eve_sparse_codes.shape[0])       # Label '1' for Eve.\n",
    "train_labels = np.hstack((train_alice_labels, train_eve_labels))\n",
    "\n",
    "# Labels for test data\n",
    "test_alice_labels = np.zeros(test_alice_sparse_codes.shape[0])  # Label '0' for Alice.\n",
    "test_eve_labels = np.ones(test_eve_sparse_codes.shape[0])       # Label '1' for Eve.\n",
    "test_labels = np.hstack((test_alice_labels, test_eve_labels))\n"
   ]
  },
  {
   "cell_type": "code",
   "execution_count": 285,
   "metadata": {},
   "outputs": [],
   "source": [
    "# # Dictionary\n",
    "# D = train_sparse_codes.T\n",
    "# print('Dictionary shape:', D.shape)"
   ]
  },
  {
   "cell_type": "code",
   "execution_count": 286,
   "metadata": {},
   "outputs": [
    {
     "name": "stdout",
     "output_type": "stream",
     "text": [
      "Train data shape: (1600, 10)\n"
     ]
    }
   ],
   "source": [
    "scaler = StandardScaler()\n",
    "train_sparse_codes = scaler.fit_transform(train_sparse_codes)\n",
    "# Apply the same scaling to test data\n",
    "test_sparse_codes = scaler.transform(test_sparse_codes)\n",
    "print('Train data shape:', train_sparse_codes.shape)"
   ]
  },
  {
   "cell_type": "code",
   "execution_count": 287,
   "metadata": {},
   "outputs": [],
   "source": [
    "# Initialize and train the SVM classifier\n",
    "classifier = SVC(kernel='rbf', random_state=42)\n",
    "classifier.fit(train_sparse_codes, train_labels)\n",
    "\n",
    "# Predict on test data\n",
    "predictions = classifier.predict(test_sparse_codes)"
   ]
  },
  {
   "cell_type": "code",
   "execution_count": 288,
   "metadata": {},
   "outputs": [
    {
     "name": "stdout",
     "output_type": "stream",
     "text": [
      "Classification Accuracy: 100.00%\n",
      "tp: 200\n",
      "tn: 200\n",
      "fp: 0\n",
      "fn: 0\n",
      "MDR: 0.0\n",
      "FAR: 0.0\n",
      "AR: 1.0\n"
     ]
    }
   ],
   "source": [
    "from sklearn.metrics import accuracy_score, confusion_matrix\n",
    "\n",
    "# Calculate accuracy\n",
    "accuracy = accuracy_score(test_labels, predictions)\n",
    "print(f\"Classification Accuracy: {accuracy * 100:.2f}%\")\n",
    "\n",
    "# Calculate confusion matrix\n",
    "tn, fp, fn, tp = confusion_matrix(test_labels, predictions, labels=[0, 1]).ravel()\n",
    "\n",
    "print(f\"tp: {tp}\")\n",
    "print(f\"tn: {tn}\")\n",
    "print(f\"fp: {fp}\")\n",
    "print(f\"fn: {fn}\")\n",
    "\n",
    "# Calculate MDR, FAR, AR\n",
    "MDR = fp / (fp + tn) if (fp + tn) > 0 else 0\n",
    "FAR = fn / (fn + tp) if (fn + tp) > 0 else 0\n",
    "gamma = (tp + fn) / (tn + fp) if (tn + fp) > 0 else 0\n",
    "AR = (tp + gamma * tn) / ((tp + fn) + gamma * (tn + fp)) if ((tp + fn) + gamma * (tn + fp)) > 0 else 0\n",
    "\n",
    "print(f\"MDR: {MDR}\")\n",
    "print(f\"FAR: {FAR}\")\n",
    "print(f\"AR: {AR}\")\n"
   ]
  }
 ],
 "metadata": {
  "kernelspec": {
   "display_name": "CRKG",
   "language": "python",
   "name": "python3"
  },
  "language_info": {
   "codemirror_mode": {
    "name": "ipython",
    "version": 3
   },
   "file_extension": ".py",
   "mimetype": "text/x-python",
   "name": "python",
   "nbconvert_exporter": "python",
   "pygments_lexer": "ipython3",
   "version": "3.12.3"
  }
 },
 "nbformat": 4,
 "nbformat_minor": 2
}
