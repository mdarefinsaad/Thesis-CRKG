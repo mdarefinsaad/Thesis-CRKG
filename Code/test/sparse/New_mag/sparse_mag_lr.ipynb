{
 "cells": [
  {
   "cell_type": "code",
   "execution_count": 1,
   "metadata": {},
   "outputs": [],
   "source": [
    "# Library\n",
    "import numpy as np\n",
    "from sklearn.linear_model import OrthogonalMatchingPursuit\n",
    "from sklearn.model_selection import train_test_split \n",
    "from sklearn.metrics import confusion_matrix\n",
    "from sklearn.decomposition import DictionaryLearning, sparse_encode\n",
    "from sklearn.preprocessing import StandardScaler\n",
    "from sklearn.decomposition import PCA\n",
    "from sklearn.linear_model import LogisticRegression\n",
    "from sklearn.svm import SVC\n",
    "\n",
    "np.set_printoptions(threshold=np.inf)\n",
    "np.set_printoptions(suppress=True)\n",
    "\n",
    "# Load data\n",
    "measurement = np.load('../../dataset/meas_symm_1.npz', allow_pickle=False)\n",
    "header, data = measurement['header'], measurement['data']\n",
    "data_cir = data['cirs'][:1000]  # Using 1000 samples for simplicity\n",
    "\n",
    "# Split data\n",
    "trainCIR, testCIR = train_test_split(data_cir, test_size=0.2, random_state=42)\n",
    "\n",
    "# Define channels\n",
    "alice_channel = 3  # Channel 3 is ALICE (legitimate)\n",
    "eve_channel = 6    # Channel 6 is EVE (illegitimate)\n",
    "\n",
    "# Set the number of dictionary atoms (components) and sparsity level\n",
    "# N_components = 3  # Number of Sparse Components\n",
    "n_components = 20 # Adjust this number based on your data\n",
    "n_nonzero_coefs = 5  # Number of non-zero coefficients in sparse coding"
   ]
  },
  {
   "cell_type": "code",
   "execution_count": 2,
   "metadata": {},
   "outputs": [],
   "source": [
    "def create_sparse_representation(data, n_components, n_nonzero_coefs):\n",
    "    \"\"\"\n",
    "    Create a sparse representation with reduced dimensions.\n",
    "    \n",
    "    Parameters:\n",
    "    - data: Input data with shape (n_samples, n_data_points, n_features)\n",
    "    - n_components: Reduced dimensionality\n",
    "    - n_nonzero_coefs: Sparsity level\n",
    "    \n",
    "    Returns:\n",
    "    - Sparse representation with reduced dimensions.\n",
    "    \"\"\"\n",
    "    n_samples, n_data_points, n_features = data.shape\n",
    "\n",
    "    # Initialize sparse representation array\n",
    "    sparse_representation = np.zeros((n_samples, n_components, n_features))\n",
    "\n",
    "    # Process each feature separately\n",
    "    for feature in range(n_features):\n",
    "        # Extract data for current feature\n",
    "        feature_data = data[:, :, feature]  # Shape: (n_samples, n_data_points)\n",
    "\n",
    "        # Learn a dictionary (or use a pre-defined one)\n",
    "        dict_learner = DictionaryLearning(\n",
    "            n_components=n_components, \n",
    "            transform_algorithm='lasso_lars', \n",
    "            transform_n_nonzero_coefs=n_nonzero_coefs\n",
    "        )\n",
    "        dict_learner.fit(feature_data)\n",
    "        sparse_codes = dict_learner.transform(feature_data)\n",
    "\n",
    "        # Store the sparse codes for this feature\n",
    "        sparse_representation[:, :, feature] = sparse_codes\n",
    "\n",
    "    return sparse_representation"
   ]
  },
  {
   "cell_type": "code",
   "execution_count": 3,
   "metadata": {},
   "outputs": [
    {
     "name": "stdout",
     "output_type": "stream",
     "text": [
      "(800, 20)\n"
     ]
    }
   ],
   "source": [
    "# ----------------------------------------------------- Preprocessing -----------------------------------------------------\n",
    "# ----------------- Training data -----------------\n",
    "train_alice_cirs = trainCIR[:, alice_channel, :, :]  # Alice's CIRs\n",
    "train_eve_cirs = trainCIR[:, eve_channel, :, :]      # Eve's CIRs\n",
    "train_alice_magnitude = np.abs(train_alice_cirs[..., 0] + 1j * train_alice_cirs[..., 1])\n",
    "train_eve_magnitude = np.abs(train_eve_cirs[..., 0] + 1j * train_eve_cirs[..., 1])\n",
    "train_data_combined  = np.vstack((train_alice_magnitude, train_eve_magnitude))\n",
    "\n",
    "# Learn the dictionary\n",
    "dict_learner = DictionaryLearning(n_components=n_components, transform_algorithm='lasso_lars', transform_n_nonzero_coefs=n_nonzero_coefs)\n",
    "dict_learner.fit(train_data_combined)\n",
    "# D = dict_learner.components_  # Shape: (n_components, feature_dim)\n",
    "\n",
    "\n",
    "train_alice_sparse_codes = dict_learner.transform(train_alice_magnitude)\n",
    "train_eve_sparse_codes = dict_learner.transform(train_eve_magnitude)\n",
    "train_sparse_codes = np.vstack((train_alice_sparse_codes, train_eve_sparse_codes))\n",
    "print(train_alice_sparse_codes.shape)"
   ]
  },
  {
   "cell_type": "code",
   "execution_count": 4,
   "metadata": {},
   "outputs": [
    {
     "name": "stdout",
     "output_type": "stream",
     "text": [
      "Test data shape: (400, 20)\n"
     ]
    }
   ],
   "source": [
    "test_alice_CIRs = testCIR[:, alice_channel, :, :]\n",
    "test_eve_CIRs = testCIR[:, eve_channel, :, :]\n",
    "\n",
    "# test amplitude\n",
    "test_alice_magnitude = np.abs(test_alice_CIRs[..., 0] + 1j * test_alice_CIRs[..., 1])\n",
    "test_eve_magnitude = np.abs(test_eve_CIRs[..., 0] + 1j * test_eve_CIRs[..., 1]) \n",
    "test_cirs = np.vstack((test_alice_magnitude, test_eve_magnitude))\n",
    "\n",
    "\n",
    "# Transform test data into sparse codes\n",
    "test_alice_sparse_codes = dict_learner.transform(test_alice_magnitude)\n",
    "test_eve_sparse_codes = dict_learner.transform(test_eve_magnitude)\n",
    "\n",
    "# Combine the sparse codes\n",
    "test_sparse_codes = np.vstack((test_alice_sparse_codes, test_eve_sparse_codes))\n",
    "print('Test data shape:', test_sparse_codes.shape)"
   ]
  },
  {
   "cell_type": "code",
   "execution_count": 5,
   "metadata": {},
   "outputs": [],
   "source": [
    "# Labels for training data\n",
    "train_alice_labels = np.zeros(train_alice_sparse_codes.shape[0])  # Label '0' for Alice.\n",
    "train_eve_labels = np.ones(train_eve_sparse_codes.shape[0])       # Label '1' for Eve.\n",
    "train_labels = np.hstack((train_alice_labels, train_eve_labels))\n",
    "\n",
    "# Labels for test data\n",
    "test_alice_labels = np.zeros(test_alice_sparse_codes.shape[0])  # Label '0' for Alice.\n",
    "test_eve_labels = np.ones(test_eve_sparse_codes.shape[0])       # Label '1' for Eve.\n",
    "test_labels = np.hstack((test_alice_labels, test_eve_labels))\n"
   ]
  },
  {
   "cell_type": "code",
   "execution_count": 6,
   "metadata": {},
   "outputs": [],
   "source": [
    "# # Dictionary\n",
    "# D = train_sparse_codes.T\n",
    "# print('Dictionary shape:', D.shape)"
   ]
  },
  {
   "cell_type": "code",
   "execution_count": 7,
   "metadata": {},
   "outputs": [],
   "source": [
    "scaler = StandardScaler()\n",
    "train_sparse_codes = scaler.fit_transform(train_sparse_codes)\n",
    "# Apply the same scaling to test data\n",
    "test_sparse_codes = scaler.transform(test_sparse_codes)"
   ]
  },
  {
   "cell_type": "code",
   "execution_count": 8,
   "metadata": {},
   "outputs": [],
   "source": [
    "# Initialize the classifier\n",
    "classifier = LogisticRegression(max_iter=1000)\n",
    "\n",
    "# Train the classifier on the sparse codes\n",
    "classifier.fit(train_sparse_codes, train_labels)\n",
    "\n",
    "# Predict labels for test data\n",
    "predictions = classifier.predict(test_sparse_codes)"
   ]
  },
  {
   "cell_type": "code",
   "execution_count": 9,
   "metadata": {},
   "outputs": [
    {
     "name": "stdout",
     "output_type": "stream",
     "text": [
      "Classification Accuracy: 80.25%\n",
      "tp: 163\n",
      "tn: 158\n",
      "fp: 42\n",
      "fn: 37\n",
      "MDR: 0.21\n",
      "FAR: 0.185\n",
      "AR: 0.8025\n"
     ]
    }
   ],
   "source": [
    "from sklearn.metrics import accuracy_score, confusion_matrix\n",
    "\n",
    "# Calculate accuracy\n",
    "accuracy = accuracy_score(test_labels, predictions)\n",
    "print(f\"Classification Accuracy: {accuracy * 100:.2f}%\")\n",
    "\n",
    "# Calculate confusion matrix\n",
    "tn, fp, fn, tp = confusion_matrix(test_labels, predictions, labels=[0, 1]).ravel()\n",
    "\n",
    "print(f\"tp: {tp}\")\n",
    "print(f\"tn: {tn}\")\n",
    "print(f\"fp: {fp}\")\n",
    "print(f\"fn: {fn}\")\n",
    "\n",
    "# Calculate MDR, FAR, AR\n",
    "MDR = fp / (fp + tn) if (fp + tn) > 0 else 0\n",
    "FAR = fn / (fn + tp) if (fn + tp) > 0 else 0\n",
    "gamma = (tp + fn) / (tn + fp) if (tn + fp) > 0 else 0\n",
    "AR = (tp + gamma * tn) / ((tp + fn) + gamma * (tn + fp)) if ((tp + fn) + gamma * (tn + fp)) > 0 else 0\n",
    "\n",
    "print(f\"MDR: {MDR}\")\n",
    "print(f\"FAR: {FAR}\")\n",
    "print(f\"AR: {AR}\")\n"
   ]
  },
  {
   "cell_type": "code",
   "execution_count": 10,
   "metadata": {},
   "outputs": [
    {
     "name": "stdout",
     "output_type": "stream",
     "text": [
      "Original data shape: (100, 251, 2)\n",
      "Sparse representation shape: (100, 5, 2)\n"
     ]
    }
   ],
   "source": [
    "import numpy as np\n",
    "from sklearn.decomposition import SparseCoder\n",
    "\n",
    "def create_sparse_representation(data, n_components=5, n_nonzero_coefs=2):\n",
    "    \"\"\"\n",
    "    Create a sparse representation of multidimensional data\n",
    "    \n",
    "    Parameters:\n",
    "    - data: Input data with shape (n_samples, n_features, n_channels)\n",
    "    - n_components: Number of sparse components to use\n",
    "    - n_nonzero_coefs: Number of non-zero coefficients to keep\n",
    "    \n",
    "    Returns:\n",
    "    - Sparse representation of the data\n",
    "    \"\"\"\n",
    "    # Original data shape: (100, 251, 2)\n",
    "    n_samples, n_features, n_channels = data.shape\n",
    "    \n",
    "    # Initialize sparse representation array\n",
    "    sparse_representation = np.zeros((n_samples, n_components, n_channels))\n",
    "    \n",
    "    # Process each channel separately\n",
    "    for channel in range(n_channels):\n",
    "        # Extract data for current channel\n",
    "        channel_data = data[:, :, channel]\n",
    "        \n",
    "        # Reshape data to 2D for sparse coding\n",
    "        # Shape changes from (100, 251) to (100, 251)\n",
    "        X = channel_data.reshape(-1, n_features)\n",
    "        \n",
    "        # Create a random dictionary (you might want to learn this from data)\n",
    "        dictionary = np.random.randn(n_components, n_features)\n",
    "        \n",
    "        # Initialize Sparse Coder\n",
    "        sparse_coder = SparseCoder(\n",
    "            dictionary=dictionary, \n",
    "            transform_algorithm='lasso_lars',  # LASSO regression for sparsity\n",
    "            transform_n_nonzero_coefs=n_nonzero_coefs\n",
    "        )\n",
    "        \n",
    "        # Fit and transform the data to get sparse representation\n",
    "        sparse_codes = sparse_coder.transform(X)\n",
    "        \n",
    "        # Store the sparse codes for this channel\n",
    "        sparse_representation[:, :, channel] = sparse_codes.reshape(n_samples, n_components)\n",
    "    \n",
    "    return sparse_representation\n",
    "\n",
    "# Example usage\n",
    "# Generate random data\n",
    "data = np.random.randn(100, 251, 2)\n",
    "\n",
    "# Create sparse representation\n",
    "sparse_data = create_sparse_representation(data)\n",
    "\n",
    "# Print shapes to verify\n",
    "print(\"Original data shape:\", data.shape)\n",
    "print(\"Sparse representation shape:\", sparse_data.shape)"
   ]
  },
  {
   "cell_type": "code",
   "execution_count": 11,
   "metadata": {},
   "outputs": [
    {
     "name": "stdout",
     "output_type": "stream",
     "text": [
      "Original data shape: (100, 251, 2)\n",
      "Sparse representation shape: (100, 5, 2)\n"
     ]
    }
   ],
   "source": [
    "import numpy as np\n",
    "from sklearn.decomposition import SparseCoder\n",
    "\n",
    "def create_sparse_representation(data, n_components=5, n_nonzero_coefs=2):\n",
    "    \"\"\"\n",
    "    Create a sparse representation of CIR data\n",
    "    \n",
    "    Parameters:\n",
    "    - data: Input data with shape (n_samples, n_data_points, n_features)\n",
    "    - n_components: Number of sparse components to use\n",
    "    - n_nonzero_coefs: Number of non-zero coefficients to keep\n",
    "    \n",
    "    Returns:\n",
    "    - Sparse representation of the data\n",
    "    \"\"\"\n",
    "    # Original data shape: (100, 251, 2)\n",
    "    n_samples, n_data_points, n_features = data.shape\n",
    "\n",
    "    # Initialize sparse representation array\n",
    "    sparse_representation = np.zeros((n_samples, n_components, n_features))\n",
    "\n",
    "    # Process each feature separately\n",
    "    for feature in range(n_features):\n",
    "        # Extract data for current feature\n",
    "        feature_data = data[:, :, feature]  # Shape: (n_samples, n_data_points)\n",
    "        \n",
    "        # Create a random dictionary (you might want to learn this from data)\n",
    "        dictionary = np.random.randn(n_components, n_data_points)  # Shape: (n_components, n_data_points)\n",
    "        \n",
    "        # Initialize Sparse Coder\n",
    "        sparse_coder = SparseCoder(\n",
    "            dictionary=dictionary, \n",
    "            transform_algorithm='lasso_lars',  # LASSO regression for sparsity\n",
    "            transform_n_nonzero_coefs=n_nonzero_coefs\n",
    "        )\n",
    "        \n",
    "        # Fit and transform the data to get sparse representation\n",
    "        sparse_codes = sparse_coder.transform(feature_data)  # Shape: (n_samples, n_components)\n",
    "        \n",
    "        # Store the sparse codes for this feature\n",
    "        sparse_representation[:, :, feature] = sparse_codes  # Shape: (n_samples, n_components)\n",
    "\n",
    "    return sparse_representation\n",
    "\n",
    "# Example usage\n",
    "# Generate random data representing CIR signals\n",
    "data = np.random.randn(100, 251, 2)  # 100 CIR samples, 251 data points per CIR, 2 features (real and imaginary)\n",
    "\n",
    "# Create sparse representation\n",
    "sparse_data = create_sparse_representation(data)\n",
    "\n",
    "# Print shapes to verify\n",
    "print(\"Original data shape:\", data.shape)\n",
    "print(\"Sparse representation shape:\", sparse_data.shape)\n"
   ]
  }
 ],
 "metadata": {
  "kernelspec": {
   "display_name": "CRKG",
   "language": "python",
   "name": "python3"
  },
  "language_info": {
   "codemirror_mode": {
    "name": "ipython",
    "version": 3
   },
   "file_extension": ".py",
   "mimetype": "text/x-python",
   "name": "python",
   "nbconvert_exporter": "python",
   "pygments_lexer": "ipython3",
   "version": "3.12.3"
  }
 },
 "nbformat": 4,
 "nbformat_minor": 2
}
