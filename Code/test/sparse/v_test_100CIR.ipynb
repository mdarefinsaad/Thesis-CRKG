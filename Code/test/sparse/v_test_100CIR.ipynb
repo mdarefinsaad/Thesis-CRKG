{
 "cells": [
  {
   "cell_type": "code",
   "execution_count": 21,
   "metadata": {},
   "outputs": [],
   "source": [
    "import numpy as np\n",
    "from sklearn.linear_model import OrthogonalMatchingPursuit\n",
    "import matplotlib.pyplot as plt\n",
    "from sklearn.model_selection import train_test_split \n",
    "from sklearn.metrics import confusion_matrix\n",
    "\n",
    "np.set_printoptions(threshold=np.inf)\n",
    "np.set_printoptions(suppress=True)\n",
    "\n",
    "measurement = np.load('../dataset/meas_symm_1.npz', allow_pickle=False)\n",
    "header, data = measurement['header'], measurement['data']\n",
    "data_cir = data['cirs']"
   ]
  },
  {
   "cell_type": "code",
   "execution_count": 22,
   "metadata": {},
   "outputs": [],
   "source": [
    "# Define channels\n",
    "alice_channel = 3  # Channel 3 is ALICE (legitimate)\n",
    "eve_channel = 6  # Channel 6 is EVE (illegitimate)\n",
    "\n",
    "# Extract data for ALICE and BOB channels\n",
    "alice_CIRs = data_cir[:100, alice_channel, :, :]  # Shape: (9797, 251, 2)\n",
    "eve_CIRs = data_cir[:100, eve_channel, :, :]  # Shape: (9797, 251, 2)\n",
    "\n",
    "# ALICE features - real, imaginary, magnitude\n",
    "alice_real = alice_CIRs[:, :, 0]\n",
    "alice_imag = alice_CIRs[:, :, 1]\n",
    "alice_magnitude = np.abs(alice_real + 1j * alice_imag)\n",
    "alice_features = np.hstack((alice_real, alice_imag, alice_magnitude))\n",
    "\n",
    "\n",
    "# EVE features - real, imaginary, magnitude\n",
    "eve_real = eve_CIRs[:, :, 0]\n",
    "eve_imag = eve_CIRs[:, :, 1]\n",
    "eve_magnitude = np.abs(eve_real + 1j * eve_imag)\n",
    "eve_features = np.hstack((eve_real, eve_imag, eve_magnitude))\n",
    "\n",
    "# Atoms for our dictionary - Reshape Alice's data to flatten each sample.\n",
    "alice_atoms = alice_features.reshape(100, -1)  # Each sample becomes a long vector.\n",
    "eve_atoms = eve_features.reshape(100, -1)\n",
    "\n",
    "# Create labels for Alice and Eve.\n",
    "alice_labels = np.zeros(alice_atoms.shape[0])  # Label '0' for Alice.\n",
    "eve_labels = np.ones(eve_atoms.shape[0])       # Label '1' for Eve.\n",
    "\n",
    "# Combine data and labels.\n",
    "atoms = np.vstack((alice_atoms, eve_atoms))  # (200, 753)\n",
    "true_labels = np.hstack((alice_labels, eve_labels))  # (200,)\n"
   ]
  },
  {
   "cell_type": "code",
   "execution_count": 23,
   "metadata": {},
   "outputs": [],
   "source": [
    "# Step 3: Split the Data into Training and Test Sets\n",
    "trainData, testData, trainLabel, testLabel = train_test_split(atoms, true_labels, test_size=0.2, random_state=42, stratify=true_labels)\n",
    "\n",
    "# Step 4: Form the Dictionary D\n",
    "D = trainData.T\n",
    "\n",
    "# trainData (160, 753)\n",
    "# testData (40, 753)\n",
    "# trainLabel (160,)\n",
    "# testLabel (40,)"
   ]
  },
  {
   "cell_type": "code",
   "execution_count": 24,
   "metadata": {},
   "outputs": [],
   "source": [
    "# Step 5: Sparse Coding Function\n",
    "def find_sparse_coefficients(tSample, D, n_nonzero_coefs=10):\n",
    "    omp = OrthogonalMatchingPursuit(n_nonzero_coefs=n_nonzero_coefs)\n",
    "    omp.fit(D, tSample)\n",
    "    return omp.coef_\n",
    "\n",
    "# D - (753, 160)\n",
    "# tSample - (753,)"
   ]
  },
  {
   "cell_type": "code",
   "execution_count": 25,
   "metadata": {},
   "outputs": [],
   "source": [
    "# Step 6: Function to Calculate Residuals for Each Class\n",
    "def calculate_residual(tSample, D, coefficients, class_indices):\n",
    "    coef_class = np.zeros_like(coefficients)\n",
    "    coef_class[class_indices] = coefficients[class_indices]  # Keep onltSample coefficients for the specified class\n",
    "    reconstructed_signal = D @ coef_class\n",
    "    residual = np.linalg.norm(tSample - reconstructed_signal)\n",
    "    # print(f'Dictionary: {D.shape}')\n",
    "    # print(f'Coeff class: {coef_class.shape}')\n",
    "    # print(f'Reconstructed signal{reconstructed_signal.shape}')\n",
    "    return residual\n",
    "\n",
    "# tSample - (753,)\n",
    "# coefficients - (160,)\n",
    "# class_indices - (80,)\n",
    "# reconstructed_signal - (753,)\n"
   ]
  },
  {
   "cell_type": "code",
   "execution_count": 26,
   "metadata": {},
   "outputs": [],
   "source": [
    "# Step 7: Classification Function\n",
    "def classify_signal(tSample, D, trainLabel):\n",
    "    \n",
    "    # tSample - (753,)\n",
    "    # D - (753, 160)\n",
    "    # trainLabel - (160,)\n",
    "    # coefficients - (160,)\n",
    "    \n",
    "    # Find sparse coefficients for the new signal\n",
    "    coefficients = find_sparse_coefficients(tSample, D)\n",
    "    # print(coefficients)\n",
    "    \n",
    "    # Initialize residuals list\n",
    "    residuals = []\n",
    "\n",
    "    # Calculate residual for each class\n",
    "    unique_classes = np.unique(trainLabel) # 0 and 1\n",
    "    for class_label in unique_classes:\n",
    "        class_indices = np.where(trainLabel == class_label)[0]  # Indices of columns in D belonging to this class\n",
    "        residual = calculate_residual(tSample, D, coefficients, class_indices)\n",
    "        residuals.append(residual)\n",
    "\n",
    "    # Predict the class with the smallest residual\n",
    "    predicted_class = unique_classes[np.argmin(residuals)]\n",
    "    return predicted_class\n"
   ]
  },
  {
   "cell_type": "code",
   "execution_count": 27,
   "metadata": {},
   "outputs": [
    {
     "name": "stdout",
     "output_type": "stream",
     "text": [
      "Classification Accuracy: 85.00%\n"
     ]
    }
   ],
   "source": [
    "# Step 8: Classifying Test Data and Evaluating the Model\n",
    "\n",
    "# testData (40, 753)\n",
    "predictions = []\n",
    "for testSample in testData:\n",
    "    predicted_class = classify_signal(testSample, D, trainLabel)\n",
    "    predictions.append(predicted_class)\n",
    "\n",
    "\n",
    "# Convert predictions to a numpy array for comparison\n",
    "predictions = np.array(predictions)\n",
    "# print(predictions)\n",
    "\n",
    "# Step 9: Calculate Accuracy\n",
    "accuracy = np.mean(predictions == testLabel)\n",
    "print(f\"Classification Accuracy: {accuracy * 100:.2f}%\")"
   ]
  },
  {
   "cell_type": "code",
   "execution_count": 28,
   "metadata": {},
   "outputs": [
    {
     "name": "stdout",
     "output_type": "stream",
     "text": [
      "\n",
      "Total testing channel: 80\n",
      "tp: 20\n",
      "tn: 14\n",
      "fp: 6\n",
      "fn: 0\n",
      "MDR: 0.3\n",
      "FAR: 0.0\n",
      "AR: 0.85\n"
     ]
    }
   ],
   "source": [
    "# Calculate confusion matrix\n",
    "print(f\"\\nTotal testing channel: {testData.shape[0]*2}\")\n",
    "\n",
    "# print(true_labels.shape)\n",
    "# print(predictions.shape)\n",
    "tn, fp, fn, tp = confusion_matrix(testLabel, predictions, labels=[0, 1]).ravel()\n",
    "\n",
    "print(f\"tp: {tp}\")\n",
    "print(f\"tn: {tn}\")\n",
    "print(f\"fp: {fp}\")\n",
    "print(f\"fn: {fn}\")\n",
    "\n",
    "# # Missed Detection Rate (MDR)\n",
    "MDR = fp / (fp + tn)\n",
    "\n",
    "# # False Alarm Rate (FAR)\n",
    "FAR = fn / (fn + tp)\n",
    "\n",
    "# # Gamma calculation\n",
    "gamma = (tp + fn) / (tn + fp)\n",
    "\n",
    "# # Authentication Rate (AR)\n",
    "AR = (tp + gamma * tn) / ((tp + fn) + gamma * (tn + fp))\n",
    "\n",
    "print(f\"MDR: {MDR}\")\n",
    "print(f\"FAR: {FAR}\")\n",
    "print(f\"AR: {AR}\")"
   ]
  }
 ],
 "metadata": {
  "kernelspec": {
   "display_name": "CRKG",
   "language": "python",
   "name": "python3"
  },
  "language_info": {
   "codemirror_mode": {
    "name": "ipython",
    "version": 3
   },
   "file_extension": ".py",
   "mimetype": "text/x-python",
   "name": "python",
   "nbconvert_exporter": "python",
   "pygments_lexer": "ipython3",
   "version": "3.12.3"
  }
 },
 "nbformat": 4,
 "nbformat_minor": 2
}
