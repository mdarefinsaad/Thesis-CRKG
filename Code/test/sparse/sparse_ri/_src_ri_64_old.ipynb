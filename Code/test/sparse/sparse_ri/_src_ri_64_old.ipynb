{
 "cells": [
  {
   "cell_type": "markdown",
   "metadata": {},
   "source": [
    "Features - ( Real, Imaginary )\n",
    "\n",
    "CIRs - 8000\n",
    "\n",
    "Atoms - 16000, 128  \n",
    "trainData - 12800, 128  \n",
    "testData - 3200, 64\n",
    "\n",
    "dictionary - 128, 12800"
   ]
  },
  {
   "cell_type": "code",
   "execution_count": 114,
   "metadata": {},
   "outputs": [
    {
     "name": "stdout",
     "output_type": "stream",
     "text": [
      "(8000, 15, 251, 2)\n"
     ]
    }
   ],
   "source": [
    "import numpy as np\n",
    "from sklearn.linear_model import OrthogonalMatchingPursuit\n",
    "import matplotlib.pyplot as plt\n",
    "from sklearn.model_selection import train_test_split \n",
    "from sklearn.metrics import confusion_matrix\n",
    "\n",
    "np.set_printoptions(threshold=np.inf)\n",
    "np.set_printoptions(suppress=True)\n",
    "measurement = np.load('../../dataset/meas_symm_1.npz', allow_pickle=False)\n",
    "# measurement = np.load('../../dataset/meas_symm_2.npz', allow_pickle=False)\n",
    "# measurement = np.load('../../dataset/meas_symm_3.npz', allow_pickle=False)\n",
    "# measurement = np.load('../../dataset/meas_symm_4.npz', allow_pickle=False)\n",
    "# measurement = np.load('../../dataset/meas_symm_nomove_1.npz', allow_pickle=False)\n",
    "# measurement = np.load('../../dataset/meas_symm_varspeed_1.npz', allow_pickle=False)\n",
    "\n",
    "# measurement = np.load('../../dataset/meas_asymm_1.npz', allow_pickle=False)\n",
    "# measurement = np.load('../../dataset/meas_asymm_2.npz', allow_pickle=False)\n",
    "# measurement = np.load('../../dataset/meas_asymm_nomove_1.npz', allow_pickle=False)\n",
    "# measurement = np.load('../../dataset/meas_asymm_reflector_1.npz', allow_pickle=False)\n",
    "\n",
    "header, data = measurement['header'], measurement['data']\n",
    "data_cir = data['cirs'][:8000]\n",
    "print(data_cir.shape)"
   ]
  },
  {
   "cell_type": "code",
   "execution_count": 115,
   "metadata": {},
   "outputs": [],
   "source": [
    "def get64Samples(cirs):\n",
    "\n",
    "    real = cirs[:, :, 0]\n",
    "    imag = cirs[:, :, 1]\n",
    "    \n",
    "    # Number of signalsd\n",
    "    num_signals = real.shape[0]  # 3 in this case\n",
    "    # print(f'num_signals: {num_signals}')\n",
    "    # Initialize lists to store the focused samples\n",
    "    imp_real_parts = []\n",
    "    imp_imag_parts = []\n",
    "    img_mag_parts = []\n",
    "    \n",
    "    for i in range(num_signals):\n",
    "        # Calculate the magnitude\n",
    "        magnitude = np.abs(real[i] + 1j * imag[i])\n",
    "        \n",
    "        # find the peak index\n",
    "        peak_index = np.argmax(magnitude)\n",
    "        \n",
    "        # Calculate the start and end indices for the focused part\n",
    "        start_index = max(0, peak_index - 32)\n",
    "        end_index = min(magnitude.shape[0], peak_index + 32)\n",
    "        \n",
    "        # Extract the part of the signal around the peak\n",
    "        real_part_focus = real[i, start_index:end_index]\n",
    "        imag_part_focus = imag[i, start_index:end_index]\n",
    "        mag_part_focus = magnitude[start_index:end_index]\n",
    "        \n",
    "        imp_real_parts.append(real_part_focus)\n",
    "        imp_imag_parts.append(imag_part_focus)\n",
    "        img_mag_parts.append(mag_part_focus)\n",
    "        \n",
    "\n",
    "    # Convert lists back to arrays for further processing if needed\n",
    "    imp_real_parts = np.array(imp_real_parts)\n",
    "    imp_imag_parts = np.array(imp_imag_parts)\n",
    "    img_mag_parts = np.array(img_mag_parts)\n",
    "\n",
    "    return imp_real_parts, imp_imag_parts, img_mag_parts"
   ]
  },
  {
   "cell_type": "code",
   "execution_count": 116,
   "metadata": {},
   "outputs": [
    {
     "name": "stdout",
     "output_type": "stream",
     "text": [
      "(16000, 128)\n"
     ]
    }
   ],
   "source": [
    "# Define channels\n",
    "alice_channel = 3  # Channel 3 is ALICE (legitimate)\n",
    "eve_channel = 6  # Channel 6 is EVE (illegitimate)\n",
    "\n",
    "# Extract data for ALICE and BOB channels\n",
    "alice_CIRs = data_cir[:, alice_channel, :, :]  # Shape: (9797, 251, 2)\n",
    "eve_CIRs = data_cir[:, eve_channel, :, :]  # Shape: (9797, 251, 2)\n",
    "\n",
    "# Extract important 64 samples\n",
    "alice_real, alice_imag, alice_mag = get64Samples(alice_CIRs)\n",
    "alice_features = np.hstack((alice_real, alice_imag))\n",
    "\n",
    "\n",
    "eve_real, eve_imag, eve_mag = get64Samples(eve_CIRs)\n",
    "eve_features = np.hstack((eve_real, eve_imag))\n",
    "\n",
    "# Create labels for Alice and Eve.\n",
    "alice_labels = np.zeros(alice_features.shape[0])  # Label '0' for Alice. (9797,)\n",
    "eve_labels = np.ones(alice_features.shape[0])     # Label '1' for Eve. (9797,)\n",
    "\n",
    "# # Combine data and labels.\n",
    "atoms = np.vstack((alice_features, eve_features))  # (19594, 753)\n",
    "true_labels = np.hstack((alice_labels, eve_labels))  # (19594,)\n",
    "\n",
    "print(atoms.shape)\n"
   ]
  },
  {
   "cell_type": "code",
   "execution_count": 117,
   "metadata": {},
   "outputs": [
    {
     "name": "stdout",
     "output_type": "stream",
     "text": [
      "(12800, 128)\n",
      "(3200, 128)\n",
      "(128, 12800)\n"
     ]
    }
   ],
   "source": [
    "# Step 3: Split the Data into Training and Test Sets\n",
    "trainData, testData, trainLabel, testLabel = train_test_split(atoms, true_labels, test_size=0.2, random_state=42, stratify=true_labels)\n",
    "# Step 4: Form the Dictionary D\n",
    "D = trainData.T\n",
    "\n",
    "\n",
    "print(trainData.shape)\n",
    "print(testData.shape)\n",
    "print(D.shape)\n"
   ]
  },
  {
   "cell_type": "code",
   "execution_count": 118,
   "metadata": {},
   "outputs": [],
   "source": [
    "# Step 5: Sparse Coding Function\n",
    "def find_sparse_coefficients(tSample, D, n_nonzero_coefs=10):\n",
    "    omp = OrthogonalMatchingPursuit(n_nonzero_coefs=n_nonzero_coefs)\n",
    "    omp.fit(D, tSample)\n",
    "    return omp.coef_\n",
    "\n",
    "# D - (753, 160)\n",
    "# tSample - (753,)"
   ]
  },
  {
   "cell_type": "code",
   "execution_count": 119,
   "metadata": {},
   "outputs": [],
   "source": [
    "# Step 6: Calculate Residuals for Each Class\n",
    "def calculate_residual(tSample, D, coefficients, class_indices):\n",
    "    coef_class = np.zeros_like(coefficients)\n",
    "    coef_class[class_indices] = coefficients[class_indices]  # Keep onltSample coefficients for the specified class\n",
    "    reconstructed_signal = D @ coef_class\n",
    "    residual = np.linalg.norm(tSample - reconstructed_signal)\n",
    "    return residual\n",
    "\n",
    "# tSample - (753,)\n",
    "# coefficients - (160,)\n",
    "# class_indices - (80,)\n",
    "# reconstructed_signal - (753,)\n"
   ]
  },
  {
   "cell_type": "code",
   "execution_count": 120,
   "metadata": {},
   "outputs": [],
   "source": [
    "# Step 7: Classification Function\n",
    "def classify_signal(tSample, D, trainLabel):\n",
    "    \n",
    "    # tSample - (753,)\n",
    "    # D - (753, 160)\n",
    "    # trainLabel - (160,)\n",
    "    # coefficients - (160,)\n",
    "    \n",
    "    coefficients = find_sparse_coefficients(tSample, D)\n",
    "    # print(coefficients)\n",
    "\n",
    "    residuals = []\n",
    "\n",
    "    # Calculate residual for each class\n",
    "    unique_classes = np.unique(trainLabel) # 0 and 1\n",
    "    for class_label in unique_classes:\n",
    "        class_indices = np.where(trainLabel == class_label)[0]  # Indices of columns in D belonging to this class\n",
    "        residual = calculate_residual(tSample, D, coefficients, class_indices)\n",
    "        residuals.append(residual)\n",
    "\n",
    "    # Predict the class with the smallest residual\n",
    "    predicted_class = unique_classes[np.argmin(residuals)]\n",
    "    return predicted_class\n"
   ]
  },
  {
   "cell_type": "code",
   "execution_count": 121,
   "metadata": {},
   "outputs": [
    {
     "name": "stdout",
     "output_type": "stream",
     "text": [
      "Classification Accuracy: 63.41%\n"
     ]
    }
   ],
   "source": [
    "# Step 8: Classifying Test Data and Evaluating the Model\n",
    "predictions = []\n",
    "for testSample in testData:\n",
    "    predicted_class = classify_signal(testSample, D, trainLabel)\n",
    "    predictions.append(predicted_class)\n",
    "\n",
    "\n",
    "# Convert predictions to a numpy array for comparison\n",
    "predictions = np.array(predictions)\n",
    "# print(predictions)\n",
    "\n",
    "# Step 9: Calculate Accuracy\n",
    "accuracy = np.mean(predictions == testLabel)\n",
    "print(f\"Classification Accuracy: {accuracy * 100:.2f}%\")"
   ]
  },
  {
   "cell_type": "code",
   "execution_count": 122,
   "metadata": {},
   "outputs": [
    {
     "name": "stdout",
     "output_type": "stream",
     "text": [
      "\n",
      "Total testing channel: (3200, 128)\n",
      "tp: 1320\n",
      "tn: 709\n",
      "fp: 891\n",
      "fn: 280\n",
      "MDR: 0.175\n",
      "FAR: 0.556875\n",
      "AR: 0.6340625\n"
     ]
    }
   ],
   "source": [
    "# Calculate confusion matrix\n",
    "print(f\"\\nTotal testing channel: {testData.shape}\")\n",
    "# print(true_labels.shape)\n",
    "# print(predictions.shape)\n",
    "tn, fp, fn, tp = confusion_matrix(testLabel, predictions, labels=[0, 1]).ravel()\n",
    "\n",
    "print(f\"tp: {tp}\")\n",
    "print(f\"tn: {tn}\")\n",
    "print(f\"fp: {fp}\")\n",
    "print(f\"fn: {fn}\")\n",
    "\n",
    "# # Missed Detection Rate (MDR)\n",
    "MDR = fn / (fn + tp)\n",
    "\n",
    "# # False Alarm Rate (FAR)\n",
    "FAR = fp / (fp + tn)\n",
    "\n",
    "# # Gamma calculation\n",
    "gamma = (tp + fn) / (tn + fp)\n",
    "\n",
    "# # Authentication Rate (AR)\n",
    "AR = (tp + gamma * tn) / ((tp + fn) + gamma * (tn + fp))\n",
    "\n",
    "print(f\"MDR: {MDR}\")\n",
    "print(f\"FAR: {FAR}\")\n",
    "print(f\"AR: {AR}\")"
   ]
  }
 ],
 "metadata": {
  "kernelspec": {
   "display_name": "CRKG",
   "language": "python",
   "name": "python3"
  },
  "language_info": {
   "codemirror_mode": {
    "name": "ipython",
    "version": 3
   },
   "file_extension": ".py",
   "mimetype": "text/x-python",
   "name": "python",
   "nbconvert_exporter": "python",
   "pygments_lexer": "ipython3",
   "version": "3.12.3"
  }
 },
 "nbformat": 4,
 "nbformat_minor": 2
}
