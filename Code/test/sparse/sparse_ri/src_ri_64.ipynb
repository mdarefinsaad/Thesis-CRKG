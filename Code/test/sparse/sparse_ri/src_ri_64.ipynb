{
 "cells": [
  {
   "cell_type": "code",
   "execution_count": 1,
   "metadata": {},
   "outputs": [],
   "source": [
    "import numpy as np\n",
    "from sklearn.linear_model import OrthogonalMatchingPursuit\n",
    "import matplotlib.pyplot as plt\n",
    "from sklearn.model_selection import train_test_split \n",
    "from sklearn.metrics import confusion_matrix\n",
    "\n",
    "np.set_printoptions(threshold=np.inf)\n",
    "np.set_printoptions(suppress=True)\n",
    "\n",
    "measurement = np.load('../../dataset/meas_symm_1.npz', allow_pickle=False)\n",
    "header, data = measurement['header'], measurement['data']\n",
    "data_cir = data['cirs']"
   ]
  },
  {
   "cell_type": "code",
   "execution_count": 2,
   "metadata": {},
   "outputs": [],
   "source": [
    "def get64Samples(real, imag):\n",
    "\n",
    "    # Number of signals\n",
    "    num_signals = real.shape[0]  # 3 in this case\n",
    "    \n",
    "    # Initialize lists to store the focused samples\n",
    "    imp_real_parts = []\n",
    "    imp_imag_parts = []\n",
    "    \n",
    "    for i in range(num_signals):\n",
    "        # Calculate the magnitude\n",
    "        magnitude = np.abs(real[i] + 1j * imag[i])\n",
    "        \n",
    "        # find the peak index\n",
    "        peak_index = np.argmax(magnitude)\n",
    "        \n",
    "        # Calculate the start and end indices for the focused part\n",
    "        start_index = max(0, peak_index - 32)\n",
    "        end_index = min(magnitude.shape[0], peak_index + 32)\n",
    "        \n",
    "        # Extract the part of the signal around the peak\n",
    "        real_part_focus = real[i, start_index:end_index]\n",
    "        imag_part_focus = imag[i, start_index:end_index]\n",
    "        \n",
    "        imp_real_parts.append(real_part_focus)\n",
    "        imp_imag_parts.append(imag_part_focus)\n",
    "        \n",
    "\n",
    "    # Convert lists back to arrays for further processing if needed\n",
    "    imp_real_parts = np.array(imp_real_parts)\n",
    "    imp_imag_parts = np.array(imp_imag_parts)\n",
    "\n",
    "    return imp_real_parts, imp_imag_parts"
   ]
  },
  {
   "cell_type": "code",
   "execution_count": 10,
   "metadata": {},
   "outputs": [
    {
     "name": "stdout",
     "output_type": "stream",
     "text": [
      "(9797, 128)\n",
      "(9797,)\n"
     ]
    }
   ],
   "source": [
    "# Define channels\n",
    "alice_channel = 3  # Channel 3 is ALICE (legitimate)\n",
    "eve_channel = 6  # Channel 6 is EVE (illegitimate)\n",
    "\n",
    "# Extract data for ALICE and BOB channels\n",
    "alice_CIRs = data_cir[:, alice_channel, :, :]  # Shape: (9797, 251, 2)\n",
    "eve_CIRs = data_cir[:, eve_channel, :, :]  # Shape: (9797, 251, 2)\n",
    "\n",
    "# ALICE features - real, imaginary, magnitude\n",
    "alice_real_251 = alice_CIRs[:, :, 0]\n",
    "alice_imag_251 = alice_CIRs[:, :, 1]\n",
    "# Extract important 64 samples\n",
    "alice_real, alice_imag = get64Samples(alice_real_251, alice_imag_251)\n",
    "alice_features = np.hstack((alice_real, alice_imag))\n",
    "\n",
    "\n",
    "# EVE features - real, imaginary, magnitude\n",
    "eve_real_251 = eve_CIRs[:, :, 0]\n",
    "eve_imag_251 = eve_CIRs[:, :, 1]\n",
    "eve_real, eve_imag = get64Samples(eve_real_251, eve_imag_251)\n",
    "eve_features = np.hstack((eve_real, eve_imag))\n",
    "\n",
    "# print(alice_features.shape) # (9797, 753)\n",
    "# print(eve_features.shape)\n",
    "\n",
    "# # Atoms for our dictionary - Reshape Alice's data to flatten each sample.\n",
    "# alice_atoms = alice_features.reshape(100, -1)  # Each sample becomes a long vector.\n",
    "# eve_atoms = eve_features.reshape(100, -1)\n",
    "\n",
    "# Create labels for Alice and Eve.\n",
    "alice_labels = np.zeros(alice_features.shape[0])  # Label '0' for Alice. (9797,)\n",
    "eve_labels = np.ones(alice_features.shape[0])     # Label '1' for Eve. (9797,)\n",
    "\n",
    "print(alice_features.shape)\n",
    "print(alice_labels.shape)\n",
    "\n",
    "# # Combine data and labels.\n",
    "atoms = np.vstack((alice_features, eve_features))  # (19594, 753)\n",
    "true_labels = np.hstack((alice_labels, eve_labels))  # (19594,)\n"
   ]
  },
  {
   "cell_type": "code",
   "execution_count": 4,
   "metadata": {},
   "outputs": [],
   "source": [
    "# Step 3: Split the Data into Training and Test Sets\n",
    "trainData, testData, trainLabel, testLabel = train_test_split(atoms, true_labels, test_size=0.2, random_state=42, stratify=true_labels)\n",
    "\n",
    "# Step 4: Form the Dictionary D\n",
    "D = trainData.T\n",
    "\n",
    "# Dictionary shape (128, 15675)\n",
    "# trainData (15675, 128) -- > 80% of 19594\n",
    "# testData (3919, 128)   -- > 20% of 19594\n",
    "# trainLabel (15675,) -- > 80% of 19594\n",
    "# testLabel (3919,)  -- > 20% of 19594\n",
    "\n",
    "# print(D.shape)\n",
    "# print(trainData.shape)\n",
    "# print(testData.shape)\n",
    "# print(trainLabel.shape)\n",
    "# print(testLabel.shape)\n"
   ]
  },
  {
   "cell_type": "code",
   "execution_count": 5,
   "metadata": {},
   "outputs": [],
   "source": [
    "# Step 5: Sparse Coding Function\n",
    "def find_sparse_coefficients(tSample, D, n_nonzero_coefs=10):\n",
    "    omp = OrthogonalMatchingPursuit(n_nonzero_coefs=n_nonzero_coefs)\n",
    "    omp.fit(D, tSample)\n",
    "    return omp.coef_\n",
    "\n",
    "# D - (753, 160)\n",
    "# tSample - (753,)"
   ]
  },
  {
   "cell_type": "code",
   "execution_count": 6,
   "metadata": {},
   "outputs": [],
   "source": [
    "# Step 6: Function to Calculate Residuals for Each Class\n",
    "def calculate_residual(tSample, D, coefficients, class_indices):\n",
    "    coef_class = np.zeros_like(coefficients)\n",
    "    coef_class[class_indices] = coefficients[class_indices]  # Keep onltSample coefficients for the specified class\n",
    "    reconstructed_signal = D @ coef_class\n",
    "    residual = np.linalg.norm(tSample - reconstructed_signal)\n",
    "    return residual\n",
    "\n",
    "# tSample - (753,)\n",
    "# coefficients - (160,)\n",
    "# class_indices - (80,)\n",
    "# reconstructed_signal - (753,)\n"
   ]
  },
  {
   "cell_type": "code",
   "execution_count": 7,
   "metadata": {},
   "outputs": [],
   "source": [
    "# Step 7: Classification Function\n",
    "def classify_signal(tSample, D, trainLabel):\n",
    "    \n",
    "    # tSample - (753,)\n",
    "    # D - (753, 160)\n",
    "    # trainLabel - (160,)\n",
    "    # coefficients - (160,)\n",
    "    \n",
    "    # Find sparse coefficients for the new signal\n",
    "    coefficients = find_sparse_coefficients(tSample, D)\n",
    "    # print(coefficients)\n",
    "    \n",
    "    # Initialize residuals list\n",
    "    residuals = []\n",
    "\n",
    "    # Calculate residual for each class\n",
    "    unique_classes = np.unique(trainLabel) # 0 and 1\n",
    "    for class_label in unique_classes:\n",
    "        class_indices = np.where(trainLabel == class_label)[0]  # Indices of columns in D belonging to this class\n",
    "        residual = calculate_residual(tSample, D, coefficients, class_indices)\n",
    "        residuals.append(residual)\n",
    "\n",
    "    # Predict the class with the smallest residual\n",
    "    predicted_class = unique_classes[np.argmin(residuals)]\n",
    "    return predicted_class\n"
   ]
  },
  {
   "cell_type": "code",
   "execution_count": 8,
   "metadata": {},
   "outputs": [
    {
     "name": "stdout",
     "output_type": "stream",
     "text": [
      "Classification Accuracy: 62.67%\n"
     ]
    }
   ],
   "source": [
    "# Step 8: Classifying Test Data and Evaluating the Model\n",
    "\n",
    "# testData (40, 753)\n",
    "predictions = []\n",
    "for testSample in testData:\n",
    "    predicted_class = classify_signal(testSample, D, trainLabel)\n",
    "    predictions.append(predicted_class)\n",
    "\n",
    "\n",
    "# Convert predictions to a numpy array for comparison\n",
    "predictions = np.array(predictions)\n",
    "# print(predictions)\n",
    "\n",
    "# Step 9: Calculate Accuracy\n",
    "accuracy = np.mean(predictions == testLabel)\n",
    "print(f\"Classification Accuracy: {accuracy * 100:.2f}%\")"
   ]
  },
  {
   "cell_type": "code",
   "execution_count": 9,
   "metadata": {},
   "outputs": [
    {
     "name": "stdout",
     "output_type": "stream",
     "text": [
      "\n",
      "Total testing channel: (3919, 128)\n",
      "tp: 1590\n",
      "tn: 866\n",
      "fp: 1094\n",
      "fn: 369\n",
      "MDR: 0.5581632653061225\n",
      "FAR: 0.1883614088820827\n",
      "AR: 0.6267376629058974\n"
     ]
    }
   ],
   "source": [
    "# Calculate confusion matrix\n",
    "print(f\"\\nTotal testing channel: {testData.shape}\")\n",
    "# print(true_labels.shape)\n",
    "# print(predictions.shape)\n",
    "tn, fp, fn, tp = confusion_matrix(testLabel, predictions, labels=[0, 1]).ravel()\n",
    "\n",
    "print(f\"tp: {tp}\")\n",
    "print(f\"tn: {tn}\")\n",
    "print(f\"fp: {fp}\")\n",
    "print(f\"fn: {fn}\")\n",
    "\n",
    "# # Missed Detection Rate (MDR)\n",
    "MDR = fp / (fp + tn)\n",
    "\n",
    "# # False Alarm Rate (FAR)\n",
    "FAR = fn / (fn + tp)\n",
    "\n",
    "# # Gamma calculation\n",
    "gamma = (tp + fn) / (tn + fp)\n",
    "\n",
    "# # Authentication Rate (AR)\n",
    "AR = (tp + gamma * tn) / ((tp + fn) + gamma * (tn + fp))\n",
    "\n",
    "print(f\"MDR: {MDR}\")\n",
    "print(f\"FAR: {FAR}\")\n",
    "print(f\"AR: {AR}\")"
   ]
  }
 ],
 "metadata": {
  "kernelspec": {
   "display_name": "CRKG",
   "language": "python",
   "name": "python3"
  },
  "language_info": {
   "codemirror_mode": {
    "name": "ipython",
    "version": 3
   },
   "file_extension": ".py",
   "mimetype": "text/x-python",
   "name": "python",
   "nbconvert_exporter": "python",
   "pygments_lexer": "ipython3",
   "version": "3.12.3"
  }
 },
 "nbformat": 4,
 "nbformat_minor": 2
}
