{
 "cells": [
  {
   "cell_type": "code",
   "execution_count": 14,
   "metadata": {},
   "outputs": [
    {
     "name": "stdout",
     "output_type": "stream",
     "text": [
      "Original shape: (100, 20)\n",
      "Reduced shape: (10, 20)\n"
     ]
    }
   ],
   "source": [
    "import numpy as np\n",
    "# SVD\n",
    "def pca_reduce_samples_svd(data, n_components):\n",
    "    \"\"\"\n",
    "    Custom PCA function to reduce the number of samples in the data using SVD.\n",
    "    \n",
    "    Parameters:\n",
    "    - data: Input data of shape (samples, features)\n",
    "    - n_components: The desired number of reduced samples (principal components)\n",
    "    \n",
    "    Returns:\n",
    "    - reduced_data: Data with reduced number of samples but same number of features\n",
    "    \"\"\"\n",
    "    # Step 1: Standardize the data (mean center)\n",
    "    mean_centered_data = data - np.mean(data, axis=0)  # Shape: (samples, features)\n",
    "    \n",
    "    # **Step 2: Perform Singular Value Decomposition (SVD)**\n",
    "    U, S, Vt = np.linalg.svd(mean_centered_data, full_matrices=False)\n",
    "    # U: Left singular vectors (samples, min(samples, features))\n",
    "    # S: Singular values\n",
    "    # Vt: Right singular vectors transposed (min(samples, features), features)\n",
    "    \n",
    "    # **Step 3: Select the top n_components left singular vectors**\n",
    "    selected_U = U[:, :n_components]  # Shape: (samples, n_components)\n",
    "    \n",
    "    # **Step 4: Project the data onto the selected components**\n",
    "    reduced_data = np.dot(selected_U.T, mean_centered_data)  # Shape: (n_components, features)\n",
    "    \n",
    "    return reduced_data  # Shape: (n_components, features)\n",
    "\n",
    "# Example usage:\n",
    "data = np.random.rand(100, 20)  # 100 samples, 20 features\n",
    "n_components = 10  # Reduce to 10 samples\n",
    "\n",
    "reduced_data = pca_reduce_samples_svd(data, n_components)\n",
    "print(\"Original shape:\", data.shape)  # Output: (100, 20)\n",
    "print(\"Reduced shape:\", reduced_data.shape)  # Output: (10, 20)\n"
   ]
  }
 ],
 "metadata": {
  "kernelspec": {
   "display_name": "CRKG",
   "language": "python",
   "name": "python3"
  },
  "language_info": {
   "codemirror_mode": {
    "name": "ipython",
    "version": 3
   },
   "file_extension": ".py",
   "mimetype": "text/x-python",
   "name": "python",
   "nbconvert_exporter": "python",
   "pygments_lexer": "ipython3",
   "version": "3.12.3"
  }
 },
 "nbformat": 4,
 "nbformat_minor": 2
}
