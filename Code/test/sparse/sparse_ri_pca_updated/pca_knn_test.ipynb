{
 "cells": [
  {
   "cell_type": "code",
   "execution_count": 3,
   "metadata": {},
   "outputs": [],
   "source": [
    "import numpy as np\n",
    "from sklearn.decomposition import PCA\n",
    "from sklearn.neighbors import KNeighborsClassifier\n",
    "from sklearn.model_selection import train_test_split\n",
    "from sklearn.metrics import accuracy_score\n",
    "\n",
    "def apply_pca_to_dimension(data, no_components):\n",
    "    \"\"\"\n",
    "    Apply PCA to the 2nd dimension (251 points) of the dataset.\n",
    "    \n",
    "    Parameters:\n",
    "    data (numpy.ndarray): The dataset with shape (n_samples, 251, 2).\n",
    "    no_components (int): The number of components to reduce to.\n",
    "    \n",
    "    Returns:\n",
    "    numpy.ndarray: The dataset after applying PCA, with shape (n_samples, no_components, 2).\n",
    "    \"\"\"\n",
    "    # Reshape data to apply PCA to the 251 dimension\n",
    "    # Original shape: (n_samples, 251, 2) --> New shape: (n_samples * 2, 251)\n",
    "    n_samples = data.shape[0]\n",
    "    data_reshaped = data.reshape(-1, 251)\n",
    "\n",
    "    # Apply PCA to reduce the 251 dimension to no_components\n",
    "    pca = PCA(n_components=no_components)\n",
    "    data_pca = pca.fit_transform(data_reshaped)\n",
    "\n",
    "    # Reshape data back to original structure with reduced dimension\n",
    "    # New shape: (n_samples, no_components, 2)\n",
    "    data_reduced = data_pca.reshape(n_samples, no_components, 2)\n",
    "\n",
    "    return data_reduced\n",
    "\n",
    "# Generate some example data\n",
    "np.random.seed(42)  # Seed for reproducibility\n",
    "# Dataset shape: (8000 samples, 251 data points, 2 features for real and imaginary)\n",
    "data = np.random.randn(8000, 251, 2)\n",
    "labels = np.random.randint(0, 2, 8000)  # Random binary labels, 0 for Eve, 1 for Alice\n",
    "\n",
    "# Apply PCA using the function\n",
    "data_reduced = apply_pca_to_dimension(data, no_components=4)\n",
    "\n",
    "# Step 2: Flatten each CIR sample to a 1D array\n",
    "# Original shape: (8000, 4, 2) --> New shape: (8000, 8)\n",
    "data_flattened = data_reduced.reshape(8000, -1)\n",
    "\n"
   ]
  },
  {
   "cell_type": "code",
   "execution_count": 4,
   "metadata": {},
   "outputs": [
    {
     "name": "stdout",
     "output_type": "stream",
     "text": [
      "Accuracy: 50.31%\n"
     ]
    }
   ],
   "source": [
    "# Step 3: Split the data into training and testing sets\n",
    "# 80% for training, 20% for testing\n",
    "data_train, data_test, labels_train, labels_test = train_test_split(data_flattened, labels, test_size=0.2, random_state=42)\n",
    "\n",
    "# Step 4: Create and train the KNN classifier\n",
    "knn = KNeighborsClassifier(n_neighbors=3)  # Using 3 neighbors for classification\n",
    "knn.fit(data_train, labels_train)  # Train the model using the training data\n",
    "\n",
    "# Step 5: Make predictions on the test data\n",
    "labels_pred = knn.predict(data_test)\n",
    "\n",
    "# Step 6: Calculate the accuracy of the model\n",
    "accuracy = accuracy_score(labels_test, labels_pred)\n",
    "print(f\"Accuracy: {accuracy * 100:.2f}%\")\n"
   ]
  }
 ],
 "metadata": {
  "kernelspec": {
   "display_name": "CRKG",
   "language": "python",
   "name": "python3"
  },
  "language_info": {
   "codemirror_mode": {
    "name": "ipython",
    "version": 3
   },
   "file_extension": ".py",
   "mimetype": "text/x-python",
   "name": "python",
   "nbconvert_exporter": "python",
   "pygments_lexer": "ipython3",
   "version": "3.12.3"
  }
 },
 "nbformat": 4,
 "nbformat_minor": 2
}
