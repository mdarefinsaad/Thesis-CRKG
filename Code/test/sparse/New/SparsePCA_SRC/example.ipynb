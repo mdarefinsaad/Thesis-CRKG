{
 "cells": [
  {
   "cell_type": "code",
   "execution_count": 1,
   "metadata": {},
   "outputs": [],
   "source": [
    "# Library\n",
    "import numpy as np\n",
    "from sklearn.linear_model import OrthogonalMatchingPursuit\n",
    "from sklearn.model_selection import train_test_split \n",
    "from sklearn.metrics import confusion_matrix\n",
    "from sklearn.preprocessing import StandardScaler\n",
    "from sklearn.decomposition import DictionaryLearning, sparse_encode\n",
    "\n",
    "# Load data\n",
    "measurement = np.load('../../../dataset/meas_symm_1.npz', allow_pickle=False)\n",
    "header, data = measurement['header'], measurement['data']\n",
    "data_cir = data['cirs'][:1000]  # Using 1000 samples for simplicity\n",
    "\n",
    "# Split data\n",
    "trainCIR, testCIR = train_test_split(data_cir, test_size=0.2, random_state=42)\n",
    "\n",
    "N_components = 3\n",
    "# Define channels\n",
    "alice_channel = 3  # Channel 3 is ALICE (legitimate)\n",
    "eve_channel = 6    # Channel 6 is EVE (illegitimate)"
   ]
  },
  {
   "cell_type": "code",
   "execution_count": 2,
   "metadata": {},
   "outputs": [
    {
     "ename": "NameError",
     "evalue": "name 'train_cirs' is not defined",
     "output_type": "error",
     "traceback": [
      "\u001b[0;31m---------------------------------------------------------------------------\u001b[0m",
      "\u001b[0;31mNameError\u001b[0m                                 Traceback (most recent call last)",
      "Cell \u001b[0;32mIn[2], line 8\u001b[0m\n\u001b[1;32m      4\u001b[0m eve_train_magnitude \u001b[38;5;241m=\u001b[39m np\u001b[38;5;241m.\u001b[39mabs(eve_train_CIRs[\u001b[38;5;241m.\u001b[39m\u001b[38;5;241m.\u001b[39m\u001b[38;5;241m.\u001b[39m, \u001b[38;5;241m0\u001b[39m] \u001b[38;5;241m+\u001b[39m \u001b[38;5;241m1\u001b[39mj \u001b[38;5;241m*\u001b[39m eve_train_CIRs[\u001b[38;5;241m.\u001b[39m\u001b[38;5;241m.\u001b[39m\u001b[38;5;241m.\u001b[39m, \u001b[38;5;241m1\u001b[39m])        \u001b[38;5;66;03m# (6400, 251)\u001b[39;00m\n\u001b[1;32m      6\u001b[0m \u001b[38;5;66;03m# Combine training CIRs\u001b[39;00m\n\u001b[1;32m      7\u001b[0m \u001b[38;5;66;03m# train_cirs = np.vstack((alice_train_magnitude, eve_train_magnitude))\u001b[39;00m\n\u001b[0;32m----> 8\u001b[0m \u001b[38;5;28mprint\u001b[39m(train_cirs\u001b[38;5;241m.\u001b[39mshape)\n",
      "\u001b[0;31mNameError\u001b[0m: name 'train_cirs' is not defined"
     ]
    }
   ],
   "source": [
    "alice_train_CIRs = trainCIR[:, alice_channel, :, :]  # Alice's CIRs\n",
    "eve_train_CIRs = trainCIR[:, eve_channel, :, :]      # Eve's CIRs\n",
    "alice_train_magnitude = np.abs(alice_train_CIRs[..., 0] + 1j * alice_train_CIRs[..., 1])  # (6400, 251)\n",
    "eve_train_magnitude = np.abs(eve_train_CIRs[..., 0] + 1j * eve_train_CIRs[..., 1])        # (6400, 251)\n",
    "\n",
    "# Combine training CIRs\n",
    "# train_cirs = np.vstack((alice_train_magnitude, eve_train_magnitude))\n",
    "print(train_cirs.shape)"
   ]
  },
  {
   "cell_type": "code",
   "execution_count": null,
   "metadata": {},
   "outputs": [],
   "source": [
    "# Create Separate Dictionaries for Bob, Alice, and Eve\n",
    "dl_alice = DictionaryLearning(n_components=N_components, transform_algorithm='lasso_lars')\n",
    "dl_eve = DictionaryLearning(n_components=N_components, transform_algorithm='lasso_lars')"
   ]
  },
  {
   "cell_type": "code",
   "execution_count": null,
   "metadata": {},
   "outputs": [],
   "source": [
    "dictionary_alice = dl_alice.fit_transform(alice_train_magnitude.T)\n",
    "dictionary_eve = dl_eve.fit_transform(eve_train_magnitude.T)"
   ]
  },
  {
   "cell_type": "code",
   "execution_count": null,
   "metadata": {},
   "outputs": [],
   "source": [
    "alice_omp = OrthogonalMatchingPursuit(n_nonzero_coefs=N_components)\n",
    "eve_omp = OrthogonalMatchingPursuit(n_nonzero_coefs=N_components)"
   ]
  },
  {
   "cell_type": "code",
   "execution_count": null,
   "metadata": {},
   "outputs": [],
   "source": [
    "# Transform Alice, Bob, and Eve using OMP\n",
    "sparse_rep_alice = np.zeros((Num_CIRs, N_components))\n",
    "sparse_rep_eve = np.zeros((Num_CIRs, N_components))"
   ]
  },
  {
   "cell_type": "code",
   "execution_count": null,
   "metadata": {},
   "outputs": [
    {
     "ename": "IndexError",
     "evalue": "index 32 is out of bounds for axis 0 with size 32",
     "output_type": "error",
     "traceback": [
      "\u001b[0;31m---------------------------------------------------------------------------\u001b[0m",
      "\u001b[0;31mIndexError\u001b[0m                                Traceback (most recent call last)",
      "Cell \u001b[0;32mIn[32], line 4\u001b[0m\n\u001b[1;32m      1\u001b[0m \u001b[38;5;28;01mfor\u001b[39;00m i \u001b[38;5;129;01min\u001b[39;00m \u001b[38;5;28mrange\u001b[39m(trainCIR\u001b[38;5;241m.\u001b[39mshape[\u001b[38;5;241m0\u001b[39m]):\n\u001b[1;32m      2\u001b[0m     \u001b[38;5;66;03m# For Alice\u001b[39;00m\n\u001b[1;32m      3\u001b[0m     alice_omp\u001b[38;5;241m.\u001b[39mfit(dictionary_alice, alice_train_magnitude[i]) \n\u001b[0;32m----> 4\u001b[0m     sparse_rep_alice[i] \u001b[38;5;241m=\u001b[39m alice_omp\u001b[38;5;241m.\u001b[39mcoef_\n\u001b[1;32m      6\u001b[0m     \u001b[38;5;66;03m# For Eve\u001b[39;00m\n\u001b[1;32m      7\u001b[0m     eve_omp\u001b[38;5;241m.\u001b[39mfit(dictionary_eve, eve_train_magnitude[i]) \n",
      "\u001b[0;31mIndexError\u001b[0m: index 32 is out of bounds for axis 0 with size 32"
     ]
    }
   ],
   "source": [
    "for i in range(trainCIR.shape[0]):\n",
    "    # For Alice\n",
    "    alice_omp.fit(dictionary_alice, alice_train_magnitude[i]) \n",
    "    sparse_rep_alice[i] = alice_omp.coef_\n",
    "\n",
    "    # For Eve\n",
    "    eve_omp.fit(dictionary_eve, eve_train_magnitude[i]) \n",
    "    sparse_rep_eve[i] = eve_omp.coef_"
   ]
  },
  {
   "cell_type": "code",
   "execution_count": 10,
   "metadata": {},
   "outputs": [
    {
     "name": "stdout",
     "output_type": "stream",
     "text": [
      "data[cirs]: (9797, 15, 251, 2)\n",
      "number_CIRs: 9797\n",
      "num_CIRcomponents: 251\n",
      "cir_data: (2, 9797, 251)\n",
      "(32, 251)\n",
      "(32, 251)\n"
     ]
    }
   ],
   "source": [
    "header, data = measurement['header'], measurement['data']\n",
    "selected = [3,6]\n",
    "print('data[cirs]:',data['cirs'].shape)\n",
    "\n",
    "number_CIRs = data['cirs'].shape[0]\n",
    "print('number_CIRs:',number_CIRs)\n",
    "num_CIRcomponents = data['cirs'].shape[2]\n",
    "print('num_CIRcomponents:',num_CIRcomponents)\n",
    "\n",
    "data_points = np.zeros((len(selected), number_CIRs, num_CIRcomponents, 2), dtype=float)\n",
    "\n",
    "\n",
    "for idx, channel in enumerate(selected):\n",
    "    data_points[idx, :, :, :] = data['cirs'][:number_CIRs, channel, :, :]\n",
    "\n",
    "\n",
    "cir_data = np.sqrt(data_points[:, :, :, 0] ** 2 + data_points[:, :, :, 1] ** 2)\n",
    "print('cir_data:',cir_data.shape)\n",
    "\n",
    "Num_CIRs = 32 # Number of CIRs\n",
    "N_components = 3  # Number of Sparse Components\n",
    "\n",
    "\n",
    "Alice = cir_data[0, Num_CIRs*99:Num_CIRs*100]\n",
    "Eve = cir_data[1, Num_CIRs*99:Num_CIRs*100]\n",
    "\n",
    "print(Alice.shape)\n",
    "print(Eve.shape)\n"
   ]
  }
 ],
 "metadata": {
  "kernelspec": {
   "display_name": "CRKG",
   "language": "python",
   "name": "python3"
  },
  "language_info": {
   "codemirror_mode": {
    "name": "ipython",
    "version": 3
   },
   "file_extension": ".py",
   "mimetype": "text/x-python",
   "name": "python",
   "nbconvert_exporter": "python",
   "pygments_lexer": "ipython3",
   "version": "3.12.3"
  }
 },
 "nbformat": 4,
 "nbformat_minor": 2
}
