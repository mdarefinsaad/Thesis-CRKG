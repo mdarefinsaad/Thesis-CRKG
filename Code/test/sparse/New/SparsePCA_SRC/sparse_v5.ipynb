{
 "cells": [
  {
   "cell_type": "code",
   "execution_count": 1,
   "metadata": {},
   "outputs": [],
   "source": [
    "# Library\n",
    "import numpy as np\n",
    "from sklearn.linear_model import OrthogonalMatchingPursuit\n",
    "from sklearn.model_selection import train_test_split \n",
    "from sklearn.metrics import confusion_matrix\n",
    "from sklearn.preprocessing import StandardScaler\n",
    "from sklearn.decomposition import DictionaryLearning, sparse_encode\n",
    "\n",
    "# Load data\n",
    "measurement = np.load('../../../dataset/meas_symm_1.npz', allow_pickle=False)\n",
    "header, data = measurement['header'], measurement['data']\n",
    "data_cir = data['cirs'][:1000]  # Using 1000 samples for simplicity\n",
    "\n",
    "# Split data\n",
    "trainCIR, testCIR = train_test_split(data_cir, test_size=0.2, random_state=42)\n",
    "\n",
    "# Define channels\n",
    "alice_channel = 3  # Channel 3 is ALICE (legitimate)\n",
    "eve_channel = 6    # Channel 6 is EVE (illegitimate)"
   ]
  },
  {
   "cell_type": "code",
   "execution_count": 7,
   "metadata": {},
   "outputs": [],
   "source": [
    "# Training data\n",
    "alice_train_CIRs = trainCIR[:, alice_channel, :, :]  # Alice's CIRs\n",
    "eve_train_CIRs = trainCIR[:, eve_channel, :, :]      # Eve's CIRs\n",
    "alice_train_magnitude = np.abs(alice_train_CIRs[..., 0] + 1j * alice_train_CIRs[..., 1])  # (6400, 251)\n",
    "eve_train_magnitude = np.abs(eve_train_CIRs[..., 0] + 1j * eve_train_CIRs[..., 1])        # (6400, 251)\n",
    "\n",
    "# Combine training CIRs\n",
    "train_cirs = np.vstack((alice_train_magnitude, eve_train_magnitude))\n",
    "\n",
    "# Labels\n",
    "alice_train_labels = np.zeros(alice_train_CIRs.shape[0])  # Label '0' for Alice.\n",
    "eve_train_labels = np.ones(eve_train_CIRs.shape[0])       # Label '1' for Eve.\n",
    "train_labels = np.hstack((alice_train_labels, eve_train_labels))\n"
   ]
  },
  {
   "cell_type": "code",
   "execution_count": null,
   "metadata": {},
   "outputs": [
    {
     "name": "stdout",
     "output_type": "stream",
     "text": [
      "Training data shape: (1600, 251)\n"
     ]
    }
   ],
   "source": [
    "# Reshape data: Flatten the real and imaginary parts into a single vector\n",
    "# def preprocess_data(data):\n",
    "#     reshaped_data = data.reshape(data.shape[0], -1)  # Shape: (num_samples, 251*2)\n",
    "#     scaler = StandardScaler()\n",
    "#     data_scaled = scaler.fit_transform(reshaped_data)\n",
    "#     return data_scaled, scaler\n",
    "\n",
    "# train_data_scaled, scaler = preprocess_data(train_cirs)\n",
    "# print('Training data shape:', train_data_scaled.shape)\n"
   ]
  },
  {
   "cell_type": "code",
   "execution_count": null,
   "metadata": {},
   "outputs": [
    {
     "name": "stdout",
     "output_type": "stream",
     "text": [
      "Dictionary shape: (4, 251)\n"
     ]
    }
   ],
   "source": [
    "# Learn an overcomplete dictionary from the training data\n",
    "n_components = 4  # Number of atoms in the dictionary; can be adjusted\n",
    "dict_learner = DictionaryLearning(n_components=n_components, transform_algorithm='lasso_lars')\n",
    "D = dict_learner.fit(train_data_scaled).components_  # Shape: (n_components, n_features)\n",
    "print('Dictionary shape:', D.shape)"
   ]
  },
  {
   "cell_type": "code",
   "execution_count": null,
   "metadata": {},
   "outputs": [
    {
     "name": "stdout",
     "output_type": "stream",
     "text": [
      "Sparse codes shape: (1600, 4)\n"
     ]
    }
   ],
   "source": [
    "# Get sparse codes for training data\n",
    "# train_codes = dict_learner.transform(train_data_scaled)  # Shape: (num_samples, n_components)\n",
    "# print('Sparse codes shape:', train_codes.shape)"
   ]
  },
  {
   "cell_type": "code",
   "execution_count": 28,
   "metadata": {},
   "outputs": [],
   "source": [
    "# Testing data\n",
    "alice_test_CIRs = testCIR[:, alice_channel, :, :]\n",
    "eve_test_CIRs = testCIR[:, eve_channel, :, :]\n",
    "alice_test_magnitude = np.abs(alice_test_CIRs[..., 0] + 1j * alice_test_CIRs[..., 1])\n",
    "eve_test_magnitude = np.abs(eve_test_CIRs[..., 0] + 1j * eve_test_CIRs[..., 1])\n",
    "test_cirs = np.vstack((alice_test_magnitude, eve_test_magnitude))\n",
    "\n",
    "\n",
    "# Labels\n",
    "alice_test_labels = np.zeros(alice_test_CIRs.shape[0])  # Label '0' for Alice.\n",
    "eve_test_labels = np.ones(eve_test_CIRs.shape[0])       # Label '1' for Eve.\n",
    "test_labels = np.hstack((alice_test_labels, eve_test_labels))\n",
    "\n",
    "# Preprocess testing data\n",
    "reshaped_test_cirs = test_cirs.reshape(test_cirs.shape[0], -1)\n",
    "test_data_scaled = scaler.transform(reshaped_test_cirs)\n"
   ]
  },
  {
   "cell_type": "code",
   "execution_count": null,
   "metadata": {},
   "outputs": [
    {
     "name": "stdout",
     "output_type": "stream",
     "text": [
      "Test codes shape: (400, 4)\n"
     ]
    }
   ],
   "source": [
    "# Get sparse codes for testing data using the same dictionary\n",
    "# test_codes = sparse_encode(test_data_scaled, D, algorithm='lasso_lars', n_nonzero_coefs=4)\n",
    "# print('Test codes shape:', test_codes.shape)\n"
   ]
  },
  {
   "cell_type": "code",
   "execution_count": null,
   "metadata": {},
   "outputs": [],
   "source": [
    "# Coefficients calculation\n",
    "def find_sparse_coefficients(tSample, D, n_nonzero_coefs=15):\n",
    "    omp = OrthogonalMatchingPursuit(n_nonzero_coefs=n_nonzero_coefs)\n",
    "    omp.fit(D, tSample)\n",
    "    return omp.coef_\n",
    "\n",
    "\n",
    "def calculate_residual(tSample, coefficients, selected_atoms, D):\n",
    "    # Set the coefficients that are not in the selected atoms to zero\n",
    "    coef_class = np.zeros_like(coefficients)\n",
    "    coef_class[selected_atoms] = coefficients[selected_atoms]\n",
    "    # Reconstruct the signal using the selected atoms and their coefficients\n",
    "    # reconstructed_signal = np.dot(coef_class, D)\n",
    "    # Calculate the residual (difference between original and reconstructed signal)\n",
    "    # residual = np.linalg.norm(tSample - reconstructed_signal)\n",
    "    # return residual\n",
    "\n",
    "def classify_signal(tSample, D, train_labels, n_nonzero_coefs=2):\n",
    "    # Compute sparse code for the test sample\n",
    "    coefficients = coefficients = find_sparse_coefficients(tSample, D)\n",
    "    print('Coefficients:', coefficients.shape)\n",
    "    residuals = []\n",
    "    unique_classes = np.unique(train_labels)\n",
    "    for class_label in unique_classes:\n",
    "        class_indices = np.where(train_labels == class_label)[0]\n",
    "        residual = calculate_residual(tSample, coefficients, class_indices, D)\n",
    "    #     # residuals.append(residual)\n",
    "    # predicted_class = unique_classes[np.argmin(residuals)]\n",
    "    # return predicted_class\n"
   ]
  },
  {
   "cell_type": "code",
   "execution_count": 45,
   "metadata": {},
   "outputs": [
    {
     "ename": "ValueError",
     "evalue": "Expected 2D array, got 1D array instead:\narray=[ 7.82597590e-04 -7.91539107e-01  5.63207734e-01  1.05022745e+00\n  7.35486527e-01 -1.71309747e-01 -1.65274951e+00 -3.11959464e-01\n  2.58245359e-01  7.82428926e-01  4.89461641e-01 -1.18641614e+00\n -3.16238265e-01  5.88922785e-01  4.46219106e-01  5.77216021e-01\n  1.18752432e+00  1.94493182e+00  4.03487539e-01  5.60754626e-01\n  1.38109039e+00  2.40340488e-01 -8.86979533e-01  1.22451668e-01\n  5.65059746e-01 -1.25829779e-01 -1.24990639e+00 -9.74690371e-01\n -3.08888984e-02 -1.23754965e+00 -1.08135481e+00 -1.04245357e+00\n -7.93843204e-01 -8.03016071e-01 -1.63113205e-01  4.74700822e-01\n  1.74905040e+00 -3.97020429e-01 -1.03777028e+00  1.51657553e-01\n  5.44975287e-01 -2.61934016e-01  5.22807144e-02 -4.38809042e-01\n -5.50156479e-01  1.11837353e-01  2.61979763e-01 -1.59794011e-01\n -3.15021898e-01 -1.86526248e-01 -9.22069066e-03  3.62797299e-01\n  4.03759343e-01  6.23359853e-01  1.62983729e-01 -8.69237279e-01\n  3.65243670e-01 -1.50556620e+00 -1.87771181e+00 -6.82522874e-01\n -4.97260496e-01 -9.32580405e-01 -1.04585943e+00 -9.97829529e-01\n -1.10093586e+00 -1.29647815e+00 -6.31088705e-01 -1.09781368e+00\n  4.14497033e-03 -9.92921985e-01  1.82463669e-01  6.31924879e-01\n -4.02783011e-01 -3.63593899e-01 -7.49103506e-01 -6.49420901e-01\n -7.47035118e-01 -9.06509333e-01 -6.64361576e-01 -4.67177051e-01\n -5.15971564e-01 -3.89050733e-01  1.32319385e+00  2.59909731e+00\n  1.26920116e+00 -4.97922940e-01 -8.51999565e-01 -3.74738156e-01\n -5.20383398e-01 -9.24739953e-01 -5.87234035e-02  5.53075389e-01\n  1.86515129e+00  1.63262586e+00 -2.30782986e-01  5.06363305e-02\n  6.64580229e-01  1.48173630e+00  1.98533004e+00 -8.75181949e-02\n  5.39570360e-01 -2.02167957e-01  9.95658782e-01  1.47607279e+00\n -6.88543532e-01  2.48617547e-01  1.37813436e+00  1.45720211e+00\n  7.81171864e-01  1.59270971e-01 -6.01678994e-01 -2.54496332e-01\n  5.50195040e-01  1.33988299e+00  2.40197604e+00  6.58963599e-02\n  1.33198054e-02  5.34011148e-01  2.51820051e+00  1.26023279e+00\n -7.15422115e-02  2.49838519e-03  1.36347350e+00  3.32404065e+00\n  8.44367327e-01 -1.33161436e+00  2.25155429e-01  1.65376213e+00\n  1.78870701e-01 -4.26647601e-01  1.86322886e+00  1.01578041e+00\n -4.30522843e-01 -1.13821548e+00 -1.37658691e-01 -4.89120583e-01\n -5.19400929e-01  6.72414533e-01  1.00180803e+00  5.98874559e-01\n -8.19331892e-01 -9.56618533e-01 -5.03961594e-01  4.28625484e-01\n  9.60755370e-01  8.51175503e-01  4.16678851e-01 -1.70993801e-01\n  1.74492678e+00  6.44591784e-02 -8.06355076e-01  2.51706776e-01\n  9.99994130e-01  6.07217401e-01  1.10817854e-01  4.55965453e-01\n  2.37395264e+00  2.15284501e+00  8.91800496e-01  8.98871876e-02\n -7.37226924e-01  1.00491375e+00  2.35905475e+00  8.74683108e-01\n -2.33525965e-01 -1.26441634e+00 -2.17531684e-01  2.64649110e+00\n  2.30437341e+00  9.65235392e-01  2.34805358e-01  5.53094755e-01\n  4.57191262e-01  2.72337089e-01 -4.12649507e-01 -7.16201074e-02\n  2.48308513e-02 -1.68861198e-01  4.30411355e-01 -4.80778846e-02\n -2.61708899e-01  5.23178644e-01  8.13076580e-01  1.08843945e+00\n -2.95638984e-01 -7.38831184e-01  5.18990207e-01  3.41379219e-01\n  2.36110210e-01 -1.73689501e-01 -1.03785788e+00 -4.86006299e-01\n -1.30926321e+00 -7.54332611e-01 -2.37456199e-01  2.70724397e-01\n  4.54897748e-01 -5.88238674e-01 -1.51825303e+00 -1.28154106e+00\n -1.30165984e+00 -4.18907904e-01  6.34629092e-01  3.81972251e-01\n  5.42664959e-01 -7.32876175e-02 -1.24331115e+00 -7.39990142e-01\n  3.20441555e-01  3.28973807e-01 -3.80074902e-01 -7.76777069e-01\n -5.61743310e-01 -1.09089521e+00 -3.67557905e-01 -1.97371890e-02\n  7.19117397e-01  5.15349877e-04 -1.48563420e+00 -1.14327610e+00\n  8.66763398e-01  1.44786638e+00 -5.58269184e-01 -1.50799671e+00\n -7.22642275e-01 -8.00471314e-01 -7.66665707e-01 -6.34806222e-01\n -1.76956018e-01 -7.22866185e-01 -1.55059958e+00 -1.48771190e+00\n -4.72813491e-01 -6.26739404e-01 -1.08879448e+00 -1.57716942e+00\n -1.47554092e+00 -1.04085203e+00 -1.26680178e+00 -7.59817434e-01\n -9.28664038e-01 -7.52647938e-01 -1.38471812e-01 -1.39468789e+00\n -4.18890305e-01  6.64647911e-02  1.19223825e+00 -1.07448910e+00\n -1.06696692e+00 -1.64825159e+00 -8.09237853e-01].\nReshape your data either using array.reshape(-1, 1) if your data has a single feature or array.reshape(1, -1) if it contains a single sample.",
     "output_type": "error",
     "traceback": [
      "\u001b[0;31m---------------------------------------------------------------------------\u001b[0m",
      "\u001b[0;31mValueError\u001b[0m                                Traceback (most recent call last)",
      "Cell \u001b[0;32mIn[45], line 5\u001b[0m\n\u001b[1;32m      3\u001b[0m \u001b[38;5;28;01mfor\u001b[39;00m i \u001b[38;5;129;01min\u001b[39;00m \u001b[38;5;28mrange\u001b[39m(test_data_scaled\u001b[38;5;241m.\u001b[39mshape[\u001b[38;5;241m0\u001b[39m])[:\u001b[38;5;241m2\u001b[39m]:\n\u001b[1;32m      4\u001b[0m     test_sample \u001b[38;5;241m=\u001b[39m test_data_scaled[i]\n\u001b[0;32m----> 5\u001b[0m     predicted_class \u001b[38;5;241m=\u001b[39m classify_signal(test_sample, D, train_labels, n_nonzero_coefs\u001b[38;5;241m=\u001b[39m\u001b[38;5;241m2\u001b[39m)\n\u001b[1;32m      6\u001b[0m     predictions\u001b[38;5;241m.\u001b[39mappend(predicted_class)\n\u001b[1;32m      8\u001b[0m predictions \u001b[38;5;241m=\u001b[39m np\u001b[38;5;241m.\u001b[39marray(predictions)\n",
      "Cell \u001b[0;32mIn[44], line 15\u001b[0m, in \u001b[0;36mclassify_signal\u001b[0;34m(tSample, D, train_labels, n_nonzero_coefs)\u001b[0m\n\u001b[1;32m     13\u001b[0m \u001b[38;5;28;01mdef\u001b[39;00m \u001b[38;5;21mclassify_signal\u001b[39m(tSample, D, train_labels, n_nonzero_coefs\u001b[38;5;241m=\u001b[39m\u001b[38;5;241m2\u001b[39m):\n\u001b[1;32m     14\u001b[0m     \u001b[38;5;66;03m# Compute sparse code for the test sample\u001b[39;00m\n\u001b[0;32m---> 15\u001b[0m     coefficients \u001b[38;5;241m=\u001b[39m sparse_encode(tSample, D, algorithm\u001b[38;5;241m=\u001b[39m\u001b[38;5;124m'\u001b[39m\u001b[38;5;124mlasso_lars\u001b[39m\u001b[38;5;124m'\u001b[39m, n_nonzero_coefs\u001b[38;5;241m=\u001b[39mn_nonzero_coefs)\u001b[38;5;241m.\u001b[39mravel()\n\u001b[1;32m     16\u001b[0m     \u001b[38;5;28mprint\u001b[39m(\u001b[38;5;124m'\u001b[39m\u001b[38;5;124mCoefficients:\u001b[39m\u001b[38;5;124m'\u001b[39m, coefficients\u001b[38;5;241m.\u001b[39mshape)\n\u001b[1;32m     17\u001b[0m     residuals \u001b[38;5;241m=\u001b[39m []\n",
      "File \u001b[0;32m~/anaconda3/envs/CRKG/lib/python3.12/site-packages/sklearn/utils/_param_validation.py:213\u001b[0m, in \u001b[0;36mvalidate_params.<locals>.decorator.<locals>.wrapper\u001b[0;34m(*args, **kwargs)\u001b[0m\n\u001b[1;32m    207\u001b[0m \u001b[38;5;28;01mtry\u001b[39;00m:\n\u001b[1;32m    208\u001b[0m     \u001b[38;5;28;01mwith\u001b[39;00m config_context(\n\u001b[1;32m    209\u001b[0m         skip_parameter_validation\u001b[38;5;241m=\u001b[39m(\n\u001b[1;32m    210\u001b[0m             prefer_skip_nested_validation \u001b[38;5;129;01mor\u001b[39;00m global_skip_validation\n\u001b[1;32m    211\u001b[0m         )\n\u001b[1;32m    212\u001b[0m     ):\n\u001b[0;32m--> 213\u001b[0m         \u001b[38;5;28;01mreturn\u001b[39;00m func(\u001b[38;5;241m*\u001b[39margs, \u001b[38;5;241m*\u001b[39m\u001b[38;5;241m*\u001b[39mkwargs)\n\u001b[1;32m    214\u001b[0m \u001b[38;5;28;01mexcept\u001b[39;00m InvalidParameterError \u001b[38;5;28;01mas\u001b[39;00m e:\n\u001b[1;32m    215\u001b[0m     \u001b[38;5;66;03m# When the function is just a wrapper around an estimator, we allow\u001b[39;00m\n\u001b[1;32m    216\u001b[0m     \u001b[38;5;66;03m# the function to delegate validation to the estimator, but we replace\u001b[39;00m\n\u001b[1;32m    217\u001b[0m     \u001b[38;5;66;03m# the name of the estimator by the name of the function in the error\u001b[39;00m\n\u001b[1;32m    218\u001b[0m     \u001b[38;5;66;03m# message to avoid confusion.\u001b[39;00m\n\u001b[1;32m    219\u001b[0m     msg \u001b[38;5;241m=\u001b[39m re\u001b[38;5;241m.\u001b[39msub(\n\u001b[1;32m    220\u001b[0m         \u001b[38;5;124mr\u001b[39m\u001b[38;5;124m\"\u001b[39m\u001b[38;5;124mparameter of \u001b[39m\u001b[38;5;124m\\\u001b[39m\u001b[38;5;124mw+ must be\u001b[39m\u001b[38;5;124m\"\u001b[39m,\n\u001b[1;32m    221\u001b[0m         \u001b[38;5;124mf\u001b[39m\u001b[38;5;124m\"\u001b[39m\u001b[38;5;124mparameter of \u001b[39m\u001b[38;5;132;01m{\u001b[39;00mfunc\u001b[38;5;241m.\u001b[39m\u001b[38;5;18m__qualname__\u001b[39m\u001b[38;5;132;01m}\u001b[39;00m\u001b[38;5;124m must be\u001b[39m\u001b[38;5;124m\"\u001b[39m,\n\u001b[1;32m    222\u001b[0m         \u001b[38;5;28mstr\u001b[39m(e),\n\u001b[1;32m    223\u001b[0m     )\n",
      "File \u001b[0;32m~/anaconda3/envs/CRKG/lib/python3.12/site-packages/sklearn/decomposition/_dict_learning.py:367\u001b[0m, in \u001b[0;36msparse_encode\u001b[0;34m(X, dictionary, gram, cov, algorithm, n_nonzero_coefs, alpha, copy_cov, init, max_iter, n_jobs, check_input, verbose, positive)\u001b[0m\n\u001b[1;32m    365\u001b[0m     \u001b[38;5;28;01melse\u001b[39;00m:\n\u001b[1;32m    366\u001b[0m         dictionary \u001b[38;5;241m=\u001b[39m check_array(dictionary)\n\u001b[0;32m--> 367\u001b[0m         X \u001b[38;5;241m=\u001b[39m check_array(X)\n\u001b[1;32m    369\u001b[0m \u001b[38;5;28;01mif\u001b[39;00m dictionary\u001b[38;5;241m.\u001b[39mshape[\u001b[38;5;241m1\u001b[39m] \u001b[38;5;241m!=\u001b[39m X\u001b[38;5;241m.\u001b[39mshape[\u001b[38;5;241m1\u001b[39m]:\n\u001b[1;32m    370\u001b[0m     \u001b[38;5;28;01mraise\u001b[39;00m \u001b[38;5;167;01mValueError\u001b[39;00m(\n\u001b[1;32m    371\u001b[0m         \u001b[38;5;124m\"\u001b[39m\u001b[38;5;124mDictionary and X have different numbers of features:\u001b[39m\u001b[38;5;124m\"\u001b[39m\n\u001b[1;32m    372\u001b[0m         \u001b[38;5;124m\"\u001b[39m\u001b[38;5;124mdictionary.shape: \u001b[39m\u001b[38;5;132;01m{}\u001b[39;00m\u001b[38;5;124m X.shape\u001b[39m\u001b[38;5;132;01m{}\u001b[39;00m\u001b[38;5;124m\"\u001b[39m\u001b[38;5;241m.\u001b[39mformat(dictionary\u001b[38;5;241m.\u001b[39mshape, X\u001b[38;5;241m.\u001b[39mshape)\n\u001b[1;32m    373\u001b[0m     )\n",
      "File \u001b[0;32m~/anaconda3/envs/CRKG/lib/python3.12/site-packages/sklearn/utils/validation.py:1045\u001b[0m, in \u001b[0;36mcheck_array\u001b[0;34m(array, accept_sparse, accept_large_sparse, dtype, order, copy, force_all_finite, ensure_2d, allow_nd, ensure_min_samples, ensure_min_features, estimator, input_name)\u001b[0m\n\u001b[1;32m   1038\u001b[0m         \u001b[38;5;28;01melse\u001b[39;00m:\n\u001b[1;32m   1039\u001b[0m             msg \u001b[38;5;241m=\u001b[39m (\n\u001b[1;32m   1040\u001b[0m                 \u001b[38;5;124mf\u001b[39m\u001b[38;5;124m\"\u001b[39m\u001b[38;5;124mExpected 2D array, got 1D array instead:\u001b[39m\u001b[38;5;130;01m\\n\u001b[39;00m\u001b[38;5;124marray=\u001b[39m\u001b[38;5;132;01m{\u001b[39;00marray\u001b[38;5;132;01m}\u001b[39;00m\u001b[38;5;124m.\u001b[39m\u001b[38;5;130;01m\\n\u001b[39;00m\u001b[38;5;124m\"\u001b[39m\n\u001b[1;32m   1041\u001b[0m                 \u001b[38;5;124m\"\u001b[39m\u001b[38;5;124mReshape your data either using array.reshape(-1, 1) if \u001b[39m\u001b[38;5;124m\"\u001b[39m\n\u001b[1;32m   1042\u001b[0m                 \u001b[38;5;124m\"\u001b[39m\u001b[38;5;124myour data has a single feature or array.reshape(1, -1) \u001b[39m\u001b[38;5;124m\"\u001b[39m\n\u001b[1;32m   1043\u001b[0m                 \u001b[38;5;124m\"\u001b[39m\u001b[38;5;124mif it contains a single sample.\u001b[39m\u001b[38;5;124m\"\u001b[39m\n\u001b[1;32m   1044\u001b[0m             )\n\u001b[0;32m-> 1045\u001b[0m         \u001b[38;5;28;01mraise\u001b[39;00m \u001b[38;5;167;01mValueError\u001b[39;00m(msg)\n\u001b[1;32m   1047\u001b[0m \u001b[38;5;28;01mif\u001b[39;00m dtype_numeric \u001b[38;5;129;01mand\u001b[39;00m \u001b[38;5;28mhasattr\u001b[39m(array\u001b[38;5;241m.\u001b[39mdtype, \u001b[38;5;124m\"\u001b[39m\u001b[38;5;124mkind\u001b[39m\u001b[38;5;124m\"\u001b[39m) \u001b[38;5;129;01mand\u001b[39;00m array\u001b[38;5;241m.\u001b[39mdtype\u001b[38;5;241m.\u001b[39mkind \u001b[38;5;129;01min\u001b[39;00m \u001b[38;5;124m\"\u001b[39m\u001b[38;5;124mUSV\u001b[39m\u001b[38;5;124m\"\u001b[39m:\n\u001b[1;32m   1048\u001b[0m     \u001b[38;5;28;01mraise\u001b[39;00m \u001b[38;5;167;01mValueError\u001b[39;00m(\n\u001b[1;32m   1049\u001b[0m         \u001b[38;5;124m\"\u001b[39m\u001b[38;5;124mdtype=\u001b[39m\u001b[38;5;124m'\u001b[39m\u001b[38;5;124mnumeric\u001b[39m\u001b[38;5;124m'\u001b[39m\u001b[38;5;124m is not compatible with arrays of bytes/strings.\u001b[39m\u001b[38;5;124m\"\u001b[39m\n\u001b[1;32m   1050\u001b[0m         \u001b[38;5;124m\"\u001b[39m\u001b[38;5;124mConvert your data to numeric values explicitly instead.\u001b[39m\u001b[38;5;124m\"\u001b[39m\n\u001b[1;32m   1051\u001b[0m     )\n",
      "\u001b[0;31mValueError\u001b[0m: Expected 2D array, got 1D array instead:\narray=[ 7.82597590e-04 -7.91539107e-01  5.63207734e-01  1.05022745e+00\n  7.35486527e-01 -1.71309747e-01 -1.65274951e+00 -3.11959464e-01\n  2.58245359e-01  7.82428926e-01  4.89461641e-01 -1.18641614e+00\n -3.16238265e-01  5.88922785e-01  4.46219106e-01  5.77216021e-01\n  1.18752432e+00  1.94493182e+00  4.03487539e-01  5.60754626e-01\n  1.38109039e+00  2.40340488e-01 -8.86979533e-01  1.22451668e-01\n  5.65059746e-01 -1.25829779e-01 -1.24990639e+00 -9.74690371e-01\n -3.08888984e-02 -1.23754965e+00 -1.08135481e+00 -1.04245357e+00\n -7.93843204e-01 -8.03016071e-01 -1.63113205e-01  4.74700822e-01\n  1.74905040e+00 -3.97020429e-01 -1.03777028e+00  1.51657553e-01\n  5.44975287e-01 -2.61934016e-01  5.22807144e-02 -4.38809042e-01\n -5.50156479e-01  1.11837353e-01  2.61979763e-01 -1.59794011e-01\n -3.15021898e-01 -1.86526248e-01 -9.22069066e-03  3.62797299e-01\n  4.03759343e-01  6.23359853e-01  1.62983729e-01 -8.69237279e-01\n  3.65243670e-01 -1.50556620e+00 -1.87771181e+00 -6.82522874e-01\n -4.97260496e-01 -9.32580405e-01 -1.04585943e+00 -9.97829529e-01\n -1.10093586e+00 -1.29647815e+00 -6.31088705e-01 -1.09781368e+00\n  4.14497033e-03 -9.92921985e-01  1.82463669e-01  6.31924879e-01\n -4.02783011e-01 -3.63593899e-01 -7.49103506e-01 -6.49420901e-01\n -7.47035118e-01 -9.06509333e-01 -6.64361576e-01 -4.67177051e-01\n -5.15971564e-01 -3.89050733e-01  1.32319385e+00  2.59909731e+00\n  1.26920116e+00 -4.97922940e-01 -8.51999565e-01 -3.74738156e-01\n -5.20383398e-01 -9.24739953e-01 -5.87234035e-02  5.53075389e-01\n  1.86515129e+00  1.63262586e+00 -2.30782986e-01  5.06363305e-02\n  6.64580229e-01  1.48173630e+00  1.98533004e+00 -8.75181949e-02\n  5.39570360e-01 -2.02167957e-01  9.95658782e-01  1.47607279e+00\n -6.88543532e-01  2.48617547e-01  1.37813436e+00  1.45720211e+00\n  7.81171864e-01  1.59270971e-01 -6.01678994e-01 -2.54496332e-01\n  5.50195040e-01  1.33988299e+00  2.40197604e+00  6.58963599e-02\n  1.33198054e-02  5.34011148e-01  2.51820051e+00  1.26023279e+00\n -7.15422115e-02  2.49838519e-03  1.36347350e+00  3.32404065e+00\n  8.44367327e-01 -1.33161436e+00  2.25155429e-01  1.65376213e+00\n  1.78870701e-01 -4.26647601e-01  1.86322886e+00  1.01578041e+00\n -4.30522843e-01 -1.13821548e+00 -1.37658691e-01 -4.89120583e-01\n -5.19400929e-01  6.72414533e-01  1.00180803e+00  5.98874559e-01\n -8.19331892e-01 -9.56618533e-01 -5.03961594e-01  4.28625484e-01\n  9.60755370e-01  8.51175503e-01  4.16678851e-01 -1.70993801e-01\n  1.74492678e+00  6.44591784e-02 -8.06355076e-01  2.51706776e-01\n  9.99994130e-01  6.07217401e-01  1.10817854e-01  4.55965453e-01\n  2.37395264e+00  2.15284501e+00  8.91800496e-01  8.98871876e-02\n -7.37226924e-01  1.00491375e+00  2.35905475e+00  8.74683108e-01\n -2.33525965e-01 -1.26441634e+00 -2.17531684e-01  2.64649110e+00\n  2.30437341e+00  9.65235392e-01  2.34805358e-01  5.53094755e-01\n  4.57191262e-01  2.72337089e-01 -4.12649507e-01 -7.16201074e-02\n  2.48308513e-02 -1.68861198e-01  4.30411355e-01 -4.80778846e-02\n -2.61708899e-01  5.23178644e-01  8.13076580e-01  1.08843945e+00\n -2.95638984e-01 -7.38831184e-01  5.18990207e-01  3.41379219e-01\n  2.36110210e-01 -1.73689501e-01 -1.03785788e+00 -4.86006299e-01\n -1.30926321e+00 -7.54332611e-01 -2.37456199e-01  2.70724397e-01\n  4.54897748e-01 -5.88238674e-01 -1.51825303e+00 -1.28154106e+00\n -1.30165984e+00 -4.18907904e-01  6.34629092e-01  3.81972251e-01\n  5.42664959e-01 -7.32876175e-02 -1.24331115e+00 -7.39990142e-01\n  3.20441555e-01  3.28973807e-01 -3.80074902e-01 -7.76777069e-01\n -5.61743310e-01 -1.09089521e+00 -3.67557905e-01 -1.97371890e-02\n  7.19117397e-01  5.15349877e-04 -1.48563420e+00 -1.14327610e+00\n  8.66763398e-01  1.44786638e+00 -5.58269184e-01 -1.50799671e+00\n -7.22642275e-01 -8.00471314e-01 -7.66665707e-01 -6.34806222e-01\n -1.76956018e-01 -7.22866185e-01 -1.55059958e+00 -1.48771190e+00\n -4.72813491e-01 -6.26739404e-01 -1.08879448e+00 -1.57716942e+00\n -1.47554092e+00 -1.04085203e+00 -1.26680178e+00 -7.59817434e-01\n -9.28664038e-01 -7.52647938e-01 -1.38471812e-01 -1.39468789e+00\n -4.18890305e-01  6.64647911e-02  1.19223825e+00 -1.07448910e+00\n -1.06696692e+00 -1.64825159e+00 -8.09237853e-01].\nReshape your data either using array.reshape(-1, 1) if your data has a single feature or array.reshape(1, -1) if it contains a single sample."
     ]
    }
   ],
   "source": [
    "predictions = []\n",
    "\n",
    "for i in range(test_data_scaled.shape[0])[:2]:\n",
    "    test_sample = test_data_scaled[i]\n",
    "    predicted_class = classify_signal(test_sample, D, train_labels, n_nonzero_coefs=2)\n",
    "    predictions.append(predicted_class)\n",
    "\n",
    "predictions = np.array(predictions)\n"
   ]
  },
  {
   "cell_type": "code",
   "execution_count": null,
   "metadata": {},
   "outputs": [],
   "source": [
    "accuracy = np.mean(predictions == test_labels)\n",
    "print(f\"Classification Accuracy: {accuracy * 100:.2f}%\")\n",
    "\n",
    "# Confusion Matrix\n",
    "tn, fp, fn, tp = confusion_matrix(test_labels, predictions, labels=[0, 1]).ravel()\n",
    "\n",
    "print(f\"True Positives (tp): {tp}\")\n",
    "print(f\"True Negatives (tn): {tn}\")\n",
    "print(f\"False Positives (fp): {fp}\")\n",
    "print(f\"False Negatives (fn): {fn}\")\n",
    "\n",
    "# Missed Detection Rate (MDR)\n",
    "MDR = fp / (fp + tn) if (fp + tn) > 0 else 0\n",
    "\n",
    "# False Alarm Rate (FAR)\n",
    "FAR = fn / (fn + tp) if (fn + tp) > 0 else 0\n",
    "\n",
    "# Gamma calculation\n",
    "gamma = (tp + fn) / (tn + fp) if (tn + fp) > 0 else 0\n",
    "\n",
    "# Authentication Rate (AR)\n",
    "AR = (tp + gamma * tn) / ((tp + fn) + gamma * (tn + fp)) if ((tp + fn) + gamma * (tn + fp)) > 0 else 0\n",
    "\n",
    "print(f\"MDR: {MDR}\")\n",
    "print(f\"FAR: {FAR}\")\n",
    "print(f\"AR: {AR}\")\n"
   ]
  },
  {
   "cell_type": "code",
   "execution_count": 2,
   "metadata": {},
   "outputs": [
    {
     "name": "stdout",
     "output_type": "stream",
     "text": [
      "(100, 251, 5)\n"
     ]
    }
   ],
   "source": [
    "import numpy as np\n",
    "from sklearn.decomposition import DictionaryLearning\n",
    "\n",
    "# Step 1: Create a dummy dataset (100 samples, 251 data points, 2 features)\n",
    "data = np.random.randn(100, 251, 2)  # Shape: (100, 251, 2)\n",
    "\n",
    "# Step 2: Set up Dictionary Learning\n",
    "n_components = 5  # The number of components to reduce to\n",
    "dict_learning = DictionaryLearning(n_components=n_components, transform_algorithm='omp', transform_n_nonzero_coefs=5)\n",
    "\n",
    "# Step 3: Apply Dictionary Learning to each CIR individually\n",
    "reduced_data = []\n",
    "\n",
    "for cir in data:\n",
    "    # Apply Dictionary Learning to the real and imaginary parts separately\n",
    "    # Step 3.1: Reshape CIR to be compatible with Dictionary Learning (251, 2)\n",
    "    # The shape (251, 2) will be treated as the number of samples and features.\n",
    "    cir_reshaped = cir  # Shape: (251, 2)\n",
    "\n",
    "    # Step 3.2: Fit and transform using Dictionary Learning\n",
    "    cir_sparse = dict_learning.fit_transform(cir_reshaped)  # Shape: (251, 5)\n",
    "\n",
    "    # Step 3.3: Append the transformed CIR\n",
    "    reduced_data.append(cir_sparse)\n",
    "\n",
    "# Step 4: Convert the reduced data back to NumPy array\n",
    "reduced_data = np.array(reduced_data)  # Shape: (100, 5, 2)\n",
    "\n",
    "print(reduced_data.shape)  # Should output: (100, 5, 2)\n"
   ]
  },
  {
   "cell_type": "code",
   "execution_count": null,
   "metadata": {},
   "outputs": [
    {
     "name": "stdout",
     "output_type": "stream",
     "text": [
      "(100, 251, 2)\n"
     ]
    }
   ],
   "source": []
  }
 ],
 "metadata": {
  "kernelspec": {
   "display_name": "CRKG",
   "language": "python",
   "name": "python3"
  },
  "language_info": {
   "codemirror_mode": {
    "name": "ipython",
    "version": 3
   },
   "file_extension": ".py",
   "mimetype": "text/x-python",
   "name": "python",
   "nbconvert_exporter": "python",
   "pygments_lexer": "ipython3",
   "version": "3.12.3"
  }
 },
 "nbformat": 4,
 "nbformat_minor": 2
}
