{
 "cells": [
  {
   "cell_type": "markdown",
   "metadata": {},
   "source": [
    "Preprocessing - **PCA** (component=4)  \n",
    "Algorithm - **KNN Classification**  \n",
    "Feature - **Magnitude** **(251)**"
   ]
  },
  {
   "cell_type": "code",
   "execution_count": 3,
   "metadata": {},
   "outputs": [
    {
     "name": "stdout",
     "output_type": "stream",
     "text": [
      "trainData - (160, 15, 251, 2)\n",
      "testData - (40, 15, 251, 2)\n"
     ]
    }
   ],
   "source": [
    "# Real + Imaginary together as one feature\n",
    "import numpy as np\n",
    "from sklearn.decomposition import PCA\n",
    "from sklearn.model_selection import train_test_split\n",
    "from sklearn.preprocessing import StandardScaler\n",
    "from sklearn.neighbors import KNeighborsClassifier\n",
    "from sklearn.metrics import accuracy_score, confusion_matrix\n",
    "\n",
    "\n",
    "# Load dataset\n",
    "measurement = np.load('../../../dataset/meas_symm_1.npz', allow_pickle=False)\n",
    "header, data = measurement['header'], measurement['data']\n",
    "data_cir = data['cirs'][:200]\n",
    "n_comp = 4\n",
    "\n",
    "# Train-test split\n",
    "trainCIR, testCIR = train_test_split(data_cir, test_size=0.2, random_state=42)\n",
    "print(f'trainData - {trainCIR.shape}')\n",
    "print(f'testData - {testCIR.shape}')\n",
    "\n",
    "# Define channels\n",
    "alice_channel = 3  # A -> B (legitimate)\n",
    "eve_channel = 6  # E -> B (illegitimate)"
   ]
  },
  {
   "cell_type": "code",
   "execution_count": null,
   "metadata": {},
   "outputs": [
    {
     "name": "stdout",
     "output_type": "stream",
     "text": [
      "train_cirs: (320, 251)\n",
      "data_scaled: (320, 251)\n"
     ]
    }
   ],
   "source": [
    "# -------------------------------------------------- Preprocessing ------------------------------------------\n",
    "def apply_pca(data, n_components):\n",
    "    # data: (samples, 251, 2)\n",
    "    reshaped_data = data.reshape(data.shape[0], -1)  # Now shape is (samples, 251*2) -> (12800, 502)\n",
    "    \n",
    "    scaler = StandardScaler()\n",
    "    data_scaled = scaler.fit_transform(reshaped_data)  # (samples, 251*2) -> (12800, 502)\n",
    "    print(f\"data_scaled: {data_scaled.shape}\")\n",
    "    \n",
    "    pca = PCA(n_components=n_components)\n",
    "    data_pca = pca.fit_transform(data_scaled)  # (samples, n_components)\n",
    "    \n",
    "    return data_pca, scaler, pca\n",
    "\n",
    "# -------- Train --------\n",
    "# Feature Extraction\n",
    "train_alice_cirs = trainCIR[:, alice_channel, :, :]\n",
    "train_eve_cirs = trainCIR[:, eve_channel, :, :]\n",
    "\n",
    "train_alice_magnitude = np.abs(train_alice_cirs[..., 0] + 1j * train_alice_cirs[..., 1])\n",
    "train_eve_magnitude = np.abs(train_eve_cirs[..., 0] + 1j * train_eve_cirs[..., 1])\n",
    "train_cirs = np.vstack((train_alice_magnitude, train_eve_magnitude))\n",
    "train_cirs_pca, scaler, pca = apply_pca(train_cirs, n_components=n_comp)\n",
    "\n",
    "# Labels\n",
    "train_alice_labels = np.zeros(train_alice_cirs.shape[0])\n",
    "train_eve_labels = np.ones(train_eve_cirs.shape[0])\n",
    "train_labels = np.hstack((train_alice_labels, train_eve_labels))\n",
    "\n",
    "# -------- Test --------\n",
    "# Feature Extraction\n",
    "test_alice_cirs = testCIR[:, alice_channel, :, :]\n",
    "test_eve_cirs = testCIR[:, eve_channel, :, :]\n",
    "\n",
    "test_alice_magnitude = np.abs(test_alice_cirs[..., 0] + 1j * test_alice_cirs[..., 1])\n",
    "test_eve_magnitude = np.abs(test_eve_cirs[..., 0] + 1j * test_eve_cirs[..., 1])\n",
    "test_cirs = np.vstack((test_alice_magnitude, test_eve_magnitude))\n",
    "\n",
    "# Labels\n",
    "test_alice_label = np.zeros(test_alice_cirs.shape[0])\n",
    "test_eve_labels = np.ones(test_eve_cirs.shape[0])\n",
    "test_labels = np.hstack((test_alice_label, test_eve_labels))\n",
    "\n",
    "# Reshape\n",
    "reshaped_test_cirs = test_cirs.reshape(test_cirs.shape[0], -1)\n",
    "test_cirs_scaled = scaler.transform(reshaped_test_cirs)\n",
    "\n",
    "# PCA\n",
    "test_cirs_pca = pca.transform(test_cirs_scaled)\n"
   ]
  },
  {
   "cell_type": "code",
   "execution_count": 7,
   "metadata": {},
   "outputs": [],
   "source": [
    "\n",
    "# ----------------- Classification -----------------\n",
    "# Train the KNN classifier\n",
    "knn = KNeighborsClassifier(n_neighbors=3)\n",
    "knn.fit(train_cirs_pca, train_labels)\n",
    "\n",
    "# Predict on test data\n",
    "predictions = knn.predict(test_cirs_pca)\n"
   ]
  },
  {
   "cell_type": "code",
   "execution_count": 8,
   "metadata": {},
   "outputs": [
    {
     "name": "stdout",
     "output_type": "stream",
     "text": [
      "Classification Accuracy: 57.19%\n",
      "tp: 462\n",
      "tn: 453\n",
      "fp: 347\n",
      "fn: 338\n",
      "MDR: 0.43375\n",
      "FAR: 0.4225\n",
      "AR: 0.571875\n"
     ]
    }
   ],
   "source": [
    "# ----------------- Evaluation -----------------\n",
    "# Calculate accuracy\n",
    "accuracy = accuracy_score(test_labels, predictions)\n",
    "print(f\"Classification Accuracy: {accuracy * 100:.2f}%\")\n",
    "\n",
    "# Calculate confusion matrix\n",
    "tn, fp, fn, tp = confusion_matrix(test_labels, predictions, labels=[0, 1]).ravel()\n",
    "\n",
    "print(f\"tp: {tp}\")\n",
    "print(f\"tn: {tn}\")\n",
    "print(f\"fp: {fp}\")\n",
    "print(f\"fn: {fn}\")\n",
    "\n",
    "# Missed Detection Rate (MDR)\n",
    "MDR = fp / (fp + tn) if (fp + tn) > 0 else 0\n",
    "\n",
    "# False Alarm Rate (FAR)\n",
    "FAR = fn / (fn + tp) if (fn + tp) > 0 else 0\n",
    "\n",
    "# Gamma calculation\n",
    "gamma = (tp + fn) / (tn + fp) if (tn + fp) > 0 else 0\n",
    "\n",
    "# Authentication Rate (AR)\n",
    "denominator = (tp + fn) + gamma * (tn + fp)\n",
    "AR = (tp + gamma * tn) / denominator if denominator > 0 else 0\n",
    "\n",
    "print(f\"MDR: {MDR}\")\n",
    "print(f\"FAR: {FAR}\")\n",
    "print(f\"AR: {AR}\")"
   ]
  },
  {
   "cell_type": "code",
   "execution_count": 6,
   "metadata": {},
   "outputs": [
    {
     "name": "stdout",
     "output_type": "stream",
     "text": [
      "Original shape: (100, 20)\n",
      "Reduced shape: (10, 20)\n"
     ]
    }
   ],
   "source": [
    "import numpy as np\n",
    "\n",
    "def pca_reduce_samples(data, n_components):\n",
    "    \"\"\"\n",
    "    Custom PCA function to reduce the number of samples in the data.\n",
    "    \n",
    "    Parameters:\n",
    "    - data: Input data of shape (samples, features)\n",
    "    - n_components: The desired number of reduced samples (principal components)\n",
    "    \n",
    "    Returns:\n",
    "    - reduced_data: Data with reduced number of samples but same number of features\n",
    "    \"\"\"\n",
    "    # Step 1: Standardize the data (mean center)\n",
    "    # Mean centering is crucial for PCA\n",
    "    mean_centered_data = data - np.mean(data, axis=0)  # Shape: (samples, features)\n",
    "    \n",
    "    # Step 2: Compute the covariance matrix of the data\n",
    "    # Since we want to reduce the samples, calculate covariance matrix considering rows as samples\n",
    "    covariance_matrix = np.dot(mean_centered_data, mean_centered_data.T) / (data.shape[1] - 1)  # Shape: (samples, samples)\n",
    "    \n",
    "    # Step 3: Perform eigen decomposition of the covariance matrix\n",
    "    eigenvalues, eigenvectors = np.linalg.eigh(covariance_matrix)  # Shape: (samples, samples)\n",
    "    \n",
    "    # Step 4: Sort eigenvectors by descending eigenvalues\n",
    "    # argsort gives the indices that would sort the eigenvalues in ascending order\n",
    "    sorted_indices = np.argsort(eigenvalues)[::-1]\n",
    "    sorted_eigenvectors = eigenvectors[:, sorted_indices]\n",
    "    \n",
    "    # Step 5: Select the top n_components eigenvectors (principal components)\n",
    "    selected_eigenvectors = sorted_eigenvectors[:, :n_components]  # Shape: (samples, n_components)\n",
    "    \n",
    "    # Step 6: Project the original data onto the selected components\n",
    "    # Projection here reduces the number of samples\n",
    "    reduced_data = np.dot(selected_eigenvectors.T, mean_centered_data)  # Shape: (n_components, features)\n",
    "    \n",
    "    return reduced_data  # Shape: (n_components, features)\n",
    "\n",
    "# Example usage:\n",
    "data = np.random.rand(100, 20)  # 100 samples, 20 features\n",
    "n_components = 10  # Reduce to 10 samples\n",
    "\n",
    "reduced_data = pca_reduce_samples(data, n_components)\n",
    "print(\"Original shape:\", data.shape)  # Output: (100, 20)\n",
    "print(\"Reduced shape:\", reduced_data.shape)  # Output: (10, 20)\n"
   ]
  }
 ],
 "metadata": {
  "kernelspec": {
   "display_name": "CRKG",
   "language": "python",
   "name": "python3"
  },
  "language_info": {
   "codemirror_mode": {
    "name": "ipython",
    "version": 3
   },
   "file_extension": ".py",
   "mimetype": "text/x-python",
   "name": "python",
   "nbconvert_exporter": "python",
   "pygments_lexer": "ipython3",
   "version": "3.12.3"
  }
 },
 "nbformat": 4,
 "nbformat_minor": 2
}
