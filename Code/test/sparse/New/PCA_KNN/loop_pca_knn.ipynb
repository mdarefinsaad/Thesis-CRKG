{
 "cells": [
  {
   "cell_type": "markdown",
   "metadata": {},
   "source": []
  },
  {
   "cell_type": "code",
   "execution_count": 8,
   "metadata": {},
   "outputs": [
    {
     "name": "stdout",
     "output_type": "stream",
     "text": [
      "trainData - (800, 15, 251, 2)\n",
      "testData - (200, 15, 251, 2)\n"
     ]
    }
   ],
   "source": [
    "# Take magnitude as the feature\n",
    "import numpy as np\n",
    "from sklearn.decomposition import PCA\n",
    "from sklearn.model_selection import train_test_split\n",
    "from sklearn.preprocessing import StandardScaler\n",
    "from sklearn.neighbors import KNeighborsClassifier\n",
    "from sklearn.metrics import accuracy_score, confusion_matrix\n",
    "\n",
    "\n",
    "# Load dataset\n",
    "measurement = np.load('../../../dataset/meas_symm_1.npz', allow_pickle=False)\n",
    "header, data = measurement['header'], measurement['data']\n",
    "data_cir = data['cirs'][:1000]\n",
    "n_comp = 4\n",
    "\n",
    "# Train-test split\n",
    "trainCIR, testCIR = train_test_split(data_cir, test_size=0.2, random_state=42)\n",
    "print(f'trainData - {trainCIR.shape}')\n",
    "print(f'testData - {testCIR.shape}')\n",
    "\n",
    "# Define channels\n",
    "alice_channel = 3  # A -> B (legitimate)\n",
    "eve_channel = 6  # E -> B (illegitimate)"
   ]
  },
  {
   "cell_type": "code",
   "execution_count": 10,
   "metadata": {},
   "outputs": [
    {
     "name": "stdout",
     "output_type": "stream",
     "text": [
      "(1600, 251, 1)\n"
     ]
    }
   ],
   "source": [
    "# --------------------------------------------------- Preprocessing ---------------------------------------------------\n",
    "def apply_pca(data, n_components):\n",
    "\n",
    "    data_pca = []\n",
    "    for cir in data:\n",
    "        scaler = StandardScaler()\n",
    "        cir_scaled = scaler.fit_transform(cir) # Shape: (251, 2)    \n",
    "        \n",
    "        pca = PCA(n_components=1)\n",
    "        cir_pca_transformed = pca.fit_transform(cir_scaled)  # Shape: (251, n_components)\n",
    "        \n",
    "        data_pca.append(cir_pca_transformed)\n",
    "        \n",
    "    return data_pca\n",
    "# ----------------- Train -----------------\n",
    "train_alice_cirs = trainCIR[:, alice_channel, :, :] # (6400, 251, 2)\n",
    "train_eve_cirs = trainCIR[:, eve_channel, :, :] # (6400, 251, 2)\n",
    "train_cirs = np.vstack((train_alice_cirs, train_eve_cirs))\n",
    "\n",
    "\n",
    "train_cirs_pca = apply_pca(train_cirs, n_components=1)\n",
    "train_cirs_pca = np.array(train_cirs_pca)\n",
    "\n",
    "print(train_cirs_pca.shape)  # (12800, 251, 1)\n",
    "# train_cirs_pca = train_cirs_pca.reshape(train_cirs_pca.shape[0], -1)  # (12800, 251)\n",
    "\n",
    "# # Labels\n",
    "# alice_train_labels = np.zeros(alice_train_CIRs.shape[0])  # '0' for Alice\n",
    "# eve_train_labels = np.ones(eve_train_CIRs.shape[0])       # '1' for Eve\n",
    "# train_labels = np.hstack((alice_train_labels, eve_train_labels))  # (12800,)\n",
    "\n",
    "# # ----------------- Test -----------------\n",
    "# # Feature Extraction\n",
    "# alice_test_CIRs = testCIR[:, alice_channel, :, :]\n",
    "# eve_test_CIRs = testCIR[:, eve_channel, :, :]\n",
    "# test_cirs = np.vstack((alice_test_CIRs, eve_test_CIRs))\n",
    "\n",
    "\n",
    "# test_cirs_pca = []\n",
    "# for cir in test_cirs:\n",
    "#     # scaler = StandardScaler()\n",
    "#     # cir_scaled = scaler.fit_transform(cir) # Shape: (251, 2)    \n",
    "    \n",
    "#     pca = PCA(n_components=n_components)\n",
    "#     cir_pca_transformed = pca.fit_transform(cir)  # Shape: (251, n_components)\n",
    "    \n",
    "#     test_cirs_pca.append(cir_pca_transformed)\n",
    "\n",
    "# test_cirs_pca = np.array(test_cirs_pca)\n",
    "# test_cirs_pca = test_cirs_pca.reshape(test_cirs_pca.shape[0], -1)  # (3200, 251)\n",
    "# # Labels\n",
    "# alice_test_labels = np.zeros(alice_test_CIRs.shape[0])  # '0' for Alice\n",
    "# eve_test_labels = np.ones(eve_test_CIRs.shape[0])       # '1' for Eve\n",
    "# test_labels = np.hstack((alice_test_labels, eve_test_labels))  # (3200,)"
   ]
  },
  {
   "cell_type": "code",
   "execution_count": null,
   "metadata": {},
   "outputs": [],
   "source": [
    "# ----------------- Classification -----------------\n",
    "# KNN classifier\n",
    "knn = KNeighborsClassifier(n_neighbors=3)\n",
    "knn.fit(train_cirs_pca, train_labels)\n",
    "\n",
    "# Predict\n",
    "predictions = knn.predict(test_cirs_pca)"
   ]
  },
  {
   "cell_type": "code",
   "execution_count": null,
   "metadata": {},
   "outputs": [],
   "source": [
    "# ----------------- Evaluation -----------------\n",
    "# Calculate accuracy\n",
    "accuracy = accuracy_score(test_labels, predictions)\n",
    "print(f\"Classification Accuracy: {accuracy * 100:.2f}%\")\n",
    "\n",
    "# Calculate confusion matrix\n",
    "tn, fp, fn, tp = confusion_matrix(test_labels, predictions, labels=[0, 1]).ravel()\n",
    "\n",
    "print(f\"tp: {tp}\")\n",
    "print(f\"tn: {tn}\")\n",
    "print(f\"fp: {fp}\")\n",
    "print(f\"fn: {fn}\")\n",
    "\n",
    "# Missed Detection Rate (MDR)\n",
    "MDR = fp / (fp + tn) if (fp + tn) > 0 else 0\n",
    "\n",
    "# False Alarm Rate (FAR)\n",
    "FAR = fn / (fn + tp) if (fn + tp) > 0 else 0\n",
    "\n",
    "# Gamma calculation\n",
    "gamma = (tp + fn) / (tn + fp) if (tn + fp) > 0 else 0\n",
    "\n",
    "# Authentication Rate (AR)\n",
    "denominator = (tp + fn) + gamma * (tn + fp)\n",
    "AR = (tp + gamma * tn) / denominator if denominator > 0 else 0\n",
    "\n",
    "print(f\"MDR: {MDR}\")\n",
    "print(f\"FAR: {FAR}\")\n",
    "print(f\"AR: {AR}\")"
   ]
  },
  {
   "cell_type": "code",
   "execution_count": null,
   "metadata": {},
   "outputs": [
    {
     "name": "stdout",
     "output_type": "stream",
     "text": [
      "(2, 251)\n",
      "(251, 2)\n",
      "(2, 251)\n",
      "\n",
      "(0,)\n"
     ]
    }
   ],
   "source": [
    "import numpy as np\n",
    "from sklearn.decomposition import PCA\n",
    "from sklearn.preprocessing import StandardScaler\n",
    "\n",
    "# Step 1: Create a dummy dataset (10 samples, 251 data points, 2 features)\n",
    "data = np.random.randn(10, 251, 2)\n",
    "\n",
    "data_pca = []\n",
    "for cir in data:\n",
    "    \n",
    "    cir_reshaped = cir.T  # Shape: (2, 251)\n",
    "    \n",
    "    scaler = StandardScaler()\n",
    "    cir_scaled = scaler.fit_transform(cir_reshaped.T).T  # Shape: (2, 251)\n",
    "    \n",
    "    # pca = PCA(n_components=2)\n",
    "    # cir_pca_transformed = pca.fit_transform(cir_scaled.T)  # Shape: (251, 2)\n",
    "    \n",
    "    # cir_pca_transformed = cir_pca_transformed.T  # Shape: (2, 2)\n",
    "    \n",
    "    # data_pca.append(cir_pca_transformed)\n",
    "\n",
    "data_pca = np.array(data_pca)  # Shape: (10, 2, 2)\n",
    "print(data_pca.shape)  # Should output: (10, 2, 2)\n"
   ]
  },
  {
   "cell_type": "code",
   "execution_count": 4,
   "metadata": {},
   "outputs": [
    {
     "name": "stdout",
     "output_type": "stream",
     "text": [
      "(10, 251)\n",
      "(10, 251)\n",
      "(10, 4)\n",
      "(10, 4)\n",
      "(10, 4, 2)\n"
     ]
    }
   ],
   "source": [
    "import numpy as np\n",
    "\n",
    "data = np.random.randn(10, 251, 2)\n",
    "n_components = 3\n",
    "\n",
    "# data_reduced = []\n",
    "# for cir in data:\n",
    "#     # cir has shape (251, 2)\n",
    "#     # Transpose to (2, 251) to perform SVD along samples\n",
    "#     cir_transposed = cir.T  # Shape: (2, 251)\n",
    "    \n",
    "#     # Perform SVD\n",
    "#     U, s, Vt = np.linalg.svd(cir_transposed, full_matrices=False)\n",
    "    \n",
    "#     # Keep top n_components singular values/vectors\n",
    "#     U_reduced = U[:, :n_components]  # Shape: (2, n_components)\n",
    "#     s_reduced = s[:n_components]     # Shape: (n_components,)\n",
    "#     Vt_reduced = Vt[:n_components, :]  # Shape: (n_components, 251)\n",
    "    \n",
    "#     # Reconstruct reduced data\n",
    "#     cir_reduced = np.dot(U_reduced, np.diag(s_reduced))  # Shape: (2, n_components)\n",
    "#     data_reduced.append(cir_reduced.T)  # Append with shape (n_components, 2)\n",
    "\n",
    "# data_reduced = np.array(data_reduced)  # Shape: (10, 3, 2)\n",
    "# print(data_reduced.shape)  # Outputs: (10, 3, 2)\n",
    "\n",
    "data = np.random.randn(10, 251, 2)\n",
    "\n",
    "# Separate real and imaginary parts\n",
    "data_real = data[:, :, 0]  # Shape: (10, 251)\n",
    "data_imag = data[:, :, 1]  # Shape: (10, 251)\n",
    "print(data_real.shape)\n",
    "print(data_imag.shape)\n",
    "\n",
    "# Apply StandardScaler to standardize the data along the features axis\n",
    "scaler_real = StandardScaler()\n",
    "data_real_scaled = scaler_real.fit_transform(data_real)  # Shape: (10, 251)\n",
    "\n",
    "\n",
    "scaler_imag = StandardScaler()\n",
    "data_imag_scaled = scaler_imag.fit_transform(data_imag)  # Shape: (10, 251)\n",
    "\n",
    "\n",
    "pca_components = 4\n",
    "pca_real = PCA(n_components=pca_components)\n",
    "data_real_pca = pca_real.fit_transform(data_real_scaled)  # Shape: (10, 4)\n",
    "print(data_real_pca.shape)\n",
    "\n",
    "pca_imag = PCA(n_components=pca_components)\n",
    "data_imag_pca = pca_imag.fit_transform(data_imag_scaled)  # Shape: (10, 4)\n",
    "print(data_imag_pca.shape)\n",
    "\n",
    "data_pca = np.stack((data_real_pca, data_imag_pca), axis=2)  # Shape: (10, 4, 2)\n",
    "print(data_pca.shape)\n"
   ]
  }
 ],
 "metadata": {
  "kernelspec": {
   "display_name": "CRKG",
   "language": "python",
   "name": "python3"
  },
  "language_info": {
   "codemirror_mode": {
    "name": "ipython",
    "version": 3
   },
   "file_extension": ".py",
   "mimetype": "text/x-python",
   "name": "python",
   "nbconvert_exporter": "python",
   "pygments_lexer": "ipython3",
   "version": "3.12.3"
  }
 },
 "nbformat": 4,
 "nbformat_minor": 2
}
