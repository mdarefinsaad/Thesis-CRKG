{
 "cells": [
  {
   "cell_type": "markdown",
   "metadata": {},
   "source": [
    "Features - ( Real, Imaginary )\n",
    "\n",
    "CIRs - 8000\n",
    "\n",
    "Atoms - 16000, 128  \n",
    "trainData - 12800, 128  \n",
    "testData - 3200, 64\n",
    "\n",
    "dictionary - 128, 12800"
   ]
  },
  {
   "cell_type": "code",
   "execution_count": 82,
   "metadata": {},
   "outputs": [
    {
     "name": "stdout",
     "output_type": "stream",
     "text": [
      "(6400, 15, 251, 2) (1600, 15, 251, 2)\n"
     ]
    }
   ],
   "source": [
    "import numpy as np\n",
    "from sklearn.linear_model import OrthogonalMatchingPursuit\n",
    "import matplotlib.pyplot as plt\n",
    "from sklearn.model_selection import train_test_split \n",
    "from sklearn.metrics import confusion_matrix\n",
    "from sklearn.preprocessing import StandardScaler\n",
    "from sklearn.decomposition import PCA\n",
    "from sklearn.decomposition import DictionaryLearning\n",
    "\n",
    "np.set_printoptions(threshold=np.inf)\n",
    "np.set_printoptions(suppress=True)\n",
    "\n",
    "# measurement = np.load('../../dataset/meas_symm_1.npz', allow_pickle=False)\n",
    "# measurement = np.load('../../dataset/meas_symm_2.npz', allow_pickle=False)\n",
    "# measurement = np.load('../../dataset/meas_symm_3.npz', allow_pickle=False)\n",
    "# measurement = np.load('../../dataset/meas_symm_4.npz', allow_pickle=False)\n",
    "# measurement = np.load('../../dataset/meas_symm_5.npz', allow_pickle=False)\n",
    "# measurement = np.load('../../dataset/meas_symm_nomove_1.npz', allow_pickle=False) \n",
    "# measurement = np.load('../../dataset/meas_symm_varspeed_1.npz', allow_pickle=False)\n",
    "\n",
    "# measurement = np.load('../../dataset/meas_asymm_1.npz', allow_pickle=False)\n",
    "# measurement = np.load('../../dataset/meas_asymm_2.npz', allow_pickle=False)\n",
    "# measurement = np.load('../../dataset/meas_asymm_nomove_1.npz', allow_pickle=False)\n",
    "measurement = np.load('../../dataset/meas_asymm_reflector_1.npz', allow_pickle=False)\n",
    "\n",
    "header, data = measurement['header'], measurement['data']\n",
    "data_cir = data['cirs'][:8000]\n",
    "trainCIR, testCIR = train_test_split(data_cir, test_size=0.2, random_state=42)\n",
    "print(trainCIR.shape, testCIR.shape)"
   ]
  },
  {
   "cell_type": "code",
   "execution_count": 83,
   "metadata": {},
   "outputs": [],
   "source": [
    "def get64Samples(real, imag):\n",
    "\n",
    "    # Number of signalsd\n",
    "    num_signals = real.shape[0]  # 3 in this case\n",
    "    \n",
    "    # Initialize lists to store the focused samples\n",
    "    imp_real_parts = []\n",
    "    imp_imag_parts = []\n",
    "    img_mag_parts = []\n",
    "    \n",
    "    for i in range(num_signals):\n",
    "        # Calculate the magnitude\n",
    "        magnitude = np.abs(real[i] + 1j * imag[i])\n",
    "        \n",
    "        # find the peak index\n",
    "        peak_index = np.argmax(magnitude)\n",
    "        \n",
    "        # Calculate the start and end indices for the focused part\n",
    "        start_index = max(0, peak_index - 32)\n",
    "        end_index = min(magnitude.shape[0], peak_index + 32)\n",
    "        \n",
    "        # Extract the part of the signal around the peak\n",
    "        real_part_focus = real[i, start_index:end_index]\n",
    "        imag_part_focus = imag[i, start_index:end_index]\n",
    "        mag_part_focus = magnitude[start_index:end_index]\n",
    "        \n",
    "        imp_real_parts.append(real_part_focus)\n",
    "        imp_imag_parts.append(imag_part_focus)\n",
    "        img_mag_parts.append(mag_part_focus)\n",
    "        \n",
    "\n",
    "    # Convert lists back to arrays for further processing if needed\n",
    "    imp_real_parts = np.array(imp_real_parts)\n",
    "    imp_imag_parts = np.array(imp_imag_parts)\n",
    "    img_mag_parts = np.array(img_mag_parts)\n",
    "\n",
    "    return imp_real_parts, imp_imag_parts, img_mag_parts"
   ]
  },
  {
   "cell_type": "code",
   "execution_count": 84,
   "metadata": {},
   "outputs": [],
   "source": [
    "def getRealImaginaryMagnitudeParts(cirs):\n",
    "    real = cirs[:, :, 0]\n",
    "    imag = cirs[:, :, 1]\n",
    "    mag = np.abs(real + 1j * imag)\n",
    "    return real, imag, mag"
   ]
  },
  {
   "cell_type": "code",
   "execution_count": 85,
   "metadata": {},
   "outputs": [
    {
     "name": "stdout",
     "output_type": "stream",
     "text": [
      "atoms normalized : (12800, 753)\n",
      "atoms normalized pca : (12800, 250)\n"
     ]
    }
   ],
   "source": [
    "# Define channels\n",
    "alice_channel = 3  # Channel 3 is ALICE (legitimate)\n",
    "eve_channel = 6  # Channel 6 is EVE (illegitimate)\n",
    "\n",
    "# Extract data for ALICE and BOB channels\n",
    "alice_train_CIRs = trainCIR[:, alice_channel, :, :]  \n",
    "eve_train_CIRs = trainCIR[:, eve_channel, :, :] # (100, 251, 2)\n",
    "\n",
    "# Feature extraction\n",
    "alice_train_real, alice_train_imag, alice_train_magnitude = getRealImaginaryMagnitudeParts(alice_train_CIRs)\n",
    "alice_train_features = np.hstack((alice_train_real, alice_train_imag, alice_train_magnitude))\n",
    "\n",
    "eve_train_real, eve_train_imag, eve_train_magnitude = getRealImaginaryMagnitudeParts(eve_train_CIRs)\n",
    "eve_train_features = np.hstack((eve_train_real, eve_train_imag, eve_train_magnitude))\n",
    "\n",
    "# Create labels for Alice and Eve for training\n",
    "alice_train_labels = np.zeros(alice_train_features.shape[0])  # Label '0' for Alice.\n",
    "eve_train_labels = np.ones(eve_train_features.shape[0])       # Label '1' for Eve.\n",
    "\n",
    "# Combine data and labels for training\n",
    "train_atoms = np.vstack((alice_train_features, eve_train_features))\n",
    "train_labels = np.hstack((alice_train_labels, eve_train_labels))\n",
    "\n",
    "# Apply PCA for Dimensionality Reduction\n",
    "scaler = StandardScaler()\n",
    "train_atoms_normalized = scaler.fit_transform(train_atoms)\n",
    "print(f'atoms normalized : {train_atoms_normalized.shape}')\n",
    "\n",
    "pca = PCA(n_components=250)\n",
    "train_atoms_pca = pca.fit_transform(train_atoms_normalized)\n",
    "print(f'atoms normalized pca : {train_atoms_pca.shape}')\n",
    "\n",
    "D = train_atoms_pca.T\n"
   ]
  },
  {
   "cell_type": "code",
   "execution_count": 86,
   "metadata": {},
   "outputs": [],
   "source": [
    "# Step 3: Extract Features for Test Data\n",
    "alice_test_CIRs = testCIR[:, alice_channel, :, :]\n",
    "eve_test_CIRs = testCIR[:, eve_channel, :, :]\n",
    "\n",
    "alice_test_real, alice_test_imag, alice_test_magnitude = getRealImaginaryMagnitudeParts(alice_test_CIRs)\n",
    "alice_test_features = np.hstack((alice_test_real, alice_test_imag, alice_test_magnitude))\n",
    "\n",
    "eve_test_real, eve_test_imag, eve_test_magnitude = getRealImaginaryMagnitudeParts(eve_test_CIRs)\n",
    "eve_test_features = np.hstack((eve_test_real, eve_test_imag, eve_test_magnitude))\n",
    "\n",
    "# Create labels for Alice and Eve for testing\n",
    "alice_test_labels = np.zeros(alice_test_features.shape[0])  # Label '0' for Alice.\n",
    "eve_test_labels = np.ones(eve_test_features.shape[0])       # Label '1' for Eve.\n",
    "\n",
    "# Combine data and labels for testing\n",
    "test_atoms = np.vstack((alice_test_features, eve_test_features))\n",
    "test_labels = np.hstack((alice_test_labels, eve_test_labels))\n",
    "\n",
    "test_atoms_normalized = scaler.transform(test_atoms)\n",
    "test_atoms_pca = pca.transform(test_atoms_normalized)"
   ]
  },
  {
   "cell_type": "code",
   "execution_count": 87,
   "metadata": {},
   "outputs": [],
   "source": [
    "# Step 5: Sparse Coding Function\n",
    "def find_sparse_coefficients(tSample, D, n_nonzero_coefs=15):\n",
    "    omp = OrthogonalMatchingPursuit(n_nonzero_coefs=n_nonzero_coefs)\n",
    "    omp.fit(D, tSample)\n",
    "    return omp.coef_\n",
    "\n",
    "# Step 6: Function to Calculate Residuals for Each Class\n",
    "def calculate_residual(tSample, coefficients, class_indices, D):\n",
    "    coef_class = np.zeros_like(coefficients)\n",
    "    coef_class[class_indices] = coefficients[class_indices]  # Keep onltSample coefficients for the specified class\n",
    "    reconstructed_signal = D @ coef_class\n",
    "    residual = np.linalg.norm(tSample - reconstructed_signal)\n",
    "    return residual\n",
    "\n",
    "# Step 7: Classification Function\n",
    "def classify_signal(tSample, D, trainLabel):\n",
    "    \n",
    "    coefficients = find_sparse_coefficients(tSample, D)\n",
    "    \n",
    "    residuals = []\n",
    "\n",
    "    unique_classes = np.unique(trainLabel) # 0 and 1\n",
    "    for class_label in unique_classes:\n",
    "        class_indices = np.where(trainLabel == class_label)[0]  # Indices of columns in D belonging to this class\n",
    "        residual = calculate_residual(tSample, coefficients, class_indices, D)\n",
    "        residuals.append(residual)\n",
    "\n",
    "    # Predict the class with the smallest residual\n",
    "    predicted_class = unique_classes[np.argmin(residuals)]\n",
    "    return predicted_class"
   ]
  },
  {
   "cell_type": "code",
   "execution_count": 88,
   "metadata": {},
   "outputs": [
    {
     "name": "stdout",
     "output_type": "stream",
     "text": [
      "Classification Accuracy: 60.81%\n"
     ]
    }
   ],
   "source": [
    "# Step 8: Classifying Test Data and Evaluating the Model\n",
    "predictions = []\n",
    "\n",
    "for testSample in test_atoms_pca:\n",
    "    predicted_class = classify_signal(testSample, D, train_labels)\n",
    "    predictions.append(predicted_class)\n",
    "\n",
    "\n",
    "predictions = np.array(predictions)\n",
    "# print(predictions.shape)\n",
    "\n",
    "accuracy = np.mean(predictions == test_labels)\n",
    "print(f\"Classification Accuracy: {accuracy * 100:.2f}%\")"
   ]
  },
  {
   "cell_type": "code",
   "execution_count": 89,
   "metadata": {},
   "outputs": [
    {
     "name": "stdout",
     "output_type": "stream",
     "text": [
      "\n",
      "Total testing channel: (3200,)\n",
      "tp: 1557\n",
      "tn: 389\n",
      "fp: 1211\n",
      "fn: 43\n",
      "MDR: 0.756875\n",
      "FAR: 0.026875\n",
      "AR: 0.608125\n"
     ]
    }
   ],
   "source": [
    "# Calculate confusion matrix\n",
    "print(f\"\\nTotal testing channel: {test_labels.shape}\")\n",
    "\n",
    "tn, fp, fn, tp = confusion_matrix(test_labels, predictions, labels=[0, 1]).ravel()\n",
    "\n",
    "print(f\"tp: {tp}\")\n",
    "print(f\"tn: {tn}\")\n",
    "print(f\"fp: {fp}\")\n",
    "print(f\"fn: {fn}\")\n",
    "\n",
    "# # Missed Detection Rate (MDR)\n",
    "MDR = fp / (fp + tn)\n",
    "\n",
    "# # False Alarm Rate (FAR)\n",
    "FAR = fn / (fn + tp)\n",
    "\n",
    "# # Gamma calculation\n",
    "gamma = (tp + fn) / (tn + fp)\n",
    "\n",
    "# # Authentication Rate (AR)\n",
    "AR = (tp + gamma * tn) / ((tp + fn) + gamma * (tn + fp))\n",
    "\n",
    "print(f\"MDR: {MDR}\")\n",
    "print(f\"FAR: {FAR}\")\n",
    "print(f\"AR: {AR}\")"
   ]
  }
 ],
 "metadata": {
  "kernelspec": {
   "display_name": "CRKG",
   "language": "python",
   "name": "python3"
  },
  "language_info": {
   "codemirror_mode": {
    "name": "ipython",
    "version": 3
   },
   "file_extension": ".py",
   "mimetype": "text/x-python",
   "name": "python",
   "nbconvert_exporter": "python",
   "pygments_lexer": "ipython3",
   "version": "3.12.3"
  }
 },
 "nbformat": 4,
 "nbformat_minor": 2
}
