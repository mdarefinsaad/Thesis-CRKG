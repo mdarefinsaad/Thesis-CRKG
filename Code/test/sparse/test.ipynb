{
 "cells": [
  {
   "cell_type": "code",
   "execution_count": 12,
   "metadata": {},
   "outputs": [
    {
     "name": "stdout",
     "output_type": "stream",
     "text": [
      "[[ 1  3  2  4]\n",
      " [ 9 11 10 12]\n",
      " [17 19 18 20]]\n",
      "[ 1  3  2  4  9 11 10 12 17 19 18 20]\n"
     ]
    }
   ],
   "source": [
    "import numpy as np\n",
    "\n",
    "# Array slicing\n",
    "data = {\n",
    "    'cirs': np.array(\n",
    "        [ # CIR (9797)\n",
    "            [ # channel (15)\n",
    "                [ #sample (251)\n",
    "                    [1, 2], # real, imag \n",
    "                    [3, 4]\n",
    "                ],\n",
    "                [   \n",
    "                    [5, 6], \n",
    "                    [7, 8]\n",
    "                ]\n",
    "            ],\n",
    "            [\n",
    "                [[9, 10], [11, 12]],\n",
    "                [[13, 14], [15, 16]]\n",
    "            ],\n",
    "            [\n",
    "                [[17, 18], [19, 20]],\n",
    "                [[21, 22], [23, 24]]\n",
    "            ]\n",
    "        ]\n",
    "    )\n",
    "}\n",
    "data_cir = data['cirs']\n",
    "\n",
    "alice_real = data_cir[:, 0, :, 0]\n",
    "alice_imag = data_cir[:, 0, :, 1]\n",
    "\n",
    "alice_feature = np.column_stack((alice_real, alice_imag))\n",
    "print(alice_feature)\n",
    "\n",
    "print(np.hstack((alice_real, alice_imag)).flatten())"
   ]
  }
 ],
 "metadata": {
  "kernelspec": {
   "display_name": "CRKG",
   "language": "python",
   "name": "python3"
  },
  "language_info": {
   "codemirror_mode": {
    "name": "ipython",
    "version": 3
   },
   "file_extension": ".py",
   "mimetype": "text/x-python",
   "name": "python",
   "nbconvert_exporter": "python",
   "pygments_lexer": "ipython3",
   "version": "3.12.3"
  }
 },
 "nbformat": 4,
 "nbformat_minor": 2
}
