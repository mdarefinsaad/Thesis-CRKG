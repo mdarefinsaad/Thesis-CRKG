{
 "cells": [
  {
   "cell_type": "code",
   "execution_count": 1,
   "metadata": {},
   "outputs": [
    {
     "name": "stdout",
     "output_type": "stream",
     "text": [
      "[[[9]]]\n"
     ]
    }
   ],
   "source": [
    "import numpy as np\n",
    "\n",
    "# Understanding Array\n",
    "\n",
    "# Array slicing\n",
    "data = {\n",
    "    'cirs': np.array(\n",
    "        [\n",
    "            [\n",
    "                [[1, 2], [3, 4]],\n",
    "                [[5, 6], [7, 8]]\n",
    "            ],\n",
    "            [\n",
    "                [[9, 10], [11, 12]],\n",
    "                [[13, 14], [15, 16]]\n",
    "            ],\n",
    "            [\n",
    "                [[17, 18], [19, 20]],\n",
    "                [[21, 22], [23, 24]]\n",
    "            ]\n",
    "        ]\n",
    "    )\n",
    "}\n",
    "\n",
    "# print(data['cirs'].shape)\n",
    "# result = data['cirs'][0:2]\n",
    "# print(result)\n",
    "\n",
    "result = data['cirs'][1, :1, :1, :1]\n",
    "print(result)"
   ]
  }
 ],
 "metadata": {
  "kernelspec": {
   "display_name": "CRKG",
   "language": "python",
   "name": "python3"
  },
  "language_info": {
   "codemirror_mode": {
    "name": "ipython",
    "version": 3
   },
   "file_extension": ".py",
   "mimetype": "text/x-python",
   "name": "python",
   "nbconvert_exporter": "python",
   "pygments_lexer": "ipython3",
   "version": "3.12.3"
  }
 },
 "nbformat": 4,
 "nbformat_minor": 2
}
